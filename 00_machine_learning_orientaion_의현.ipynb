{
 "cells": [
  {
   "cell_type": "markdown",
   "metadata": {
    "slideshow": {
     "slide_type": "slide"
    }
   },
   "source": [
    "# 머신러닝 오리엔테이션"
   ]
  },
  {
   "cell_type": "markdown",
   "metadata": {},
   "source": [
    "## 머신러닝의 정의 및 범위\n",
    "<img src=\"https://drive.google.com/uc?id=1iO8dDU0AXVC4s4UDn-M6QjxvFUhC1x46\">  \n",
    "\n",
    "출처 : https://www.deeplearningbook.org/contents/intro.html"
   ]
  },
  {
   "cell_type": "markdown",
   "metadata": {},
   "source": [
    "### 머신러닝 이전의 데이터 분석 혹은 모델링과의 차이\n",
    "> 기존 모델링  \n",
    ">> **사람이 알고리즘 설계 및 코딩**  \n",
    "**전문가 혹은 도메인 지식을 바탕**으로 한 조건에 따른 작업 지시 혹은 결과 도출(모델링)  \n",
    "**사람의 주관**이 많이 개입 된 모델링, 경험적 모델링  \n",
    "\n",
    "> 머신러닝 모델링  \n",
    ">> 사람이 코딩을 하는 것은 같음  \n",
    "**머신러닝 알고리즘에 따라 데이터를 학습하고 그에 따라 컴퓨터가 모델링**  \n",
    "**데이터 기반의 모델학습**에 따른 모델링, 데이터 모델링\n",
    "\n",
    "즉 기존 방법은 경험적으로 학습한 전문가에 의한 모델링이 이루어졌다면 머신러닝 모델링은 데이터를 학습한 알고리즘으로서 모델링을 합니다."
   ]
  },
  {
   "cell_type": "markdown",
   "metadata": {},
   "source": [
    "### 용어정리\n",
    "머신러닝은 태생적으로 여러 분야가 결합된 분야이기 때문에 실무자들은 종종 동일한 의미에 대해 다양한 용어들을 사용합니다.  \n",
    "혼용하는 용어를 정리해보겠습니다.\n",
    "> **알고리즘(algorithm)** : 모델, 혹은 머신러닝 기법을 실행하기 위한 특정 절차  \n",
    "**특징(feature)** : 입력값으로 사용되는 변수들 속성, 입력변수, 독립변수, X라고도 부름  \n",
    "**샘플(sample)** : 데이터의 기본 단위. 하나의 사건 혹은 시점. 레코드, 인스턴스, 관측치로 부름  \n",
    "**레이블(label)** : 한 샘플에 대한 정답 값. 클래스, 정답, 종속변수, y라고 부름"
   ]
  },
  {
   "cell_type": "markdown",
   "metadata": {},
   "source": [
    "### 머신러닝의 기본컨셉\n",
    "\n",
    "# $$y = f(x)$$\n",
    "\n",
    "* $y$ = 해결해야 하는 문제 (종속변수, target data)\n",
    "* $f()$ = 머신러닝 알고리즘 (모델)\n",
    "* $x$ = 훈련데이터 (설명변수, train data)\n",
    "\n",
    "###### 머신러닝 프로젝트는 결국 $y$를 어떻게 풀어낼 것인가에 대한 기획"
   ]
  },
  {
   "cell_type": "markdown",
   "metadata": {},
   "source": [
    "  "
   ]
  },
  {
   "cell_type": "markdown",
   "metadata": {
    "slideshow": {
     "slide_type": "slide"
    }
   },
   "source": [
    "## 머신러닝의 구분\n",
    "**$y$** 데이터의 존재 유무에 따라 **지도학습**과 **비지도 학습**으로 구분하며  \n",
    "각각의 학습방법 내 **$y$** 데이터의 종류에 따라 **예측**, **분류** 문제로 구분합니다.  \n",
    "\n",
    "### 지도학습(supervised learning 지도학습) -  $y$값이 존재\n",
    "- 모델이 예측/분류를 하기 위한 정답/target값 까지 함께 학습하는 머신러닝 모델  \n",
    "- 정답(label)값이 반드시 필요\n",
    "\n",
    "#### 해결 가능한 $y$ 값의 데이터에 따른 분류\n",
    "\n",
    "##### **예측(prediction, regression)** : 종속변수가 **연속형** 데이터  \n",
    "> * 연속형 데이터 - 매출, 온도, 시간, 코스피지수, 가격 등  \n",
    "> * 자연수 0과 1사이에는 무수히 많은 실수가 존재하고 그 무한한 값의 범위를 갖는 데이터를 연속형 데이터라 한다.  \n",
    ">   \n",
    "<img src=\"https://drive.google.com/uc?id=1upJ_JAfY6wIAo5oTpsPB-hgVNFGA2TsU\">\n",
    "\n",
    "\n",
    "##### **분류(classification)** : 종속변수가 **범주형** 데이터\n",
    "> * 범주형 데이터 - 성별, 신용등급, 브랜드, 기차역등  \n",
    "> * 남성 혹은 여성 구분처럼 이진형 구분(0 혹은 1), 데이터가 특정 범위내에 모두 속한 데이터의 경우 범주형 데이터 혹은 카테고리 데이터라고 한다.\n",
    ">  \n",
    "<img src=\"https://drive.google.com/uc?id=18tjMbHMCBbuNXincFptdfaqbWT7xWlgA\">\n",
    "\n",
    "###### 정답을 주고 컴퓨터가 이 정답을 맞출 수 있도록 학습, 객관적 평가 가능\n",
    "###### 지도학습은 무조건 과거 정답 데이터가 있어야 합니다."
   ]
  },
  {
   "cell_type": "markdown",
   "metadata": {},
   "source": [
    "  "
   ]
  },
  {
   "cell_type": "markdown",
   "metadata": {},
   "source": [
    "### 비지도학습(unsupervised learning)\n",
    "모델이 학습을 하기위한 정답값이 없는 경우 활용가능한 머신러닝 모델  \n",
    "군집화, 추천시스템에 활용 가능\n",
    "\n",
    "#### 해결 가능한 $y$ 값의 데이터에 따른 분류\n",
    "\n",
    "##### **군집화(clustering)** : 모델 결과값이  **범주형** 데이터\n",
    "> * 정답이 없는 데이터를 모델에 따라 비슷한 샘플끼리 묶어주는 머신러닝 알고리즘\n",
    "> * 데이터에 숨겨진 특징이나 구조를 발견하여 같은 특징에 따라 구분\n",
    "> * 군집분석 후 어떤 군집인지 역추적해서 데이터 마이닝 \n",
    ">  \n",
    "<img src=\"https://drive.google.com/uc?id=1Ro4q6eQpQv4MJlJr_CYlII8WnmYzuhi3\">\n",
    "\n",
    "##### **연관규칙분석(association rule analysis)** : 모델 결과값이 스코어 혹은 샘플\n",
    "> * 보통 추천시스템이라 부르며 매출 및 유저의 구매기록에 기반한 규칙을 찾는 알고리즘\n",
    "> * 아이템 혹은 유저를 기준으로 비슷한 아이템 및 유저를 찾아 비슷한 데이터를 찾음.\n",
    ">  \n",
    "<img src=\"https://drive.google.com/uc?id=1u5-Fkq-DF5w9OC7CRgpJuxEEjPYYdtZW\">\n",
    "\n",
    "###### 평가에 필요한 과거 정답데이터가 없기에 객관적 평가 불가능"
   ]
  },
  {
   "cell_type": "markdown",
   "metadata": {},
   "source": [
    "<small>이미지출처 : https://snowdeer.github.io/machine-learning/2016/09/03/machine-learning-algorithms/</small>  \n",
    "<small>https://www.kdnuggets.com/2016/04/association-rules-apriori-algorithm-tutorial.html</small>"
   ]
  },
  {
   "cell_type": "markdown",
   "metadata": {},
   "source": [
    "### 문제정의\n",
    "데이터를 기반으로 한 모델링으로 어떠한 문제를 해결해야 할지 정의하는 단계  \n",
    "올바른 문제정의가 된다면 이후 프로세스를 진행하기 수월해집니다.\n",
    "통계적 배경지식이 중요(업무 base)\n",
    "\n",
    "문제정의 예시\n",
    "> 1. 불량데이터를 바탕으로 한 공정 중요도 파악  \n",
    "종속변수 : 제품불량 (OK or NG)  -> 분류분석  \n",
    "설명변수 : 공정데이터 각 공정별 설비 로그 및 측정 가능한 데이터  \n",
    "모델 : 제품불량에 영향을 미치는 공정을 찾아내기 위한 설명력이 우수한 tree base 모델  \n",
    "\n",
    "> 2. 3/4 메모리 반도체 수요 예측  \n",
    "종속변수 : 메모리 반도체 수요  -> 예측  \n",
    "설명변수 : 반도체 가격, 타사 생산량, 환율, 스마트폰 판매량, 서버 판매량, 원자재 지수 등  \n",
    "모델 : 예측문제를 해결하기 위한 regression 모델\n",
    "\n",
    "> 3. 이미지 처리 기반 제조 공정 불량 분류 자동화  \n",
    "종속변수 : 불량품 분류 데이터  -> 분류분석  \n",
    "설명변수 : 공정 별 제품 이미지 샘플  \n",
    "모델 : 이미지 처리를 위한 딥러닝 CNN 분류 모델  \n",
    "\n",
    "> 4. 알파고 -> 분류 모델. 91x91 중 한 칸 선택  \n",
    "\n",
    "> 5. 번역기 -> 분류(단어 선택) + 시계열(배열). 많이 쓸수록 더 정확해짐    \n",
    "\n",
    "복잡한 문제를 해결해야 할 경우 위의 1개 문제 = 1개 데이터셋의 원칙을 지키면 혼동이 덜 함    \n",
    "\n",
    "머신러닝은 분류/예측 두 가지만 가능..! "
   ]
  },
  {
   "cell_type": "markdown",
   "metadata": {},
   "source": [
    "## 파이썬 머신러닝 패키지 scikit-learn\n",
    "> 머신러닝 모델링을 위한 파이썬 오픈소스 패키지  \n",
    "> 다양한 머신러닝 모델뿐 아니라 머신러닝 모델링을 위한 전처리 알고리즘, 평가지표, 운영 방법론을 제공한다.  \n",
    "\n",
    ">> [https://scikit-learn.org/stable](https://scikit-learn.org/stable/)"
   ]
  },
  {
   "cell_type": "markdown",
   "metadata": {},
   "source": [
    "## 지도학습 머신러닝 데이터 플로우 프로세스\n",
    "문제 정의 → 수집 → 전처리 → 모델링 → 평가\n",
    "\n",
    "### 데이터셋 제작 및 확보\n",
    "데이터셋 : 수집, 전처리 과정 마친 데이터. 바로 모델링 운용 가능한 상태\n",
    "<img src=\"https://drive.google.com/uc?id=1oXI5muAceEO8dgFIVBaeEfjkRUj6it_Z\" height=\"300px\" width=\"300px\">"
   ]
  },
  {
   "cell_type": "code",
   "execution_count": 2,
   "metadata": {
    "ExecuteTime": {
     "end_time": "2022-10-31T18:42:43.332075Z",
     "start_time": "2022-10-31T18:42:43.198575Z"
    }
   },
   "outputs": [],
   "source": [
    "# 필요모듈 import \n",
    "import numpy as np\n",
    "import pandas as pd"
   ]
  },
  {
   "cell_type": "code",
   "execution_count": 3,
   "metadata": {
    "ExecuteTime": {
     "end_time": "2022-10-31T18:44:58.264430Z",
     "start_time": "2022-10-31T18:44:58.240506Z"
    },
    "scrolled": true
   },
   "outputs": [
    {
     "data": {
      "text/plain": [
       "'\\n각 데이터별 설명\\n- CRIM : 마을당 범죄율\\n- ZN : 25,000 평방피트 이상의 부지에 대한 주거용지 비율\\n- INDUS : 마을당 상업지구 비율\\n- CHAS : Charles River 인접 여부\\n- NOX : 질소산화물 농도\\n- RM : 주택 당 방 개수\\n- AGE : 1940년 이전에 건설 된 자가 점유 유닛 비율\\n- DIS : 보스턴 고용센터까지의 가중치 거리\\n- RAD : 고속도로 접근도 지수\\n- TAX : 10,000달러 당 재산세\\n- PTRATIO : 마을별 학생 대 교사 비율\\n- B : 마을별 흑인 비율\\n- LSTAT : 마을별 인구 당 저소득층 비율\\n'"
      ]
     },
     "execution_count": 3,
     "metadata": {},
     "output_type": "execute_result"
    }
   ],
   "source": [
    "# 분석 프로세스 예시를 위해 보스턴 주택가격 예측 데이터셋을 사용하겠습니다.\n",
    "# 보스턴 주택가격 예측을 위한 데이터로서 13개의 설명변수(X) 와 보스턴 집값(y)로 구성되어 있는 데이터셋입니다.\n",
    "# 설명변수의 설명은 아래와 같습니다.\n",
    "# 보스턴 집값 데이터 로딩\n",
    "df = pd.read_csv('./data/boston.csv')\n",
    "'''\n",
    "각 데이터별 설명\n",
    "- CRIM : 마을당 범죄율\n",
    "- ZN : 25,000 평방피트 이상의 부지에 대한 주거용지 비율\n",
    "- INDUS : 마을당 상업지구 비율\n",
    "- CHAS : Charles River 인접 여부\n",
    "- NOX : 질소산화물 농도\n",
    "- RM : 주택 당 방 개수\n",
    "- AGE : 1940년 이전에 건설 된 자가 점유 유닛 비율\n",
    "- DIS : 보스턴 고용센터까지의 가중치 거리\n",
    "- RAD : 고속도로 접근도 지수\n",
    "- TAX : 10,000달러 당 재산세\n",
    "- PTRATIO : 마을별 학생 대 교사 비율\n",
    "- B : 마을별 흑인 비율\n",
    "- LSTAT : 마을별 인구 당 저소득층 비율\n",
    "'''\n",
    "# y: 집값. 연속형 변수. 예측 문제"
   ]
  },
  {
   "cell_type": "code",
   "execution_count": 4,
   "metadata": {},
   "outputs": [
    {
     "data": {
      "text/html": [
       "<div>\n",
       "<style scoped>\n",
       "    .dataframe tbody tr th:only-of-type {\n",
       "        vertical-align: middle;\n",
       "    }\n",
       "\n",
       "    .dataframe tbody tr th {\n",
       "        vertical-align: top;\n",
       "    }\n",
       "\n",
       "    .dataframe thead th {\n",
       "        text-align: right;\n",
       "    }\n",
       "</style>\n",
       "<table border=\"1\" class=\"dataframe\">\n",
       "  <thead>\n",
       "    <tr style=\"text-align: right;\">\n",
       "      <th></th>\n",
       "      <th>CRIM</th>\n",
       "      <th>ZN</th>\n",
       "      <th>INDUS</th>\n",
       "      <th>CHAS</th>\n",
       "      <th>NOX</th>\n",
       "      <th>RM</th>\n",
       "      <th>AGE</th>\n",
       "      <th>DIS</th>\n",
       "      <th>RAD</th>\n",
       "      <th>TAX</th>\n",
       "      <th>PTRATIO</th>\n",
       "      <th>B</th>\n",
       "      <th>LSTAT</th>\n",
       "      <th>y</th>\n",
       "    </tr>\n",
       "  </thead>\n",
       "  <tbody>\n",
       "    <tr>\n",
       "      <th>0</th>\n",
       "      <td>0.00632</td>\n",
       "      <td>18.0</td>\n",
       "      <td>2.31</td>\n",
       "      <td>0.0</td>\n",
       "      <td>0.538</td>\n",
       "      <td>6.575</td>\n",
       "      <td>65.2</td>\n",
       "      <td>4.0900</td>\n",
       "      <td>1.0</td>\n",
       "      <td>296.0</td>\n",
       "      <td>15.3</td>\n",
       "      <td>396.90</td>\n",
       "      <td>4.98</td>\n",
       "      <td>24.0</td>\n",
       "    </tr>\n",
       "    <tr>\n",
       "      <th>1</th>\n",
       "      <td>0.02731</td>\n",
       "      <td>0.0</td>\n",
       "      <td>7.07</td>\n",
       "      <td>0.0</td>\n",
       "      <td>0.469</td>\n",
       "      <td>6.421</td>\n",
       "      <td>78.9</td>\n",
       "      <td>4.9671</td>\n",
       "      <td>2.0</td>\n",
       "      <td>242.0</td>\n",
       "      <td>17.8</td>\n",
       "      <td>396.90</td>\n",
       "      <td>9.14</td>\n",
       "      <td>21.6</td>\n",
       "    </tr>\n",
       "    <tr>\n",
       "      <th>2</th>\n",
       "      <td>0.02729</td>\n",
       "      <td>0.0</td>\n",
       "      <td>7.07</td>\n",
       "      <td>0.0</td>\n",
       "      <td>0.469</td>\n",
       "      <td>7.185</td>\n",
       "      <td>61.1</td>\n",
       "      <td>4.9671</td>\n",
       "      <td>2.0</td>\n",
       "      <td>242.0</td>\n",
       "      <td>17.8</td>\n",
       "      <td>392.83</td>\n",
       "      <td>4.03</td>\n",
       "      <td>34.7</td>\n",
       "    </tr>\n",
       "    <tr>\n",
       "      <th>3</th>\n",
       "      <td>0.03237</td>\n",
       "      <td>0.0</td>\n",
       "      <td>2.18</td>\n",
       "      <td>0.0</td>\n",
       "      <td>0.458</td>\n",
       "      <td>6.998</td>\n",
       "      <td>45.8</td>\n",
       "      <td>6.0622</td>\n",
       "      <td>3.0</td>\n",
       "      <td>222.0</td>\n",
       "      <td>18.7</td>\n",
       "      <td>394.63</td>\n",
       "      <td>2.94</td>\n",
       "      <td>33.4</td>\n",
       "    </tr>\n",
       "    <tr>\n",
       "      <th>4</th>\n",
       "      <td>0.06905</td>\n",
       "      <td>0.0</td>\n",
       "      <td>2.18</td>\n",
       "      <td>0.0</td>\n",
       "      <td>0.458</td>\n",
       "      <td>7.147</td>\n",
       "      <td>54.2</td>\n",
       "      <td>6.0622</td>\n",
       "      <td>3.0</td>\n",
       "      <td>222.0</td>\n",
       "      <td>18.7</td>\n",
       "      <td>396.90</td>\n",
       "      <td>5.33</td>\n",
       "      <td>36.2</td>\n",
       "    </tr>\n",
       "  </tbody>\n",
       "</table>\n",
       "</div>"
      ],
      "text/plain": [
       "      CRIM    ZN  INDUS  CHAS    NOX     RM   AGE     DIS  RAD    TAX  \\\n",
       "0  0.00632  18.0   2.31   0.0  0.538  6.575  65.2  4.0900  1.0  296.0   \n",
       "1  0.02731   0.0   7.07   0.0  0.469  6.421  78.9  4.9671  2.0  242.0   \n",
       "2  0.02729   0.0   7.07   0.0  0.469  7.185  61.1  4.9671  2.0  242.0   \n",
       "3  0.03237   0.0   2.18   0.0  0.458  6.998  45.8  6.0622  3.0  222.0   \n",
       "4  0.06905   0.0   2.18   0.0  0.458  7.147  54.2  6.0622  3.0  222.0   \n",
       "\n",
       "   PTRATIO       B  LSTAT     y  \n",
       "0     15.3  396.90   4.98  24.0  \n",
       "1     17.8  396.90   9.14  21.6  \n",
       "2     17.8  392.83   4.03  34.7  \n",
       "3     18.7  394.63   2.94  33.4  \n",
       "4     18.7  396.90   5.33  36.2  "
      ]
     },
     "execution_count": 4,
     "metadata": {},
     "output_type": "execute_result"
    }
   ],
   "source": [
    "df.head()"
   ]
  },
  {
   "cell_type": "code",
   "execution_count": 5,
   "metadata": {},
   "outputs": [
    {
     "name": "stdout",
     "output_type": "stream",
     "text": [
      "<class 'pandas.core.frame.DataFrame'>\n",
      "RangeIndex: 506 entries, 0 to 505\n",
      "Data columns (total 14 columns):\n",
      " #   Column   Non-Null Count  Dtype  \n",
      "---  ------   --------------  -----  \n",
      " 0   CRIM     506 non-null    float64\n",
      " 1   ZN       506 non-null    float64\n",
      " 2   INDUS    506 non-null    float64\n",
      " 3   CHAS     506 non-null    float64\n",
      " 4   NOX      506 non-null    float64\n",
      " 5   RM       506 non-null    float64\n",
      " 6   AGE      506 non-null    float64\n",
      " 7   DIS      506 non-null    float64\n",
      " 8   RAD      506 non-null    float64\n",
      " 9   TAX      506 non-null    float64\n",
      " 10  PTRATIO  506 non-null    float64\n",
      " 11  B        506 non-null    float64\n",
      " 12  LSTAT    506 non-null    float64\n",
      " 13  y        506 non-null    float64\n",
      "dtypes: float64(14)\n",
      "memory usage: 55.5 KB\n"
     ]
    }
   ],
   "source": [
    "df.info()"
   ]
  },
  {
   "cell_type": "markdown",
   "metadata": {},
   "source": [
    "#### 타겟데이터(y) 분리\n",
    "<img src=\"https://drive.google.com/uc?id=1lOLMlr2hidL0PpfaJeQmDuVcvV0pU09c\" height=\"300px\" width=\"300px\">"
   ]
  },
  {
   "cell_type": "code",
   "execution_count": 6,
   "metadata": {
    "ExecuteTime": {
     "end_time": "2022-10-31T18:45:11.634684Z",
     "start_time": "2022-10-31T18:45:11.626644Z"
    }
   },
   "outputs": [],
   "source": [
    "# X, y 분리\n",
    "y = df['y']      # series는 소문자로, df는 대문자로 변수명 생성하면 구분 쉬움\n",
    "X = df.drop('y', axis=1)  # axis = 1 (가로, 컬럼 방향) "
   ]
  },
  {
   "cell_type": "code",
   "execution_count": 7,
   "metadata": {
    "scrolled": true
   },
   "outputs": [
    {
     "data": {
      "text/html": [
       "<div>\n",
       "<style scoped>\n",
       "    .dataframe tbody tr th:only-of-type {\n",
       "        vertical-align: middle;\n",
       "    }\n",
       "\n",
       "    .dataframe tbody tr th {\n",
       "        vertical-align: top;\n",
       "    }\n",
       "\n",
       "    .dataframe thead th {\n",
       "        text-align: right;\n",
       "    }\n",
       "</style>\n",
       "<table border=\"1\" class=\"dataframe\">\n",
       "  <thead>\n",
       "    <tr style=\"text-align: right;\">\n",
       "      <th></th>\n",
       "      <th>CRIM</th>\n",
       "      <th>ZN</th>\n",
       "      <th>INDUS</th>\n",
       "      <th>CHAS</th>\n",
       "      <th>NOX</th>\n",
       "      <th>RM</th>\n",
       "      <th>AGE</th>\n",
       "      <th>DIS</th>\n",
       "      <th>RAD</th>\n",
       "      <th>TAX</th>\n",
       "      <th>PTRATIO</th>\n",
       "      <th>B</th>\n",
       "      <th>LSTAT</th>\n",
       "    </tr>\n",
       "  </thead>\n",
       "  <tbody>\n",
       "    <tr>\n",
       "      <th>0</th>\n",
       "      <td>0.00632</td>\n",
       "      <td>18.0</td>\n",
       "      <td>2.31</td>\n",
       "      <td>0.0</td>\n",
       "      <td>0.538</td>\n",
       "      <td>6.575</td>\n",
       "      <td>65.2</td>\n",
       "      <td>4.0900</td>\n",
       "      <td>1.0</td>\n",
       "      <td>296.0</td>\n",
       "      <td>15.3</td>\n",
       "      <td>396.90</td>\n",
       "      <td>4.98</td>\n",
       "    </tr>\n",
       "    <tr>\n",
       "      <th>1</th>\n",
       "      <td>0.02731</td>\n",
       "      <td>0.0</td>\n",
       "      <td>7.07</td>\n",
       "      <td>0.0</td>\n",
       "      <td>0.469</td>\n",
       "      <td>6.421</td>\n",
       "      <td>78.9</td>\n",
       "      <td>4.9671</td>\n",
       "      <td>2.0</td>\n",
       "      <td>242.0</td>\n",
       "      <td>17.8</td>\n",
       "      <td>396.90</td>\n",
       "      <td>9.14</td>\n",
       "    </tr>\n",
       "    <tr>\n",
       "      <th>2</th>\n",
       "      <td>0.02729</td>\n",
       "      <td>0.0</td>\n",
       "      <td>7.07</td>\n",
       "      <td>0.0</td>\n",
       "      <td>0.469</td>\n",
       "      <td>7.185</td>\n",
       "      <td>61.1</td>\n",
       "      <td>4.9671</td>\n",
       "      <td>2.0</td>\n",
       "      <td>242.0</td>\n",
       "      <td>17.8</td>\n",
       "      <td>392.83</td>\n",
       "      <td>4.03</td>\n",
       "    </tr>\n",
       "    <tr>\n",
       "      <th>3</th>\n",
       "      <td>0.03237</td>\n",
       "      <td>0.0</td>\n",
       "      <td>2.18</td>\n",
       "      <td>0.0</td>\n",
       "      <td>0.458</td>\n",
       "      <td>6.998</td>\n",
       "      <td>45.8</td>\n",
       "      <td>6.0622</td>\n",
       "      <td>3.0</td>\n",
       "      <td>222.0</td>\n",
       "      <td>18.7</td>\n",
       "      <td>394.63</td>\n",
       "      <td>2.94</td>\n",
       "    </tr>\n",
       "    <tr>\n",
       "      <th>4</th>\n",
       "      <td>0.06905</td>\n",
       "      <td>0.0</td>\n",
       "      <td>2.18</td>\n",
       "      <td>0.0</td>\n",
       "      <td>0.458</td>\n",
       "      <td>7.147</td>\n",
       "      <td>54.2</td>\n",
       "      <td>6.0622</td>\n",
       "      <td>3.0</td>\n",
       "      <td>222.0</td>\n",
       "      <td>18.7</td>\n",
       "      <td>396.90</td>\n",
       "      <td>5.33</td>\n",
       "    </tr>\n",
       "    <tr>\n",
       "      <th>...</th>\n",
       "      <td>...</td>\n",
       "      <td>...</td>\n",
       "      <td>...</td>\n",
       "      <td>...</td>\n",
       "      <td>...</td>\n",
       "      <td>...</td>\n",
       "      <td>...</td>\n",
       "      <td>...</td>\n",
       "      <td>...</td>\n",
       "      <td>...</td>\n",
       "      <td>...</td>\n",
       "      <td>...</td>\n",
       "      <td>...</td>\n",
       "    </tr>\n",
       "    <tr>\n",
       "      <th>501</th>\n",
       "      <td>0.06263</td>\n",
       "      <td>0.0</td>\n",
       "      <td>11.93</td>\n",
       "      <td>0.0</td>\n",
       "      <td>0.573</td>\n",
       "      <td>6.593</td>\n",
       "      <td>69.1</td>\n",
       "      <td>2.4786</td>\n",
       "      <td>1.0</td>\n",
       "      <td>273.0</td>\n",
       "      <td>21.0</td>\n",
       "      <td>391.99</td>\n",
       "      <td>9.67</td>\n",
       "    </tr>\n",
       "    <tr>\n",
       "      <th>502</th>\n",
       "      <td>0.04527</td>\n",
       "      <td>0.0</td>\n",
       "      <td>11.93</td>\n",
       "      <td>0.0</td>\n",
       "      <td>0.573</td>\n",
       "      <td>6.120</td>\n",
       "      <td>76.7</td>\n",
       "      <td>2.2875</td>\n",
       "      <td>1.0</td>\n",
       "      <td>273.0</td>\n",
       "      <td>21.0</td>\n",
       "      <td>396.90</td>\n",
       "      <td>9.08</td>\n",
       "    </tr>\n",
       "    <tr>\n",
       "      <th>503</th>\n",
       "      <td>0.06076</td>\n",
       "      <td>0.0</td>\n",
       "      <td>11.93</td>\n",
       "      <td>0.0</td>\n",
       "      <td>0.573</td>\n",
       "      <td>6.976</td>\n",
       "      <td>91.0</td>\n",
       "      <td>2.1675</td>\n",
       "      <td>1.0</td>\n",
       "      <td>273.0</td>\n",
       "      <td>21.0</td>\n",
       "      <td>396.90</td>\n",
       "      <td>5.64</td>\n",
       "    </tr>\n",
       "    <tr>\n",
       "      <th>504</th>\n",
       "      <td>0.10959</td>\n",
       "      <td>0.0</td>\n",
       "      <td>11.93</td>\n",
       "      <td>0.0</td>\n",
       "      <td>0.573</td>\n",
       "      <td>6.794</td>\n",
       "      <td>89.3</td>\n",
       "      <td>2.3889</td>\n",
       "      <td>1.0</td>\n",
       "      <td>273.0</td>\n",
       "      <td>21.0</td>\n",
       "      <td>393.45</td>\n",
       "      <td>6.48</td>\n",
       "    </tr>\n",
       "    <tr>\n",
       "      <th>505</th>\n",
       "      <td>0.04741</td>\n",
       "      <td>0.0</td>\n",
       "      <td>11.93</td>\n",
       "      <td>0.0</td>\n",
       "      <td>0.573</td>\n",
       "      <td>6.030</td>\n",
       "      <td>80.8</td>\n",
       "      <td>2.5050</td>\n",
       "      <td>1.0</td>\n",
       "      <td>273.0</td>\n",
       "      <td>21.0</td>\n",
       "      <td>396.90</td>\n",
       "      <td>7.88</td>\n",
       "    </tr>\n",
       "  </tbody>\n",
       "</table>\n",
       "<p>506 rows × 13 columns</p>\n",
       "</div>"
      ],
      "text/plain": [
       "        CRIM    ZN  INDUS  CHAS    NOX     RM   AGE     DIS  RAD    TAX  \\\n",
       "0    0.00632  18.0   2.31   0.0  0.538  6.575  65.2  4.0900  1.0  296.0   \n",
       "1    0.02731   0.0   7.07   0.0  0.469  6.421  78.9  4.9671  2.0  242.0   \n",
       "2    0.02729   0.0   7.07   0.0  0.469  7.185  61.1  4.9671  2.0  242.0   \n",
       "3    0.03237   0.0   2.18   0.0  0.458  6.998  45.8  6.0622  3.0  222.0   \n",
       "4    0.06905   0.0   2.18   0.0  0.458  7.147  54.2  6.0622  3.0  222.0   \n",
       "..       ...   ...    ...   ...    ...    ...   ...     ...  ...    ...   \n",
       "501  0.06263   0.0  11.93   0.0  0.573  6.593  69.1  2.4786  1.0  273.0   \n",
       "502  0.04527   0.0  11.93   0.0  0.573  6.120  76.7  2.2875  1.0  273.0   \n",
       "503  0.06076   0.0  11.93   0.0  0.573  6.976  91.0  2.1675  1.0  273.0   \n",
       "504  0.10959   0.0  11.93   0.0  0.573  6.794  89.3  2.3889  1.0  273.0   \n",
       "505  0.04741   0.0  11.93   0.0  0.573  6.030  80.8  2.5050  1.0  273.0   \n",
       "\n",
       "     PTRATIO       B  LSTAT  \n",
       "0       15.3  396.90   4.98  \n",
       "1       17.8  396.90   9.14  \n",
       "2       17.8  392.83   4.03  \n",
       "3       18.7  394.63   2.94  \n",
       "4       18.7  396.90   5.33  \n",
       "..       ...     ...    ...  \n",
       "501     21.0  391.99   9.67  \n",
       "502     21.0  396.90   9.08  \n",
       "503     21.0  396.90   5.64  \n",
       "504     21.0  393.45   6.48  \n",
       "505     21.0  396.90   7.88  \n",
       "\n",
       "[506 rows x 13 columns]"
      ]
     },
     "execution_count": 7,
     "metadata": {},
     "output_type": "execute_result"
    }
   ],
   "source": [
    "# 작업 결과물 확인해보기\n",
    "X"
   ]
  },
  {
   "cell_type": "code",
   "execution_count": 8,
   "metadata": {},
   "outputs": [
    {
     "data": {
      "text/plain": [
       "((506, 13), (506,))"
      ]
     },
     "execution_count": 8,
     "metadata": {},
     "output_type": "execute_result"
    }
   ],
   "source": [
    "X.shape, y.shape"
   ]
  },
  {
   "cell_type": "markdown",
   "metadata": {},
   "source": [
    "#### train test split\n",
    "<img src=\"https://drive.google.com/uc?id=18FBeyKcpwy7eDfs1ui7hnkNGHjAEXdMc\" height=\"300px\" width=\"300px\">"
   ]
  },
  {
   "cell_type": "code",
   "execution_count": 9,
   "metadata": {
    "ExecuteTime": {
     "end_time": "2022-10-31T18:45:35.894156Z",
     "start_time": "2022-10-31T18:45:35.881663Z"
    }
   },
   "outputs": [],
   "source": [
    "# 데이터셋 분리\n",
    "from sklearn.model_selection import train_test_split"
   ]
  },
  {
   "cell_type": "code",
   "execution_count": 10,
   "metadata": {},
   "outputs": [],
   "source": [
    "X_train, X_test, y_train, y_test = train_test_split(X, y, random_state=42)   # test_size = 0.25 (default)\n",
    "# data size가 클수록 test size를 크게.(데이터가 500만개면 test size 70~90% 까지도) \n",
    "# 경험상 성능을 보장하려면 test data 머신러닝 데이터 만 개, 딥러닝은 10만 개 이상 필요\n",
    "# random_state = 42 (미신). 랜덤으로 데이터 쪼개지는 지점 fix 가능\n",
    "# train_test_size? 하거나 함수 뒤에서 shift + tab키 누르면 설명 볼 수 있음"
   ]
  },
  {
   "cell_type": "markdown",
   "metadata": {},
   "source": [
    "#### 모델생성\n",
    "<img src=\"https://drive.google.com/uc?id=16ycVlHyh5s334EbjB1t0KVg8UwIbn4pT\" height=\"400px\" width=\"900px\">"
   ]
  },
  {
   "cell_type": "code",
   "execution_count": 11,
   "metadata": {
    "ExecuteTime": {
     "end_time": "2022-10-31T18:45:45.609850Z",
     "start_time": "2022-10-31T18:45:45.565954Z"
    }
   },
   "outputs": [],
   "source": [
    "# 모델 정의\n",
    "from sklearn.linear_model import LinearRegression"
   ]
  },
  {
   "cell_type": "code",
   "execution_count": 12,
   "metadata": {},
   "outputs": [],
   "source": [
    "model = LinearRegression()"
   ]
  },
  {
   "cell_type": "markdown",
   "metadata": {},
   "source": [
    "#### 모델학습\n",
    "<img src=\"https://drive.google.com/uc?id=1SbFSdkZwVUL1uJpe75G_AC2e9Bc0LSNP\" height=\"400px\" width=\"900px\">"
   ]
  },
  {
   "cell_type": "code",
   "execution_count": 13,
   "metadata": {
    "ExecuteTime": {
     "end_time": "2022-10-31T18:45:51.922775Z",
     "start_time": "2022-10-31T18:45:51.903974Z"
    }
   },
   "outputs": [
    {
     "data": {
      "text/plain": [
       "LinearRegression()"
      ]
     },
     "execution_count": 13,
     "metadata": {},
     "output_type": "execute_result"
    }
   ],
   "source": [
    "# 모델 학습 \n",
    "model.fit(X_train, y_train)"
   ]
  },
  {
   "cell_type": "markdown",
   "metadata": {},
   "source": [
    "#### 모델 평가\n",
    "<img src=\"https://drive.google.com/uc?id=1GMcUzKbK-PhE1T_73dZzWrT-tpOv1eeO\" height=\"400px\" width=\"900px\">"
   ]
  },
  {
   "cell_type": "code",
   "execution_count": 14,
   "metadata": {},
   "outputs": [
    {
     "data": {
      "text/plain": [
       "array([28.83885359, 36.00783288, 15.08324755, 25.23090886, 18.87864064,\n",
       "       23.21398327, 17.5931124 , 14.30508093, 23.05438985, 20.62008346,\n",
       "       24.78514683, 18.66833668, -6.9788951 , 21.83575737, 19.20898992,\n",
       "       26.2868054 , 20.54379176,  5.65713224, 40.42358065, 17.64146116,\n",
       "       27.32258958, 30.05056174, 11.15013704, 24.11530393, 17.89145648,\n",
       "       15.79348591, 22.94743453, 14.2586068 , 22.26731194, 19.24709013,\n",
       "       22.26897546, 25.24344002, 25.69165643, 17.98759507, 16.70286649,\n",
       "       17.11631225, 31.19643534, 20.17835831, 23.71828436, 24.79196868,\n",
       "       13.94575895, 32.00389982, 42.53869791, 17.44523722, 27.15354457,\n",
       "       17.07482215, 13.89272021, 26.06440323, 20.36888769, 29.97813037,\n",
       "       21.35346608, 34.32287916, 15.88498671, 26.17757739, 39.50970314,\n",
       "       22.84123308, 18.95049088, 32.68913818, 25.02057949, 12.90539147,\n",
       "       22.76052302, 30.53884316, 31.60797905, 15.92162168, 20.50670563,\n",
       "       16.50798147, 20.50202198, 26.00723901, 30.63860954, 11.42877835,\n",
       "       20.53765181, 27.56249175, 10.85162601, 15.96871769, 23.87570192,\n",
       "        5.66369672, 21.47818991, 41.2820034 , 18.56559986,  9.08857252,\n",
       "       20.97848452, 13.0630057 , 20.99054395,  9.34050291, 23.13686588,\n",
       "       31.80106627, 19.10245917, 25.59186169, 29.14490119, 20.17571514,\n",
       "       25.5962149 ,  5.20301905, 20.16835681, 15.08546746, 12.8601543 ,\n",
       "       20.80904894, 24.68556943, -0.77450939, 13.33875673, 15.62703156,\n",
       "       22.21755358, 24.58188737, 10.77302163, 19.50068376, 23.23450396,\n",
       "       11.77388822, 18.36777924, 25.4383785 , 20.89079232, 24.08440617,\n",
       "        7.3658717 , 19.16424347, 21.93734133, 27.41191713, 32.50857196,\n",
       "       14.86885244, 35.05912525, 12.86075113, 20.83043572, 28.42077138,\n",
       "       15.65853688, 24.67196362,  3.28420892, 23.79879617, 25.73329894,\n",
       "       23.04815612, 24.73046824])"
      ]
     },
     "execution_count": 14,
     "metadata": {},
     "output_type": "execute_result"
    }
   ],
   "source": [
    "y_pred = model.predict(X_test)\n",
    "y_pred"
   ]
  },
  {
   "cell_type": "code",
   "execution_count": 15,
   "metadata": {},
   "outputs": [],
   "source": [
    "from sklearn.metrics import r2_score, mean_squared_error"
   ]
  },
  {
   "cell_type": "code",
   "execution_count": 18,
   "metadata": {
    "ExecuteTime": {
     "end_time": "2022-10-31T18:46:01.378390Z",
     "start_time": "2022-10-31T18:46:01.366072Z"
    }
   },
   "outputs": [
    {
     "name": "stdout",
     "output_type": "stream",
     "text": [
      "0.6844267283527129\n",
      "4.700924890603763\n"
     ]
    }
   ],
   "source": [
    "# 모델 평가\n",
    "print(r2_score(y_test, y_pred))   # r2 스코어 : 모델의 해석력. 학습에 사용된 설명변수가 보스턴 주택가격의 변동율 약 68% 설명 가능\n",
    "print(np.sqrt(mean_squared_error(y_test, y_pred)))   # rmse : 모델 예측력. 모델 예측값이 평균적으로 4.7만 달러의 오차를 보임"
   ]
  },
  {
   "cell_type": "code",
   "execution_count": null,
   "metadata": {},
   "outputs": [],
   "source": [
    "# r2 score 60% 이상이면 사용 가능한 모델이다."
   ]
  }
 ],
 "metadata": {
  "kernelspec": {
   "display_name": "Python 3 (ipykernel)",
   "language": "python",
   "name": "python3"
  },
  "language_info": {
   "codemirror_mode": {
    "name": "ipython",
    "version": 3
   },
   "file_extension": ".py",
   "mimetype": "text/x-python",
   "name": "python",
   "nbconvert_exporter": "python",
   "pygments_lexer": "ipython3",
   "version": "3.9.13"
  },
  "toc": {
   "base_numbering": 1,
   "nav_menu": {},
   "number_sections": true,
   "sideBar": true,
   "skip_h1_title": true,
   "title_cell": "Table of Contents",
   "title_sidebar": "Contents",
   "toc_cell": false,
   "toc_position": {},
   "toc_section_display": true,
   "toc_window_display": false
  },
  "varInspector": {
   "cols": {
    "lenName": 16,
    "lenType": 16,
    "lenVar": 40
   },
   "kernels_config": {
    "python": {
     "delete_cmd_postfix": "",
     "delete_cmd_prefix": "del ",
     "library": "var_list.py",
     "varRefreshCmd": "print(var_dic_list())"
    },
    "r": {
     "delete_cmd_postfix": ") ",
     "delete_cmd_prefix": "rm(",
     "library": "var_list.r",
     "varRefreshCmd": "cat(var_dic_list()) "
    }
   },
   "types_to_exclude": [
    "module",
    "function",
    "builtin_function_or_method",
    "instance",
    "_Feature"
   ],
   "window_display": false
  }
 },
 "nbformat": 4,
 "nbformat_minor": 2
}
