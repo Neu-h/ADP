{
 "cells": [
  {
   "cell_type": "markdown",
   "metadata": {},
   "source": [
    "# Linear Regression(선형회귀모델)"
   ]
  },
  {
   "cell_type": "markdown",
   "metadata": {},
   "source": [
    "## Linear Regression 모델\n",
    "> **`Linear Regression`** 은 **예측**을 위한 **지도학습** 머신러닝 모델   \n",
    "종속변수가 존재해야하며 종속변수의 데이터가 **연속형**일 경우 사용  \n",
    "ex) 주가, 매출, 키, 몸무게, 대출금액 예측문제  \n",
    "사용해야하는 설명변수의 갯수에 따라 설명변수 하나를 사용하는 **단순회귀모델**과 설명변수 여러개를 사용하는 **다중회귀모델**로 구분  \n",
    "설명변수에 패널티를 추가한 **`Lasso`**, **`Ridge`** 모델까지 확장이 가능하다.  \n",
    ">> `y = f(x)` 의 기본적인 머신러닝 함수에서  \n",
    "`y` : 종속변수(예측하고자 하는 값, 타겟, 연속형 변수)  \n",
    "`f( )` : Linear model, 예측문제를 풀어내는 함수 혹은 모델  \n",
    "`x` : 설명변수(종속변수에 영향을 주는 데이터, feature, 연속형 혹은 이산형 변수) 로 설명이 가능하다."
   ]
  },
  {
   "cell_type": "markdown",
   "metadata": {},
   "source": [
    "## Regression(회귀) 이란?\n",
    "일반적으로 선형회귀방정식이라 부름. 종속변수와 독립변수 사이의 관계를 분석할 경우 많이 사용합니다. +상관분석\n",
    "\n",
    "> - 통계학 - 한 개의 독립변수와 종속변수 간 관계를 잘 설명하는 직선(회귀직선) 추정. 데이터 분할 X, 전체 데이터 넣고 변수별 영향력 파악  \n",
    "> - 머신러닝 - 모델자체에는 크게 관심을 두지 않고 예측을 위해 사용. 데이터 분할 O, 모델 평가"
   ]
  },
  {
   "cell_type": "markdown",
   "metadata": {},
   "source": [
    "## 단순선형회귀모델(Simple Linear Regression)\n",
    "한 개의 독립 변수와 종속 변수 간 관계를 잘 설명하는 직선을 단순회귀모델이라고 한다.  \n",
    "\n",
    "단순회귀모델의 구조는 아래와 같습니다.  \n",
    "\n",
    "# $$ y_i = \\beta_0 + \\beta_1 x_i + \\varepsilon_i  $$  \n",
    "# $$ y_i = \\hat{y}+ \\varepsilon_i  $$  \n",
    "\n",
    "> $\\beta_0$ : 절편  \n",
    "$\\beta_1$ : 기울기  \n",
    "$x_i$ : $i$ 번째 샘플의 독립변수 값  \n",
    "$y_i$ : $i$ 번째 샘플의 종속변수 값  \n",
    "$\\hat{y}_i$ : $i$ 번째 샘플의 종속변수 예측 값 ($\\hat{y}_i = \\beta_0 + \\beta_1 x_i$)  \n",
    "$\\varepsilon_i$ : $i$ 번째 샘플의 예측 오차 ($y_i - \\hat{y}_i$)"
   ]
  },
  {
   "cell_type": "code",
   "execution_count": 1,
   "metadata": {
    "ExecuteTime": {
     "end_time": "2022-10-31T18:46:48.878569Z",
     "start_time": "2022-10-31T18:46:48.267892Z"
    }
   },
   "outputs": [],
   "source": [
    "# 필요 모듈 import\n",
    "import numpy as np\n",
    "import pandas as pd\n",
    "import matplotlib.pyplot as plt\n",
    "import seaborn as sns\n",
    "from sklearn.model_selection import train_test_split"
   ]
  },
  {
   "cell_type": "code",
   "execution_count": 14,
   "metadata": {
    "ExecuteTime": {
     "end_time": "2022-10-31T18:46:48.997644Z",
     "start_time": "2022-10-31T18:46:48.883744Z"
    }
   },
   "outputs": [
    {
     "data": {
      "text/plain": [
       "[<matplotlib.lines.Line2D at 0x25b8bf34b20>]"
      ]
     },
     "execution_count": 14,
     "metadata": {},
     "output_type": "execute_result"
    },
    {
     "data": {
      "image/png": "[encoded data removed]",
      "text/plain": [
       "<Figure size 800x400 with 1 Axes>"
      ]
     },
     "metadata": {},
     "output_type": "display_data"
    }
   ],
   "source": [
    "# 단순선형회귀모델의 여러가지 가정에 따른 모델링 시각화\n",
    "plt.figure(figsize=(8, 4))\n",
    "x = np.array([1, 2, 3, 3.5, 4, 5, 6])\n",
    "y = np.array([2, 3, 6, 7, 9, 10, 11])\n",
    "plt.scatter(x, y, s=20, c='black') # matplotlib 산점도 그래프\n",
    "\n",
    "# plt.plot(x, 3 * x, 'r') # 선 그래프\n",
    "# plt.plot(x, 3 * x - 3, 'g')\n",
    "plt.plot(x, 2 * x - 1, 'b')\n",
    "plt.plot(x, 2.5 * x - 2, 'y')\n",
    "plt.plot(x, 2 * x , 'r')"
   ]
  },
  {
   "cell_type": "markdown",
   "metadata": {},
   "source": [
    "위의 샘플예제에서 $f(x) = 2x$ 가 가장 데이터를 잘 설명하는 직선이 된다.  "
   ]
  },
  {
   "cell_type": "markdown",
   "metadata": {},
   "source": [
    "### 모델 학습(traing, fitting)\n",
    "회귀모델의 학습은 회귀모델에 포함된 계수인 $\\beta_0$ 와 $\\beta_1$을 추정한다.  \n",
    "최소자승법(least square method): 회귀모델은 오차의 제곱합을 최소화하는 방향으로 계수를 추정.  \n",
    "\n",
    "#### 비용 함수 (cost function)\n",
    "$$ Cost = {1\\over2n} \\sum_i^n{(y_i - \\hat y_i)^2}$$\n",
    "분모의 2는 미분할 때 편의성을 위해 추가함"
   ]
  },
  {
   "cell_type": "code",
   "execution_count": 15,
   "metadata": {
    "ExecuteTime": {
     "end_time": "2022-10-31T18:46:56.071135Z",
     "start_time": "2022-10-31T18:46:56.063482Z"
    }
   },
   "outputs": [],
   "source": [
    "# 가정에 따른 함수 h 정의\n",
    "def h1(x):\n",
    "    return 2 * x\n",
    "\n",
    "def h2(x):\n",
    "    return 2 * x + 1\n",
    "\n",
    "def h3(x):\n",
    "    return 2 * x - 1\n",
    "\n",
    "def h4(x):\n",
    "    return 3 * x - 3\n",
    "\n",
    "def h5(x):\n",
    "    return 3 * x - 4"
   ]
  },
  {
   "cell_type": "code",
   "execution_count": 22,
   "metadata": {
    "ExecuteTime": {
     "end_time": "2022-10-31T18:47:01.822132Z",
     "start_time": "2022-10-31T18:47:01.815811Z"
    }
   },
   "outputs": [],
   "source": [
    "# 비용함수 j\n",
    "def j(x, y, h):\n",
    "    return sum( (y - h(x)) ** 2 ) / (2 * len(x))"
   ]
  },
  {
   "cell_type": "code",
   "execution_count": 23,
   "metadata": {
    "ExecuteTime": {
     "end_time": "2022-10-31T18:47:08.776587Z",
     "start_time": "2022-10-31T18:47:08.768894Z"
    }
   },
   "outputs": [
    {
     "name": "stdout",
     "output_type": "stream",
     "text": [
      "0.21428571428571427\n",
      "0.8571428571428571\n",
      "0.5714285714285714\n",
      "1.7321428571428572\n",
      "1.5892857142857142\n"
     ]
    }
   ],
   "source": [
    "# 비용함수 결과출력\n",
    "print(j(x, y, h1))\n",
    "print(j(x, y, h2))\n",
    "print(j(x, y, h3))\n",
    "print(j(x, y, h4))\n",
    "print(j(x, y, h5))"
   ]
  },
  {
   "cell_type": "markdown",
   "metadata": {},
   "source": [
    "  "
   ]
  },
  {
   "cell_type": "markdown",
   "metadata": {},
   "source": [
    "단순선형회귀모델의 비용함수는 각 가정에 대한 비용함수의 결과의 집합이고 이를 2차원 평면상에 그려보면 2차 함수임을 확인 가능합니다.  \n",
    "<img src=\"https://drive.google.com/uc?id=1SN5yLjAp3gGUkGQ4G_lwve6OEaBslrss\">"
   ]
  },
  {
   "cell_type": "markdown",
   "metadata": {},
   "source": [
    "#### 비용함수의 최소화, 경사하강법 (gradient decent)\n",
    "위에서 정의 된 비용함수 $ Cost = {1\\over2n} \\sum_i^n{(y_i - \\hat y_i)^2}$ 의 최소값을 찾기 위해서는 미분이 필요하다. (미분값이 0이 되는 지점)\n",
    "\n",
    "<img src=\"https://drive.google.com/uc?id=1vpAbQJAhkYKUG6sNmb3CgvtBdY4vyten\">\n",
    "비용함수의 미분값에 따라 추정하고자 하는 파라메터(X)를 미분값과 반대방향으로 움직이면서 비용함수의 최소값에 다다르게 함.    \n",
    "\n",
    "(변수가 2개일 때의 비용 함수)\n",
    "<img src=\"https://drive.google.com/uc?id=1ImhFj4qtiYazwUb7YLjAqo38g2HHjyLO\">"
   ]
  },
  {
   "cell_type": "markdown",
   "metadata": {},
   "source": [
    "#### 비용함수의 최소화, 정규방정식\n",
    "비용함수의 미분을 통한 정규방정식을 행렬연산을 통하여 구할 수도 있습니다. 참고자료 확인\n",
    "<img src=\"https://drive.google.com/uc?id=1srzfiaG35Io9Yvv2rqcNHiAWxqCYGRx7\">\n",
    "<img src=\"https://drive.google.com/uc?id=1Lm92qmnxcgoUc3r324COsYFdbTHNGwd4\">"
   ]
  },
  {
   "cell_type": "markdown",
   "metadata": {},
   "source": [
    "## 선형회귀모델의 평가\n",
    "선형회귀모델의 평가는 모델의 해석력(설명력, r2 score), 그리고 모델의 예측력(오차)을 위한 평가방법으로 나눌 수 있습니다.  \n",
    "\n",
    "> **RMSE** : 평균제곱오차의 제곱근   \n",
    "예측모델에서 가장 많이 쓰이는 지표, 예측이 대략 평균적으로 RMSE만큼 오차가 난다고 해석합니다.  \n",
    "비용함수에 루트값. 언제나 MAE보다 값이 큼. 오차를 제곱하기 때문에 부호 영향성도 제거함  \n",
    "  \n",
    "$$\\sqrt{{1\\over n}\\sum_i^n{(y_i - \\hat y_i)^2}}$$\n",
    "\n",
    "> **MAE** : 평균절대 오차  \n",
    "예측모델에서 종종 쓰이는 지표, 실제 예측값에 절대값을 씌워 예측결과 오차를 그대로 해석.(평균)  \n",
    "  \n",
    "$${1\\over n}\\sum_i^n{\\left\\vert(y_i - \\hat y_i)\\right\\vert}$$\n",
    "\n",
    "> **R2 score** : 결정계수 혹은 설명계수. 독립변수가 얼마나 종속변수를 잘 설명할 수 있는지 나타냄.  \n",
    "0과 1사이 범위에 있으며, 1에 가까울 수록 모델이 종속변수를 잘 설명한다고 해석한다.  \n",
    "일반적으로는 R2 score가 0.6 이상이여야 사용가능한 모델이라고 해석한다.\n",
    "\n",
    "<img src=\"https://drive.google.com/uc?id=1Ly4JaSDoulmSAiS_RG1EdX8nmFI26Wyy\">\n",
    "\n",
    "$$SST = SSR + SSE$$  \n",
    "$$R^2 = 1 - {SSE \\over SST} = {SSR \\over SST} = {선형모형 오차 \\over 전체 오차}$$  \n",
    "\n",
    "SST : 전체 오차(= yi - y)  \n",
    "r2 score : 전체 오차 중에서 선형 모델로 설명 가능한 오차의 변동분. 모델의 해석력(설명력)"
   ]
  },
  {
   "cell_type": "markdown",
   "metadata": {},
   "source": [
    "## 다중선형회귀모델 (Multiple Linear Regression)\n",
    "독립 변수가 둘 이상인 가장 일반적인 형태의 선형회귀모델\n",
    "  \n",
    "다중선형회귀모델의 구조는 아래와 같습니다.  \n",
    "\n",
    "# $$ y_i = \\beta_0 + \\beta_1 x_{i,1} + \\beta_2 x_{i,2} + \\cdots + \\beta_p x_{i,p} + \\varepsilon_i  $$  \n",
    "\n",
    "> $\\beta_0$ : 절편  \n",
    "$\\beta_p$ : $p$번째 독립변수의 계수  \n",
    "$x_{i,p}$ : $i$ 번째 샘플의 $p$번째 독립변수 값  \n",
    "$y_i$ : $i$ 번째 샘플의 종속변수 값  \n",
    "$\\hat{y}_i$ : $i$ 번째 샘플의 종속변수 예측 값 ($\\hat{y}_i = \\beta_0 + \\beta_1 x_{i,1} + \\beta_2 x_{i,2} + \\cdots + \\beta_p x_{i,p}$)  \n",
    "$\\varepsilon_i$ : $i$ 번째 샘플의 예측 오차 ($y_i - \\hat{y}_i$)\n",
    "\n",
    "행렬과 벡터를 이용한 표현으로 아래와 같이 표현이 가능합니다.\n",
    "\n",
    "# $$ y = X\\beta + \\varepsilon $$\n",
    "\n",
    "# $ y = \\begin{pmatrix} y_1 \\\\ y_2 \\\\ \\vdots  \\\\ y_n\\end{pmatrix}$ $ X = \\begin{pmatrix} 1 & x_{1,1} & \\dots & x_{1,p} \\\\ 1 & x_{2,1} & \\dots & x_{2,p} \\\\ \\vdots & \\vdots & \\ddots & \\vdots \\\\ 1 & x_{n,1} & \\dots & x_{n,p}\\end{pmatrix} $ $ \\beta = \\begin{pmatrix} \\beta_0 \\\\ \\beta_1 \\\\ \\vdots  \\\\ \\beta_p\\end{pmatrix}$ $ \\varepsilon = \\begin{pmatrix} \\varepsilon_0 \\\\ \\varepsilon_1 \\\\ \\vdots  \\\\ \\varepsilon_n\\end{pmatrix}$"
   ]
  },
  {
   "cell_type": "markdown",
   "metadata": {},
   "source": [
    "### 모델학습 및 비용함수\n",
    "기본선형회귀모델과 마찬가지로 최소자승법을 사용합니다.\n",
    "\n",
    "#### 비용함수\n",
    "$$\\varepsilon = y - \\hat{y}$$  \n",
    "$$\\hat{y} = X\\beta$$  \n",
    "$$J = \\varepsilon^T\\varepsilon = (y - \\hat{y})^T(y - \\hat{y})$$  \n",
    "$$ =(y^T - \\beta^TX^T)(y - X\\beta) $$  \n",
    "$$ =y^Ty - y^TX\\beta - \\beta^TX^Ty - \\beta^TX^TX\\beta$$\n",
    "\n",
    "$$ {\\partial J \\over \\partial \\beta} = 0 \\Rightarrow   \\beta = (X^TX)^{-1}X^Ty$$\n",
    "(행렬-벡터 미분 생략)"
   ]
  },
  {
   "cell_type": "markdown",
   "metadata": {},
   "source": [
    "### 다중 선형 회귀 모델 실습"
   ]
  },
  {
   "cell_type": "code",
   "execution_count": 24,
   "metadata": {
    "ExecuteTime": {
     "end_time": "2022-10-31T18:47:51.231792Z",
     "start_time": "2022-10-31T18:47:51.204517Z"
    }
   },
   "outputs": [
    {
     "data": {
      "text/html": [
       "<div>\n",
       "<style scoped>\n",
       "    .dataframe tbody tr th:only-of-type {\n",
       "        vertical-align: middle;\n",
       "    }\n",
       "\n",
       "    .dataframe tbody tr th {\n",
       "        vertical-align: top;\n",
       "    }\n",
       "\n",
       "    .dataframe thead th {\n",
       "        text-align: right;\n",
       "    }\n",
       "</style>\n",
       "<table border=\"1\" class=\"dataframe\">\n",
       "  <thead>\n",
       "    <tr style=\"text-align: right;\">\n",
       "      <th></th>\n",
       "      <th>CRIM</th>\n",
       "      <th>ZN</th>\n",
       "      <th>INDUS</th>\n",
       "      <th>CHAS</th>\n",
       "      <th>NOX</th>\n",
       "      <th>RM</th>\n",
       "      <th>AGE</th>\n",
       "      <th>DIS</th>\n",
       "      <th>RAD</th>\n",
       "      <th>TAX</th>\n",
       "      <th>PTRATIO</th>\n",
       "      <th>B</th>\n",
       "      <th>LSTAT</th>\n",
       "      <th>y</th>\n",
       "    </tr>\n",
       "  </thead>\n",
       "  <tbody>\n",
       "    <tr>\n",
       "      <th>0</th>\n",
       "      <td>0.00632</td>\n",
       "      <td>18.0</td>\n",
       "      <td>2.31</td>\n",
       "      <td>0.0</td>\n",
       "      <td>0.538</td>\n",
       "      <td>6.575</td>\n",
       "      <td>65.2</td>\n",
       "      <td>4.0900</td>\n",
       "      <td>1.0</td>\n",
       "      <td>296.0</td>\n",
       "      <td>15.3</td>\n",
       "      <td>396.90</td>\n",
       "      <td>4.98</td>\n",
       "      <td>24.0</td>\n",
       "    </tr>\n",
       "    <tr>\n",
       "      <th>1</th>\n",
       "      <td>0.02731</td>\n",
       "      <td>0.0</td>\n",
       "      <td>7.07</td>\n",
       "      <td>0.0</td>\n",
       "      <td>0.469</td>\n",
       "      <td>6.421</td>\n",
       "      <td>78.9</td>\n",
       "      <td>4.9671</td>\n",
       "      <td>2.0</td>\n",
       "      <td>242.0</td>\n",
       "      <td>17.8</td>\n",
       "      <td>396.90</td>\n",
       "      <td>9.14</td>\n",
       "      <td>21.6</td>\n",
       "    </tr>\n",
       "    <tr>\n",
       "      <th>2</th>\n",
       "      <td>0.02729</td>\n",
       "      <td>0.0</td>\n",
       "      <td>7.07</td>\n",
       "      <td>0.0</td>\n",
       "      <td>0.469</td>\n",
       "      <td>7.185</td>\n",
       "      <td>61.1</td>\n",
       "      <td>4.9671</td>\n",
       "      <td>2.0</td>\n",
       "      <td>242.0</td>\n",
       "      <td>17.8</td>\n",
       "      <td>392.83</td>\n",
       "      <td>4.03</td>\n",
       "      <td>34.7</td>\n",
       "    </tr>\n",
       "    <tr>\n",
       "      <th>3</th>\n",
       "      <td>0.03237</td>\n",
       "      <td>0.0</td>\n",
       "      <td>2.18</td>\n",
       "      <td>0.0</td>\n",
       "      <td>0.458</td>\n",
       "      <td>6.998</td>\n",
       "      <td>45.8</td>\n",
       "      <td>6.0622</td>\n",
       "      <td>3.0</td>\n",
       "      <td>222.0</td>\n",
       "      <td>18.7</td>\n",
       "      <td>394.63</td>\n",
       "      <td>2.94</td>\n",
       "      <td>33.4</td>\n",
       "    </tr>\n",
       "    <tr>\n",
       "      <th>4</th>\n",
       "      <td>0.06905</td>\n",
       "      <td>0.0</td>\n",
       "      <td>2.18</td>\n",
       "      <td>0.0</td>\n",
       "      <td>0.458</td>\n",
       "      <td>7.147</td>\n",
       "      <td>54.2</td>\n",
       "      <td>6.0622</td>\n",
       "      <td>3.0</td>\n",
       "      <td>222.0</td>\n",
       "      <td>18.7</td>\n",
       "      <td>396.90</td>\n",
       "      <td>5.33</td>\n",
       "      <td>36.2</td>\n",
       "    </tr>\n",
       "  </tbody>\n",
       "</table>\n",
       "</div>"
      ],
      "text/plain": [
       "      CRIM    ZN  INDUS  CHAS    NOX     RM   AGE     DIS  RAD    TAX  \\\n",
       "0  0.00632  18.0   2.31   0.0  0.538  6.575  65.2  4.0900  1.0  296.0   \n",
       "1  0.02731   0.0   7.07   0.0  0.469  6.421  78.9  4.9671  2.0  242.0   \n",
       "2  0.02729   0.0   7.07   0.0  0.469  7.185  61.1  4.9671  2.0  242.0   \n",
       "3  0.03237   0.0   2.18   0.0  0.458  6.998  45.8  6.0622  3.0  222.0   \n",
       "4  0.06905   0.0   2.18   0.0  0.458  7.147  54.2  6.0622  3.0  222.0   \n",
       "\n",
       "   PTRATIO       B  LSTAT     y  \n",
       "0     15.3  396.90   4.98  24.0  \n",
       "1     17.8  396.90   9.14  21.6  \n",
       "2     17.8  392.83   4.03  34.7  \n",
       "3     18.7  394.63   2.94  33.4  \n",
       "4     18.7  396.90   5.33  36.2  "
      ]
     },
     "execution_count": 24,
     "metadata": {},
     "output_type": "execute_result"
    }
   ],
   "source": [
    "# boston 데이터 확인\n",
    "df = pd.read_csv('./data/boston.csv')\n",
    "df.head()"
   ]
  },
  {
   "cell_type": "code",
   "execution_count": 27,
   "metadata": {
    "ExecuteTime": {
     "end_time": "2022-10-31T18:48:01.786138Z",
     "start_time": "2022-10-31T18:48:01.777246Z"
    }
   },
   "outputs": [],
   "source": [
    "# 타겟데이터 분할\n",
    "y = df['y']\n",
    "X = df.drop('y', axis=1)"
   ]
  },
  {
   "cell_type": "code",
   "execution_count": 52,
   "metadata": {},
   "outputs": [],
   "source": [
    "# 훈련셋과 테스트셋 분리\n",
    "from sklearn.model_selection import train_test_split\n",
    "X_train, X_test, y_train, y_test = train_test_split(X, y, test_size = 0.25, random_state = 42)"
   ]
  },
  {
   "cell_type": "code",
   "execution_count": 53,
   "metadata": {
    "ExecuteTime": {
     "end_time": "2022-10-31T18:48:33.842320Z",
     "start_time": "2022-10-31T18:48:33.835119Z"
    }
   },
   "outputs": [],
   "source": [
    "# 모델 정의\n",
    "from sklearn.linear_model import LinearRegression\n",
    "lr = LinearRegression()"
   ]
  },
  {
   "cell_type": "code",
   "execution_count": 54,
   "metadata": {
    "ExecuteTime": {
     "end_time": "2022-10-31T18:48:40.090867Z",
     "start_time": "2022-10-31T18:48:40.078325Z"
    }
   },
   "outputs": [
    {
     "data": {
      "text/plain": [
       "LinearRegression()"
      ]
     },
     "execution_count": 54,
     "metadata": {},
     "output_type": "execute_result"
    }
   ],
   "source": [
    "# 모델 학습\n",
    "lr.fit(X_train, y_train)"
   ]
  },
  {
   "cell_type": "code",
   "execution_count": 55,
   "metadata": {
    "ExecuteTime": {
     "end_time": "2022-10-31T18:48:51.743196Z",
     "start_time": "2022-10-31T18:48:51.734449Z"
    }
   },
   "outputs": [],
   "source": [
    "# 모델 예측\n",
    "lr_pred = lr.predict(X_test)"
   ]
  },
  {
   "cell_type": "code",
   "execution_count": 56,
   "metadata": {
    "ExecuteTime": {
     "end_time": "2022-10-31T18:50:05.014455Z",
     "start_time": "2022-10-31T18:50:05.003590Z"
    }
   },
   "outputs": [
    {
     "name": "stdout",
     "output_type": "stream",
     "text": [
      "R2 score : 0.6844267283527129\n",
      "RMSE : 4.700924890603763\n",
      "RMSE : 4.700924890603763\n",
      "MAE : 3.060939595437043\n"
     ]
    }
   ],
   "source": [
    "# 모델 평가지표 출력\n",
    "from sklearn.metrics import r2_score, mean_squared_error, mean_absolute_error\n",
    "lr_r2_score = r2_score(y_test, lr_pred)\n",
    "lr_rmse = np.sqrt(mean_squared_error(y_test, lr_pred))\n",
    "lr_rmse2 = mean_squared_error(y_test, lr_pred, squared=False)  # root 안씌우고 파라미터로 가능\n",
    "lr_mae = mean_absolute_error(y_test, lr_pred)\n",
    "print(f'R2 score : {lr_r2_score}')\n",
    "print(f'RMSE : {lr_rmse}')\n",
    "print(f'RMSE : {lr_rmse2}')\n",
    "print(f'MAE : {lr_mae}')"
   ]
  },
  {
   "cell_type": "code",
   "execution_count": 41,
   "metadata": {},
   "outputs": [
    {
     "data": {
      "text/plain": [
       "'\\nR2 score : 모델에 사용한 설명변수들이 y의 변동분을 약 68% 설명 가능하다. (수치적으로는 사용 가능한 모델)\\nRMSE : 모델 예측값이 평균적으로 4.7만 달러 오차를 보임\\nMAE : 모델 예측값이 평균적으로 3.1만 달러 오차를 보임\\n'"
      ]
     },
     "execution_count": 41,
     "metadata": {},
     "output_type": "execute_result"
    }
   ],
   "source": [
    "# 평가지표 해석\n",
    "'''\n",
    "R2 score : 모델에 사용한 설명변수들이 y의 변동분을 약 68% 설명 가능하다. (수치적으로는 사용 가능한 모델)\n",
    "RMSE : 모델 예측값이 평균적으로 4.7만 달러 오차를 보임\n",
    "MAE : 모델 예측값이 평균적으로 3.1만 달러 오차를 보임\n",
    "'''"
   ]
  },
  {
   "cell_type": "code",
   "execution_count": 42,
   "metadata": {},
   "outputs": [
    {
     "data": {
      "text/plain": [
       "(array([-1.28322638e-01,  2.95517751e-02,  4.88590934e-02,  2.77350326e+00,\n",
       "        -1.62388292e+01,  4.36875476e+00, -9.24808158e-03, -1.40086668e+00,\n",
       "         2.57761243e-01, -9.95694820e-03, -9.23122944e-01,  1.31854199e-02,\n",
       "        -5.17639519e-01]),\n",
       " 29.83642016383913)"
      ]
     },
     "execution_count": 42,
     "metadata": {},
     "output_type": "execute_result"
    }
   ],
   "source": [
    "# 모델 계수 확인 (모델. +tab키 누르면 사용 가능한 것들이 보임)\n",
    "lr.coef_, lr.intercept_"
   ]
  },
  {
   "cell_type": "code",
   "execution_count": 51,
   "metadata": {},
   "outputs": [
    {
     "data": {
      "text/plain": [
       "28.83885358645366"
      ]
     },
     "execution_count": 51,
     "metadata": {},
     "output_type": "execute_result"
    }
   ],
   "source": [
    "# 값 대입해서 y pred값 구해보기\n",
    "lr.intercept_ + X_test.iloc[0].values @ lr.coef_    # @ : 벡터의 내적"
   ]
  },
  {
   "cell_type": "code",
   "execution_count": 50,
   "metadata": {},
   "outputs": [
    {
     "name": "stderr",
     "output_type": "stream",
     "text": [
      "C:\\Users\\user\\anaconda3\\lib\\site-packages\\sklearn\\base.py:450: UserWarning: X does not have valid feature names, but LinearRegression was fitted with feature names\n",
      "  warnings.warn(\n"
     ]
    },
    {
     "data": {
      "text/plain": [
       "array([28.83885359])"
      ]
     },
     "execution_count": 50,
     "metadata": {},
     "output_type": "execute_result"
    }
   ],
   "source": [
    "lr.predict(X_test.iloc[0].values.reshape(1,-1))"
   ]
  },
  {
   "cell_type": "markdown",
   "metadata": {},
   "source": [
    "## 정규화 모델\n",
    "> 일반적으로 샘플 수가 변수 갯수보다 적거나 크게 많지 않다면 회귀모델은 **과적합(overfitting)** 되는 경향이 있습니다.  \n",
    "샘플이 많을수록 과적합 확률이 줄어든다.   \n",
    "회귀모델은 종속변수와 큰 관계가 없는 변수를 없애 주지 못함(수작업 필요).   \n",
    "이를 해결하기 위하여 설명 변수가 너무 많으면 정규화(규제)를 통해 이를 해결합니다.  \n",
    "최소자승법은 $\\beta_i = 0$을 만들어주지 못함.  \n",
    "\n",
    "### 과적합(overfitting)  \n",
    "> 학습 데이터로 학습한 모델의 테스트 데이터 예측 성능이 떨어지는 경우 (머신러닝에서 빈번하게 발생)  \n",
    "모델이 일반화를 잘 못 시키는 상태. 실제 데이터 예측을 잘 못한다고 해석이 가능합니다.\n",
    "\n",
    "<img src=\"https://drive.google.com/uc?id=1szCkyN_9u5Dkn-b5Q5YbitKbOtzqkkrB\">"
   ]
  },
  {
   "cell_type": "code",
   "execution_count": 57,
   "metadata": {},
   "outputs": [
    {
     "data": {
      "text/plain": [
       "'\\n통계분석에서는 다중공선성이 있는 변수를 제거하며 과적합 해결\\n머신러닝에서는 변수가 너무 많아서 일일히 확인할 수 없음.. L1/L2 패널티를 주는 모델로 과적합 해결\\n'"
      ]
     },
     "execution_count": 57,
     "metadata": {},
     "output_type": "execute_result"
    }
   ],
   "source": [
    "'''\n",
    "통계분석에서는 다중공선성이 있는 변수를 제거하며 과적합 해결\n",
    "머신러닝에서는 변수가 너무 많아서 일일히 확인할 수 없음.. L1/L2 패널티를 주는 모델로 과적합 해결\n",
    "'''"
   ]
  },
  {
   "cell_type": "markdown",
   "metadata": {},
   "source": [
    "### Lasso 모델\n",
    "기존 회귀모델의 비용함수에 설명변수의 베타 절대값의 합 $\\lambda\\sum_{j=1}^p\\left\\vert\\beta_j\\right\\vert$를 패널티 식으로 추가. (마름모꼴 → 회귀계수를 0으로)\n",
    "$$J = \\sum_{i=1}^n{(y_i - \\hat y_i)^2} + \\lambda\\sum_{j=1}^p\\left\\vert\\beta_j\\right\\vert$$  \n",
    "\n",
    "> $n$ : 샘플갯수  \n",
    "> $p$ : 설명변수갯수  \n",
    "\n",
    "모델이 최적화 과정을 거치면서 비용함수의 최소값이 패널티 영역(회색)과 \"가장 먼저\" 만나는 지점에서 정규화 모델의 최적이 이루어집니다.  \n",
    "회귀모델의 오차와 베타 절대값합에 해당하는 값을 동시에 최소화 시키는 방법으로 학습을 진행합니다.  \n",
    "불필요하게 설명변수의 갯수가 많을 경우 **회귀계수의 크기($\\beta$값)를 0으로 만들면서** 최적을 찾아갑니다. (가중치인 $\\lambda$ 값 변경하며)  \n",
    "많은 변수에 큰 패널티를 주며 독립변수의 갯수가 ridge 모델보다 상대적으로 많은 경우 Lasso 모델을 사용합니다.\n",
    "<img src=\"https://drive.google.com/uc?id=1dfgw998nZMEx2IYMBrF8h9Oov1I0KKpv\">\n",
    "\n",
    "### Ridge 모델\n",
    "기존 회귀모델의 비용함수에 설명변수의 베타의 제곱 합을 패널티로 $\\lambda\\sum_{j=1}^p\\beta_j^2$를 패널티 식으로 추가. (원형 → 회귀계수를 감소)\n",
    "$$ J = \\sum_{i=1}^n{(y_i - \\hat y_i)^2} + \\lambda\\sum_{j=1}^p\\beta_j^2$$  \n",
    "\n",
    "> $n$ : 샘플갯수  \n",
    "> $p$ : 설명변수갯수  \n",
    "\n",
    "회귀모델의 오차와 베타 제곱합에 해당하는 값을 동시에 최소화 시키면서 학습을 진행합니다.  \n",
    "불필요하게 과대계상 된 변수의 **회귀계수의 크기를 감소**시키는 방법으로 학습을 진행합니다.    \n",
    "많은 변수에 패널티를 주며 독립변수의 갯수가 Lasso 모델보다 상대적으로 작은 경우 Ridge 모델을 사용합니다. (일반적임)\n",
    "<img src=\"https://drive.google.com/uc?id=1Auobpo3aWiHGLqmyqjksxOD69XRDRdFy\">"
   ]
  },
  {
   "cell_type": "markdown",
   "metadata": {},
   "source": [
    "### 정규화 모델 실습"
   ]
  },
  {
   "cell_type": "code",
   "execution_count": 58,
   "metadata": {
    "ExecuteTime": {
     "end_time": "2022-10-31T18:50:34.080156Z",
     "start_time": "2022-10-31T18:50:34.073226Z"
    }
   },
   "outputs": [],
   "source": [
    "# 모델 import\n",
    "from sklearn.linear_model import Ridge, Lasso"
   ]
  },
  {
   "cell_type": "markdown",
   "metadata": {},
   "source": [
    "#### Ridge model"
   ]
  },
  {
   "cell_type": "code",
   "execution_count": 60,
   "metadata": {
    "ExecuteTime": {
     "end_time": "2022-10-31T18:50:46.395118Z",
     "start_time": "2022-10-31T18:50:46.388213Z"
    }
   },
   "outputs": [],
   "source": [
    "# 모델 정의\n",
    "# 규제화모델의 경우 파라메터로 규제화강도에 해당하는 alpha 값(=lamda값)을 같이 전달함. \n",
    "rg = Ridge(alpha = 1)  # 1이 default"
   ]
  },
  {
   "cell_type": "code",
   "execution_count": 62,
   "metadata": {
    "ExecuteTime": {
     "end_time": "2022-10-31T18:50:51.902394Z",
     "start_time": "2022-10-31T18:50:51.888545Z"
    }
   },
   "outputs": [
    {
     "data": {
      "text/plain": [
       "Ridge(alpha=1)"
      ]
     },
     "execution_count": 62,
     "metadata": {},
     "output_type": "execute_result"
    }
   ],
   "source": [
    "# 모델 학습\n",
    "rg.fit(X_train, y_train)"
   ]
  },
  {
   "cell_type": "code",
   "execution_count": 63,
   "metadata": {
    "ExecuteTime": {
     "end_time": "2022-10-31T18:51:19.673215Z",
     "start_time": "2022-10-31T18:51:19.661917Z"
    }
   },
   "outputs": [],
   "source": [
    "# 모델 예측\n",
    "rg_pred = rg.predict(X_test)"
   ]
  },
  {
   "cell_type": "code",
   "execution_count": 66,
   "metadata": {
    "ExecuteTime": {
     "end_time": "2022-10-31T18:51:24.735000Z",
     "start_time": "2022-10-31T18:51:24.724175Z"
    }
   },
   "outputs": [],
   "source": [
    "# 모델 평가\n",
    "rg_r2_score = r2_score(y_test, rg_pred)\n",
    "rg_rmse = mean_squared_error(y_test, rg_pred, squared=False)\n",
    "rg_mae = mean_absolute_error(y_test, rg_pred)"
   ]
  },
  {
   "cell_type": "code",
   "execution_count": 70,
   "metadata": {},
   "outputs": [
    {
     "name": "stdout",
     "output_type": "stream",
     "text": [
      "rg R2 score : 0.6789748327846079\n",
      "rg RMSE : 4.741357980709099\n",
      "rg MAE : 3.0503751260061787\n"
     ]
    }
   ],
   "source": [
    "print(f'rg R2 score : {rg_r2_score}')\n",
    "print(f'rg RMSE : {rg_rmse}')\n",
    "print(f'rg MAE : {rg_mae}')"
   ]
  },
  {
   "cell_type": "markdown",
   "metadata": {},
   "source": [
    "### <모델별 평가지표 비교>\n",
    "\n",
    "lr R2 score : 0.6844267283527129  \n",
    "lr RMSE : 4.700924890603763  \n",
    "lr MAE : 3.060939595437043  \n",
    "    \n",
    "* lr보다 rg에서 설명력이 더 떨어짐. 설명변수가 많은게 아니다! 오히려 부족하다!    \n",
    "* 설명변수 개수를 늘리거나 샘플 수를 늘릴 필요가 있다. (모델별로 비교하며 어떻게 보완해야할 지 생각할 수 있음)\n",
    "* 설명변수 개수를 늘리기 위해 다항회귀 적용"
   ]
  },
  {
   "cell_type": "code",
   "execution_count": 68,
   "metadata": {
    "ExecuteTime": {
     "end_time": "2022-10-31T18:50:58.037206Z",
     "start_time": "2022-10-31T18:50:58.025334Z"
    }
   },
   "outputs": [
    {
     "data": {
      "text/plain": [
       "(array([-0.12383039,  0.03139178,  0.01767668,  2.54277179, -8.77249222,\n",
       "         4.37980204, -0.01537349, -1.29086084,  0.24406848, -0.01082435,\n",
       "        -0.83346553,  0.01348642, -0.53435396]),\n",
       " 24.878370472969383)"
      ]
     },
     "execution_count": 68,
     "metadata": {},
     "output_type": "execute_result"
    }
   ],
   "source": [
    "# 모델 계수 확인\n",
    "rg.coef_, rg.intercept_"
   ]
  },
  {
   "cell_type": "code",
   "execution_count": 77,
   "metadata": {
    "ExecuteTime": {
     "end_time": "2022-10-31T18:51:05.511055Z",
     "start_time": "2022-10-31T18:51:05.427681Z"
    }
   },
   "outputs": [
    {
     "data": {
      "image/png": "[encoded data removed]",
      "text/plain": [
       "<Figure size 1200x400 with 2 Axes>"
      ]
     },
     "metadata": {},
     "output_type": "display_data"
    }
   ],
   "source": [
    "# 기존모델에서의 회귀계수 와 ridge모델 계수 플로팅(시각화)\n",
    "lr.coef_, rg.coef_\n",
    "\n",
    "plt.figure(figsize=(12,4))\n",
    "plt.subplot(1,2,1)\n",
    "plt.bar(X_train.columns, lr.coef_)\n",
    "plt.title(\"lr coef\")\n",
    "\n",
    "plt.subplot(1,2,2)\n",
    "plt.bar(X_train.columns, rg.coef_)\n",
    "plt.title(\"rg coef\")\n",
    "\n",
    "plt.show()"
   ]
  },
  {
   "cell_type": "markdown",
   "metadata": {},
   "source": [
    "#### Lasso model"
   ]
  },
  {
   "cell_type": "code",
   "execution_count": 79,
   "metadata": {
    "ExecuteTime": {
     "end_time": "2022-10-31T18:51:32.470356Z",
     "start_time": "2022-10-31T18:51:32.461832Z"
    }
   },
   "outputs": [],
   "source": [
    "# 모델 정의\n",
    "from sklearn.linear_model import Lasso\n",
    "ls = Lasso(alpha = 0.5)"
   ]
  },
  {
   "cell_type": "code",
   "execution_count": 80,
   "metadata": {
    "ExecuteTime": {
     "end_time": "2022-10-31T18:51:37.311152Z",
     "start_time": "2022-10-31T18:51:37.297205Z"
    }
   },
   "outputs": [
    {
     "data": {
      "text/plain": [
       "Lasso(alpha=0.5)"
      ]
     },
     "execution_count": 80,
     "metadata": {},
     "output_type": "execute_result"
    }
   ],
   "source": [
    "# 모델 학습\n",
    "ls.fit(X_train, y_train)"
   ]
  },
  {
   "cell_type": "code",
   "execution_count": 81,
   "metadata": {
    "ExecuteTime": {
     "end_time": "2022-10-31T18:51:53.864116Z",
     "start_time": "2022-10-31T18:51:53.853934Z"
    }
   },
   "outputs": [],
   "source": [
    "# 데이터 분할\n",
    "X_train, X_test, y_train, y_test = train_test_split(X, y, random_state=42)"
   ]
  },
  {
   "cell_type": "code",
   "execution_count": 83,
   "metadata": {},
   "outputs": [],
   "source": [
    "# 모델 예측\n",
    "ls_pred = ls.predict(X_test)"
   ]
  },
  {
   "cell_type": "code",
   "execution_count": 84,
   "metadata": {
    "ExecuteTime": {
     "end_time": "2022-10-31T18:52:00.167921Z",
     "start_time": "2022-10-31T18:52:00.158146Z"
    },
    "scrolled": true
   },
   "outputs": [],
   "source": [
    "# 모델 평가\n",
    "ls_r2_score = r2_score(y_test, ls_pred)\n",
    "ls_rmse = mean_squared_error(y_test, ls_pred, squared=False)\n",
    "ls_mae = mean_absolute_error(y_test, ls_pred)"
   ]
  },
  {
   "cell_type": "code",
   "execution_count": 85,
   "metadata": {},
   "outputs": [
    {
     "name": "stdout",
     "output_type": "stream",
     "text": [
      "ls R2 score : 0.6682669635258389\n",
      "ls RMSE : 4.819783916323324\n",
      "ls MAE : 3.1906876787587217\n"
     ]
    }
   ],
   "source": [
    "print(f'ls R2 score : {ls_r2_score}')\n",
    "print(f'ls RMSE : {ls_rmse}')\n",
    "print(f'ls MAE : {ls_mae}')"
   ]
  },
  {
   "cell_type": "code",
   "execution_count": 86,
   "metadata": {
    "ExecuteTime": {
     "end_time": "2022-10-31T18:51:41.398491Z",
     "start_time": "2022-10-31T18:51:41.389100Z"
    }
   },
   "outputs": [
    {
     "data": {
      "text/plain": [
       "(array([-1.04436885e-01,  3.10591957e-02, -0.00000000e+00,  0.00000000e+00,\n",
       "        -0.00000000e+00,  3.01536493e+00, -5.09718774e-04, -8.62756664e-01,\n",
       "         2.28002780e-01, -1.20214454e-02, -7.31718940e-01,  1.31381070e-02,\n",
       "        -6.63404109e-01]),\n",
       " 26.814373868940528)"
      ]
     },
     "execution_count": 86,
     "metadata": {},
     "output_type": "execute_result"
    }
   ],
   "source": [
    "# 모델 계수 확인 => 성능이 좋으면 계수 확인할 필요 X\n",
    "ls.coef_, ls.intercept_"
   ]
  },
  {
   "cell_type": "code",
   "execution_count": 88,
   "metadata": {
    "ExecuteTime": {
     "end_time": "2022-10-31T18:51:47.717851Z",
     "start_time": "2022-10-31T18:51:47.633062Z"
    }
   },
   "outputs": [
    {
     "data": {
      "image/png": "[encoded data removed]",
      "text/plain": [
       "<Figure size 1200x400 with 3 Axes>"
      ]
     },
     "metadata": {},
     "output_type": "display_data"
    }
   ],
   "source": [
    "# 계수 플로팅\n",
    "plt.figure(figsize=(12,4))\n",
    "\n",
    "plt.subplot(1,3,1)\n",
    "plt.bar(X_train.columns, lr.coef_)\n",
    "plt.title(\"lr coef\")\n",
    "\n",
    "plt.subplot(1,3,2)\n",
    "plt.bar(X_train.columns, rg.coef_)\n",
    "plt.title(\"rg coef\")\n",
    "\n",
    "plt.subplot(1,3,3)\n",
    "plt.bar(X_train.columns, ls.coef_)\n",
    "plt.title(\"ls coef\")\n",
    "\n",
    "plt.show()"
   ]
  },
  {
   "cell_type": "markdown",
   "metadata": {},
   "source": [
    "## 다항회귀\n",
    "> 선형회귀의 경우 설명변수와 종속변수의 관계를 선형관계로 해석하지만 현실 문제는 선형으로 해결이 불가능한 경우가 많습니다.  \n",
    "선형모델의 구조적 한계를 보완하고자 **변수 간 영향력에 해당하는 새로운 변수를 생성**하여 방정식을 비선형으로 만들고 선형모델을 적용시킬 수 있습니다.  \n",
    "2차원 예시 $x_1, x_2, x_3$를 $x_1^2, x_2^2, x_3^2, x_1x_2, x_1x_3, x_2x_3$으로 변환하여 변수를 확장. (모든 변수의 combination 조합)  \n",
    "> → 기본적인 통계 가정(변수간 독립성)도 깨고 진행,, 머신러닝은 예측력이 중요하기 때문에 통계 가정 무시함,,  \n",
    "> → y값에 영향을 주는 설명변수, 베타분석을 위해서는 사용이 어려우나 예측결과값이 가장 중요한 문제에서는 사용이 좋은 편\n",
    "\n",
    "보통 2차원 또는 3차원까지 적용하며, 변수가 많아지므로 (Ridge,) Lasso 모델을 적용한다."
   ]
  },
  {
   "cell_type": "markdown",
   "metadata": {},
   "source": [
    "### 다항회귀 실습"
   ]
  },
  {
   "cell_type": "code",
   "execution_count": 90,
   "metadata": {
    "ExecuteTime": {
     "end_time": "2022-10-31T18:52:24.989198Z",
     "start_time": "2022-10-31T18:52:24.982438Z"
    }
   },
   "outputs": [],
   "source": [
    "# 필요모델 import\n",
    "from sklearn.preprocessing import PolynomialFeatures"
   ]
  },
  {
   "cell_type": "code",
   "execution_count": 93,
   "metadata": {
    "ExecuteTime": {
     "end_time": "2022-10-31T18:52:25.160386Z",
     "start_time": "2022-10-31T18:52:25.157765Z"
    }
   },
   "outputs": [
    {
     "data": {
      "text/plain": [
       "'\\n파라메터\\ndegree=2 : 차수 설정\\ninclude_bias=False : 상수항 제거(필수). b0는 곱의 조합에서 제외함\\n'"
      ]
     },
     "execution_count": 93,
     "metadata": {},
     "output_type": "execute_result"
    }
   ],
   "source": [
    "# 다항변수 제작함수 인스턴스화\n",
    "poly = PolynomialFeatures(degree=2, include_bias=False)\n",
    "'''\n",
    "파라메터\n",
    "degree=2 : 차수 설정\n",
    "include_bias=False : 상수항 제거(필수). b0는 곱의 조합에서 제외함\n",
    "'''"
   ]
  },
  {
   "cell_type": "code",
   "execution_count": 96,
   "metadata": {
    "ExecuteTime": {
     "end_time": "2022-10-31T18:52:30.713807Z",
     "start_time": "2022-10-31T18:52:30.702982Z"
    }
   },
   "outputs": [],
   "source": [
    "# 변수 변환\n",
    "# X_train에 해당하는 변수를 학습과 동시에 변환 적용\n",
    "poly_X_train = poly.fit_transform(X_train)"
   ]
  },
  {
   "cell_type": "code",
   "execution_count": 98,
   "metadata": {
    "ExecuteTime": {
     "end_time": "2022-10-31T18:52:35.557172Z",
     "start_time": "2022-10-31T18:52:35.547728Z"
    }
   },
   "outputs": [
    {
     "data": {
      "text/plain": [
       "((379, 104), (379, 13))"
      ]
     },
     "execution_count": 98,
     "metadata": {},
     "output_type": "execute_result"
    }
   ],
   "source": [
    "# shape 확인\n",
    "poly_X_train.shape, X_train.shape"
   ]
  },
  {
   "cell_type": "code",
   "execution_count": 99,
   "metadata": {
    "ExecuteTime": {
     "end_time": "2022-10-31T18:52:42.103539Z",
     "start_time": "2022-10-31T18:52:42.085684Z"
    }
   },
   "outputs": [
    {
     "data": {
      "text/plain": [
       "array(['CRIM', 'ZN', 'INDUS', 'CHAS', 'NOX', 'RM', 'AGE', 'DIS', 'RAD',\n",
       "       'TAX', 'PTRATIO', 'B', 'LSTAT', 'CRIM^2', 'CRIM ZN', 'CRIM INDUS',\n",
       "       'CRIM CHAS', 'CRIM NOX', 'CRIM RM', 'CRIM AGE', 'CRIM DIS',\n",
       "       'CRIM RAD', 'CRIM TAX', 'CRIM PTRATIO', 'CRIM B', 'CRIM LSTAT',\n",
       "       'ZN^2', 'ZN INDUS', 'ZN CHAS', 'ZN NOX', 'ZN RM', 'ZN AGE',\n",
       "       'ZN DIS', 'ZN RAD', 'ZN TAX', 'ZN PTRATIO', 'ZN B', 'ZN LSTAT',\n",
       "       'INDUS^2', 'INDUS CHAS', 'INDUS NOX', 'INDUS RM', 'INDUS AGE',\n",
       "       'INDUS DIS', 'INDUS RAD', 'INDUS TAX', 'INDUS PTRATIO', 'INDUS B',\n",
       "       'INDUS LSTAT', 'CHAS^2', 'CHAS NOX', 'CHAS RM', 'CHAS AGE',\n",
       "       'CHAS DIS', 'CHAS RAD', 'CHAS TAX', 'CHAS PTRATIO', 'CHAS B',\n",
       "       'CHAS LSTAT', 'NOX^2', 'NOX RM', 'NOX AGE', 'NOX DIS', 'NOX RAD',\n",
       "       'NOX TAX', 'NOX PTRATIO', 'NOX B', 'NOX LSTAT', 'RM^2', 'RM AGE',\n",
       "       'RM DIS', 'RM RAD', 'RM TAX', 'RM PTRATIO', 'RM B', 'RM LSTAT',\n",
       "       'AGE^2', 'AGE DIS', 'AGE RAD', 'AGE TAX', 'AGE PTRATIO', 'AGE B',\n",
       "       'AGE LSTAT', 'DIS^2', 'DIS RAD', 'DIS TAX', 'DIS PTRATIO', 'DIS B',\n",
       "       'DIS LSTAT', 'RAD^2', 'RAD TAX', 'RAD PTRATIO', 'RAD B',\n",
       "       'RAD LSTAT', 'TAX^2', 'TAX PTRATIO', 'TAX B', 'TAX LSTAT',\n",
       "       'PTRATIO^2', 'PTRATIO B', 'PTRATIO LSTAT', 'B^2', 'B LSTAT',\n",
       "       'LSTAT^2'], dtype=object)"
      ]
     },
     "execution_count": 99,
     "metadata": {},
     "output_type": "execute_result"
    }
   ],
   "source": [
    "# 변환식 반환\n",
    "poly.get_feature_names_out()"
   ]
  },
  {
   "cell_type": "code",
   "execution_count": 103,
   "metadata": {},
   "outputs": [],
   "source": [
    "pd.options.display.max_columns = 150"
   ]
  },
  {
   "cell_type": "code",
   "execution_count": 105,
   "metadata": {
    "ExecuteTime": {
     "end_time": "2022-10-31T18:53:11.647061Z",
     "start_time": "2022-10-31T18:53:11.636040Z"
    }
   },
   "outputs": [
    {
     "data": {
      "text/html": [
       "<div>\n",
       "<style scoped>\n",
       "    .dataframe tbody tr th:only-of-type {\n",
       "        vertical-align: middle;\n",
       "    }\n",
       "\n",
       "    .dataframe tbody tr th {\n",
       "        vertical-align: top;\n",
       "    }\n",
       "\n",
       "    .dataframe thead th {\n",
       "        text-align: right;\n",
       "    }\n",
       "</style>\n",
       "<table border=\"1\" class=\"dataframe\">\n",
       "  <thead>\n",
       "    <tr style=\"text-align: right;\">\n",
       "      <th></th>\n",
       "      <th>CRIM</th>\n",
       "      <th>ZN</th>\n",
       "      <th>INDUS</th>\n",
       "      <th>CHAS</th>\n",
       "      <th>NOX</th>\n",
       "      <th>RM</th>\n",
       "      <th>AGE</th>\n",
       "      <th>DIS</th>\n",
       "      <th>RAD</th>\n",
       "      <th>TAX</th>\n",
       "      <th>PTRATIO</th>\n",
       "      <th>B</th>\n",
       "      <th>LSTAT</th>\n",
       "      <th>CRIM^2</th>\n",
       "      <th>CRIM ZN</th>\n",
       "      <th>CRIM INDUS</th>\n",
       "      <th>CRIM CHAS</th>\n",
       "      <th>CRIM NOX</th>\n",
       "      <th>CRIM RM</th>\n",
       "      <th>CRIM AGE</th>\n",
       "      <th>CRIM DIS</th>\n",
       "      <th>CRIM RAD</th>\n",
       "      <th>CRIM TAX</th>\n",
       "      <th>CRIM PTRATIO</th>\n",
       "      <th>CRIM B</th>\n",
       "      <th>CRIM LSTAT</th>\n",
       "      <th>ZN^2</th>\n",
       "      <th>ZN INDUS</th>\n",
       "      <th>ZN CHAS</th>\n",
       "      <th>ZN NOX</th>\n",
       "      <th>ZN RM</th>\n",
       "      <th>ZN AGE</th>\n",
       "      <th>ZN DIS</th>\n",
       "      <th>ZN RAD</th>\n",
       "      <th>ZN TAX</th>\n",
       "      <th>ZN PTRATIO</th>\n",
       "      <th>ZN B</th>\n",
       "      <th>ZN LSTAT</th>\n",
       "      <th>INDUS^2</th>\n",
       "      <th>INDUS CHAS</th>\n",
       "      <th>INDUS NOX</th>\n",
       "      <th>INDUS RM</th>\n",
       "      <th>INDUS AGE</th>\n",
       "      <th>INDUS DIS</th>\n",
       "      <th>INDUS RAD</th>\n",
       "      <th>INDUS TAX</th>\n",
       "      <th>INDUS PTRATIO</th>\n",
       "      <th>INDUS B</th>\n",
       "      <th>INDUS LSTAT</th>\n",
       "      <th>CHAS^2</th>\n",
       "      <th>CHAS NOX</th>\n",
       "      <th>CHAS RM</th>\n",
       "      <th>CHAS AGE</th>\n",
       "      <th>CHAS DIS</th>\n",
       "      <th>CHAS RAD</th>\n",
       "      <th>CHAS TAX</th>\n",
       "      <th>CHAS PTRATIO</th>\n",
       "      <th>CHAS B</th>\n",
       "      <th>CHAS LSTAT</th>\n",
       "      <th>NOX^2</th>\n",
       "      <th>NOX RM</th>\n",
       "      <th>NOX AGE</th>\n",
       "      <th>NOX DIS</th>\n",
       "      <th>NOX RAD</th>\n",
       "      <th>NOX TAX</th>\n",
       "      <th>NOX PTRATIO</th>\n",
       "      <th>NOX B</th>\n",
       "      <th>NOX LSTAT</th>\n",
       "      <th>RM^2</th>\n",
       "      <th>RM AGE</th>\n",
       "      <th>RM DIS</th>\n",
       "      <th>RM RAD</th>\n",
       "      <th>RM TAX</th>\n",
       "      <th>RM PTRATIO</th>\n",
       "      <th>RM B</th>\n",
       "      <th>RM LSTAT</th>\n",
       "      <th>AGE^2</th>\n",
       "      <th>AGE DIS</th>\n",
       "      <th>AGE RAD</th>\n",
       "      <th>AGE TAX</th>\n",
       "      <th>AGE PTRATIO</th>\n",
       "      <th>AGE B</th>\n",
       "      <th>AGE LSTAT</th>\n",
       "      <th>DIS^2</th>\n",
       "      <th>DIS RAD</th>\n",
       "      <th>DIS TAX</th>\n",
       "      <th>DIS PTRATIO</th>\n",
       "      <th>DIS B</th>\n",
       "      <th>DIS LSTAT</th>\n",
       "      <th>RAD^2</th>\n",
       "      <th>RAD TAX</th>\n",
       "      <th>RAD PTRATIO</th>\n",
       "      <th>RAD B</th>\n",
       "      <th>RAD LSTAT</th>\n",
       "      <th>TAX^2</th>\n",
       "      <th>TAX PTRATIO</th>\n",
       "      <th>TAX B</th>\n",
       "      <th>TAX LSTAT</th>\n",
       "      <th>PTRATIO^2</th>\n",
       "      <th>PTRATIO B</th>\n",
       "      <th>PTRATIO LSTAT</th>\n",
       "      <th>B^2</th>\n",
       "      <th>B LSTAT</th>\n",
       "      <th>LSTAT^2</th>\n",
       "    </tr>\n",
       "  </thead>\n",
       "  <tbody>\n",
       "    <tr>\n",
       "      <th>0</th>\n",
       "      <td>0.09103</td>\n",
       "      <td>0.0</td>\n",
       "      <td>2.46</td>\n",
       "      <td>0.0</td>\n",
       "      <td>0.4880</td>\n",
       "      <td>7.155</td>\n",
       "      <td>92.2</td>\n",
       "      <td>2.7006</td>\n",
       "      <td>3.0</td>\n",
       "      <td>193.0</td>\n",
       "      <td>17.8</td>\n",
       "      <td>394.12</td>\n",
       "      <td>4.82</td>\n",
       "      <td>0.008286</td>\n",
       "      <td>0.0000</td>\n",
       "      <td>0.223934</td>\n",
       "      <td>0.00000</td>\n",
       "      <td>0.044423</td>\n",
       "      <td>0.651320</td>\n",
       "      <td>8.392966</td>\n",
       "      <td>0.245836</td>\n",
       "      <td>0.27309</td>\n",
       "      <td>17.56879</td>\n",
       "      <td>1.620334</td>\n",
       "      <td>35.876744</td>\n",
       "      <td>0.438765</td>\n",
       "      <td>0.0</td>\n",
       "      <td>0.0</td>\n",
       "      <td>0.0</td>\n",
       "      <td>0.000</td>\n",
       "      <td>0.0</td>\n",
       "      <td>0.0</td>\n",
       "      <td>0.000</td>\n",
       "      <td>0.0</td>\n",
       "      <td>0.0</td>\n",
       "      <td>0.0</td>\n",
       "      <td>0.0</td>\n",
       "      <td>0.0</td>\n",
       "      <td>6.0516</td>\n",
       "      <td>0.00</td>\n",
       "      <td>1.200480</td>\n",
       "      <td>17.60130</td>\n",
       "      <td>226.812</td>\n",
       "      <td>6.643476</td>\n",
       "      <td>7.38</td>\n",
       "      <td>474.78</td>\n",
       "      <td>43.788</td>\n",
       "      <td>969.5352</td>\n",
       "      <td>11.8572</td>\n",
       "      <td>0.0</td>\n",
       "      <td>0.000</td>\n",
       "      <td>0.000</td>\n",
       "      <td>0.0</td>\n",
       "      <td>0.0000</td>\n",
       "      <td>0.0</td>\n",
       "      <td>0.0</td>\n",
       "      <td>0.0</td>\n",
       "      <td>0.00</td>\n",
       "      <td>0.00</td>\n",
       "      <td>0.238144</td>\n",
       "      <td>3.491640</td>\n",
       "      <td>44.99360</td>\n",
       "      <td>1.317893</td>\n",
       "      <td>1.4640</td>\n",
       "      <td>94.1840</td>\n",
       "      <td>8.68640</td>\n",
       "      <td>192.330560</td>\n",
       "      <td>2.352160</td>\n",
       "      <td>51.194025</td>\n",
       "      <td>659.6910</td>\n",
       "      <td>19.322793</td>\n",
       "      <td>21.465</td>\n",
       "      <td>1380.915</td>\n",
       "      <td>127.3590</td>\n",
       "      <td>2819.92860</td>\n",
       "      <td>34.48710</td>\n",
       "      <td>8500.84</td>\n",
       "      <td>248.99532</td>\n",
       "      <td>276.6</td>\n",
       "      <td>17794.6</td>\n",
       "      <td>1641.16</td>\n",
       "      <td>36337.864</td>\n",
       "      <td>444.404</td>\n",
       "      <td>7.293240</td>\n",
       "      <td>8.1018</td>\n",
       "      <td>521.2158</td>\n",
       "      <td>48.07068</td>\n",
       "      <td>1064.360472</td>\n",
       "      <td>13.016892</td>\n",
       "      <td>9.0</td>\n",
       "      <td>579.0</td>\n",
       "      <td>53.4</td>\n",
       "      <td>1182.36</td>\n",
       "      <td>14.46</td>\n",
       "      <td>37249.0</td>\n",
       "      <td>3435.4</td>\n",
       "      <td>76065.16</td>\n",
       "      <td>930.26</td>\n",
       "      <td>316.84</td>\n",
       "      <td>7015.336</td>\n",
       "      <td>85.796</td>\n",
       "      <td>155330.5744</td>\n",
       "      <td>1899.6584</td>\n",
       "      <td>23.2324</td>\n",
       "    </tr>\n",
       "    <tr>\n",
       "      <th>1</th>\n",
       "      <td>3.53501</td>\n",
       "      <td>0.0</td>\n",
       "      <td>19.58</td>\n",
       "      <td>1.0</td>\n",
       "      <td>0.8710</td>\n",
       "      <td>6.152</td>\n",
       "      <td>82.6</td>\n",
       "      <td>1.7455</td>\n",
       "      <td>5.0</td>\n",
       "      <td>403.0</td>\n",
       "      <td>14.7</td>\n",
       "      <td>88.01</td>\n",
       "      <td>15.02</td>\n",
       "      <td>12.496296</td>\n",
       "      <td>0.0000</td>\n",
       "      <td>69.215496</td>\n",
       "      <td>3.53501</td>\n",
       "      <td>3.078994</td>\n",
       "      <td>21.747382</td>\n",
       "      <td>291.991826</td>\n",
       "      <td>6.170360</td>\n",
       "      <td>17.67505</td>\n",
       "      <td>1424.60903</td>\n",
       "      <td>51.964647</td>\n",
       "      <td>311.116230</td>\n",
       "      <td>53.095850</td>\n",
       "      <td>0.0</td>\n",
       "      <td>0.0</td>\n",
       "      <td>0.0</td>\n",
       "      <td>0.000</td>\n",
       "      <td>0.0</td>\n",
       "      <td>0.0</td>\n",
       "      <td>0.000</td>\n",
       "      <td>0.0</td>\n",
       "      <td>0.0</td>\n",
       "      <td>0.0</td>\n",
       "      <td>0.0</td>\n",
       "      <td>0.0</td>\n",
       "      <td>383.3764</td>\n",
       "      <td>19.58</td>\n",
       "      <td>17.054180</td>\n",
       "      <td>120.45616</td>\n",
       "      <td>1617.308</td>\n",
       "      <td>34.176890</td>\n",
       "      <td>97.90</td>\n",
       "      <td>7890.74</td>\n",
       "      <td>287.826</td>\n",
       "      <td>1723.2358</td>\n",
       "      <td>294.0916</td>\n",
       "      <td>1.0</td>\n",
       "      <td>0.871</td>\n",
       "      <td>6.152</td>\n",
       "      <td>82.6</td>\n",
       "      <td>1.7455</td>\n",
       "      <td>5.0</td>\n",
       "      <td>403.0</td>\n",
       "      <td>14.7</td>\n",
       "      <td>88.01</td>\n",
       "      <td>15.02</td>\n",
       "      <td>0.758641</td>\n",
       "      <td>5.358392</td>\n",
       "      <td>71.94460</td>\n",
       "      <td>1.520331</td>\n",
       "      <td>4.3550</td>\n",
       "      <td>351.0130</td>\n",
       "      <td>12.80370</td>\n",
       "      <td>76.656710</td>\n",
       "      <td>13.082420</td>\n",
       "      <td>37.847104</td>\n",
       "      <td>508.1552</td>\n",
       "      <td>10.738316</td>\n",
       "      <td>30.760</td>\n",
       "      <td>2479.256</td>\n",
       "      <td>90.4344</td>\n",
       "      <td>541.43752</td>\n",
       "      <td>92.40304</td>\n",
       "      <td>6822.76</td>\n",
       "      <td>144.17830</td>\n",
       "      <td>413.0</td>\n",
       "      <td>33287.8</td>\n",
       "      <td>1214.22</td>\n",
       "      <td>7269.626</td>\n",
       "      <td>1240.652</td>\n",
       "      <td>3.046770</td>\n",
       "      <td>8.7275</td>\n",
       "      <td>703.4365</td>\n",
       "      <td>25.65885</td>\n",
       "      <td>153.621455</td>\n",
       "      <td>26.217410</td>\n",
       "      <td>25.0</td>\n",
       "      <td>2015.0</td>\n",
       "      <td>73.5</td>\n",
       "      <td>440.05</td>\n",
       "      <td>75.10</td>\n",
       "      <td>162409.0</td>\n",
       "      <td>5924.1</td>\n",
       "      <td>35468.03</td>\n",
       "      <td>6053.06</td>\n",
       "      <td>216.09</td>\n",
       "      <td>1293.747</td>\n",
       "      <td>220.794</td>\n",
       "      <td>7745.7601</td>\n",
       "      <td>1321.9102</td>\n",
       "      <td>225.6004</td>\n",
       "    </tr>\n",
       "    <tr>\n",
       "      <th>2</th>\n",
       "      <td>0.03578</td>\n",
       "      <td>20.0</td>\n",
       "      <td>3.33</td>\n",
       "      <td>0.0</td>\n",
       "      <td>0.4429</td>\n",
       "      <td>7.820</td>\n",
       "      <td>64.5</td>\n",
       "      <td>4.6947</td>\n",
       "      <td>5.0</td>\n",
       "      <td>216.0</td>\n",
       "      <td>14.9</td>\n",
       "      <td>387.31</td>\n",
       "      <td>3.76</td>\n",
       "      <td>0.001280</td>\n",
       "      <td>0.7156</td>\n",
       "      <td>0.119147</td>\n",
       "      <td>0.00000</td>\n",
       "      <td>0.015847</td>\n",
       "      <td>0.279800</td>\n",
       "      <td>2.307810</td>\n",
       "      <td>0.167976</td>\n",
       "      <td>0.17890</td>\n",
       "      <td>7.72848</td>\n",
       "      <td>0.533122</td>\n",
       "      <td>13.857952</td>\n",
       "      <td>0.134533</td>\n",
       "      <td>400.0</td>\n",
       "      <td>66.6</td>\n",
       "      <td>0.0</td>\n",
       "      <td>8.858</td>\n",
       "      <td>156.4</td>\n",
       "      <td>1290.0</td>\n",
       "      <td>93.894</td>\n",
       "      <td>100.0</td>\n",
       "      <td>4320.0</td>\n",
       "      <td>298.0</td>\n",
       "      <td>7746.2</td>\n",
       "      <td>75.2</td>\n",
       "      <td>11.0889</td>\n",
       "      <td>0.00</td>\n",
       "      <td>1.474857</td>\n",
       "      <td>26.04060</td>\n",
       "      <td>214.785</td>\n",
       "      <td>15.633351</td>\n",
       "      <td>16.65</td>\n",
       "      <td>719.28</td>\n",
       "      <td>49.617</td>\n",
       "      <td>1289.7423</td>\n",
       "      <td>12.5208</td>\n",
       "      <td>0.0</td>\n",
       "      <td>0.000</td>\n",
       "      <td>0.000</td>\n",
       "      <td>0.0</td>\n",
       "      <td>0.0000</td>\n",
       "      <td>0.0</td>\n",
       "      <td>0.0</td>\n",
       "      <td>0.0</td>\n",
       "      <td>0.00</td>\n",
       "      <td>0.00</td>\n",
       "      <td>0.196160</td>\n",
       "      <td>3.463478</td>\n",
       "      <td>28.56705</td>\n",
       "      <td>2.079283</td>\n",
       "      <td>2.2145</td>\n",
       "      <td>95.6664</td>\n",
       "      <td>6.59921</td>\n",
       "      <td>171.539599</td>\n",
       "      <td>1.665304</td>\n",
       "      <td>61.152400</td>\n",
       "      <td>504.3900</td>\n",
       "      <td>36.712554</td>\n",
       "      <td>39.100</td>\n",
       "      <td>1689.120</td>\n",
       "      <td>116.5180</td>\n",
       "      <td>3028.76420</td>\n",
       "      <td>29.40320</td>\n",
       "      <td>4160.25</td>\n",
       "      <td>302.80815</td>\n",
       "      <td>322.5</td>\n",
       "      <td>13932.0</td>\n",
       "      <td>961.05</td>\n",
       "      <td>24981.495</td>\n",
       "      <td>242.520</td>\n",
       "      <td>22.040208</td>\n",
       "      <td>23.4735</td>\n",
       "      <td>1014.0552</td>\n",
       "      <td>69.95103</td>\n",
       "      <td>1818.304257</td>\n",
       "      <td>17.652072</td>\n",
       "      <td>25.0</td>\n",
       "      <td>1080.0</td>\n",
       "      <td>74.5</td>\n",
       "      <td>1936.55</td>\n",
       "      <td>18.80</td>\n",
       "      <td>46656.0</td>\n",
       "      <td>3218.4</td>\n",
       "      <td>83658.96</td>\n",
       "      <td>812.16</td>\n",
       "      <td>222.01</td>\n",
       "      <td>5770.919</td>\n",
       "      <td>56.024</td>\n",
       "      <td>150009.0361</td>\n",
       "      <td>1456.2856</td>\n",
       "      <td>14.1376</td>\n",
       "    </tr>\n",
       "    <tr>\n",
       "      <th>3</th>\n",
       "      <td>0.38735</td>\n",
       "      <td>0.0</td>\n",
       "      <td>25.65</td>\n",
       "      <td>0.0</td>\n",
       "      <td>0.5810</td>\n",
       "      <td>5.613</td>\n",
       "      <td>95.6</td>\n",
       "      <td>1.7572</td>\n",
       "      <td>2.0</td>\n",
       "      <td>188.0</td>\n",
       "      <td>19.1</td>\n",
       "      <td>359.29</td>\n",
       "      <td>27.26</td>\n",
       "      <td>0.150040</td>\n",
       "      <td>0.0000</td>\n",
       "      <td>9.935528</td>\n",
       "      <td>0.00000</td>\n",
       "      <td>0.225050</td>\n",
       "      <td>2.174196</td>\n",
       "      <td>37.030660</td>\n",
       "      <td>0.680651</td>\n",
       "      <td>0.77470</td>\n",
       "      <td>72.82180</td>\n",
       "      <td>7.398385</td>\n",
       "      <td>139.170982</td>\n",
       "      <td>10.559161</td>\n",
       "      <td>0.0</td>\n",
       "      <td>0.0</td>\n",
       "      <td>0.0</td>\n",
       "      <td>0.000</td>\n",
       "      <td>0.0</td>\n",
       "      <td>0.0</td>\n",
       "      <td>0.000</td>\n",
       "      <td>0.0</td>\n",
       "      <td>0.0</td>\n",
       "      <td>0.0</td>\n",
       "      <td>0.0</td>\n",
       "      <td>0.0</td>\n",
       "      <td>657.9225</td>\n",
       "      <td>0.00</td>\n",
       "      <td>14.902650</td>\n",
       "      <td>143.97345</td>\n",
       "      <td>2452.140</td>\n",
       "      <td>45.072180</td>\n",
       "      <td>51.30</td>\n",
       "      <td>4822.20</td>\n",
       "      <td>489.915</td>\n",
       "      <td>9215.7885</td>\n",
       "      <td>699.2190</td>\n",
       "      <td>0.0</td>\n",
       "      <td>0.000</td>\n",
       "      <td>0.000</td>\n",
       "      <td>0.0</td>\n",
       "      <td>0.0000</td>\n",
       "      <td>0.0</td>\n",
       "      <td>0.0</td>\n",
       "      <td>0.0</td>\n",
       "      <td>0.00</td>\n",
       "      <td>0.00</td>\n",
       "      <td>0.337561</td>\n",
       "      <td>3.261153</td>\n",
       "      <td>55.54360</td>\n",
       "      <td>1.020933</td>\n",
       "      <td>1.1620</td>\n",
       "      <td>109.2280</td>\n",
       "      <td>11.09710</td>\n",
       "      <td>208.747490</td>\n",
       "      <td>15.838060</td>\n",
       "      <td>31.505769</td>\n",
       "      <td>536.6028</td>\n",
       "      <td>9.863164</td>\n",
       "      <td>11.226</td>\n",
       "      <td>1055.244</td>\n",
       "      <td>107.2083</td>\n",
       "      <td>2016.69477</td>\n",
       "      <td>153.01038</td>\n",
       "      <td>9139.36</td>\n",
       "      <td>167.98832</td>\n",
       "      <td>191.2</td>\n",
       "      <td>17972.8</td>\n",
       "      <td>1825.96</td>\n",
       "      <td>34348.124</td>\n",
       "      <td>2606.056</td>\n",
       "      <td>3.087752</td>\n",
       "      <td>3.5144</td>\n",
       "      <td>330.3536</td>\n",
       "      <td>33.56252</td>\n",
       "      <td>631.344388</td>\n",
       "      <td>47.901272</td>\n",
       "      <td>4.0</td>\n",
       "      <td>376.0</td>\n",
       "      <td>38.2</td>\n",
       "      <td>718.58</td>\n",
       "      <td>54.52</td>\n",
       "      <td>35344.0</td>\n",
       "      <td>3590.8</td>\n",
       "      <td>67546.52</td>\n",
       "      <td>5124.88</td>\n",
       "      <td>364.81</td>\n",
       "      <td>6862.439</td>\n",
       "      <td>520.666</td>\n",
       "      <td>129089.3041</td>\n",
       "      <td>9794.2454</td>\n",
       "      <td>743.1076</td>\n",
       "    </tr>\n",
       "    <tr>\n",
       "      <th>4</th>\n",
       "      <td>0.06724</td>\n",
       "      <td>0.0</td>\n",
       "      <td>3.24</td>\n",
       "      <td>0.0</td>\n",
       "      <td>0.4600</td>\n",
       "      <td>6.333</td>\n",
       "      <td>17.2</td>\n",
       "      <td>5.2146</td>\n",
       "      <td>4.0</td>\n",
       "      <td>430.0</td>\n",
       "      <td>16.9</td>\n",
       "      <td>375.21</td>\n",
       "      <td>7.34</td>\n",
       "      <td>0.004521</td>\n",
       "      <td>0.0000</td>\n",
       "      <td>0.217858</td>\n",
       "      <td>0.00000</td>\n",
       "      <td>0.030930</td>\n",
       "      <td>0.425831</td>\n",
       "      <td>1.156528</td>\n",
       "      <td>0.350630</td>\n",
       "      <td>0.26896</td>\n",
       "      <td>28.91320</td>\n",
       "      <td>1.136356</td>\n",
       "      <td>25.229120</td>\n",
       "      <td>0.493542</td>\n",
       "      <td>0.0</td>\n",
       "      <td>0.0</td>\n",
       "      <td>0.0</td>\n",
       "      <td>0.000</td>\n",
       "      <td>0.0</td>\n",
       "      <td>0.0</td>\n",
       "      <td>0.000</td>\n",
       "      <td>0.0</td>\n",
       "      <td>0.0</td>\n",
       "      <td>0.0</td>\n",
       "      <td>0.0</td>\n",
       "      <td>0.0</td>\n",
       "      <td>10.4976</td>\n",
       "      <td>0.00</td>\n",
       "      <td>1.490400</td>\n",
       "      <td>20.51892</td>\n",
       "      <td>55.728</td>\n",
       "      <td>16.895304</td>\n",
       "      <td>12.96</td>\n",
       "      <td>1393.20</td>\n",
       "      <td>54.756</td>\n",
       "      <td>1215.6804</td>\n",
       "      <td>23.7816</td>\n",
       "      <td>0.0</td>\n",
       "      <td>0.000</td>\n",
       "      <td>0.000</td>\n",
       "      <td>0.0</td>\n",
       "      <td>0.0000</td>\n",
       "      <td>0.0</td>\n",
       "      <td>0.0</td>\n",
       "      <td>0.0</td>\n",
       "      <td>0.00</td>\n",
       "      <td>0.00</td>\n",
       "      <td>0.211600</td>\n",
       "      <td>2.913180</td>\n",
       "      <td>7.91200</td>\n",
       "      <td>2.398716</td>\n",
       "      <td>1.8400</td>\n",
       "      <td>197.8000</td>\n",
       "      <td>7.77400</td>\n",
       "      <td>172.596600</td>\n",
       "      <td>3.376400</td>\n",
       "      <td>40.106889</td>\n",
       "      <td>108.9276</td>\n",
       "      <td>33.024062</td>\n",
       "      <td>25.332</td>\n",
       "      <td>2723.190</td>\n",
       "      <td>107.0277</td>\n",
       "      <td>2376.20493</td>\n",
       "      <td>46.48422</td>\n",
       "      <td>295.84</td>\n",
       "      <td>89.69112</td>\n",
       "      <td>68.8</td>\n",
       "      <td>7396.0</td>\n",
       "      <td>290.68</td>\n",
       "      <td>6453.612</td>\n",
       "      <td>126.248</td>\n",
       "      <td>27.192053</td>\n",
       "      <td>20.8584</td>\n",
       "      <td>2242.2780</td>\n",
       "      <td>88.12674</td>\n",
       "      <td>1956.570066</td>\n",
       "      <td>38.275164</td>\n",
       "      <td>16.0</td>\n",
       "      <td>1720.0</td>\n",
       "      <td>67.6</td>\n",
       "      <td>1500.84</td>\n",
       "      <td>29.36</td>\n",
       "      <td>184900.0</td>\n",
       "      <td>7267.0</td>\n",
       "      <td>161340.30</td>\n",
       "      <td>3156.20</td>\n",
       "      <td>285.61</td>\n",
       "      <td>6341.049</td>\n",
       "      <td>124.046</td>\n",
       "      <td>140782.5441</td>\n",
       "      <td>2754.0414</td>\n",
       "      <td>53.8756</td>\n",
       "    </tr>\n",
       "  </tbody>\n",
       "</table>\n",
       "</div>"
      ],
      "text/plain": [
       "      CRIM    ZN  INDUS  CHAS     NOX     RM   AGE     DIS  RAD    TAX  \\\n",
       "0  0.09103   0.0   2.46   0.0  0.4880  7.155  92.2  2.7006  3.0  193.0   \n",
       "1  3.53501   0.0  19.58   1.0  0.8710  6.152  82.6  1.7455  5.0  403.0   \n",
       "2  0.03578  20.0   3.33   0.0  0.4429  7.820  64.5  4.6947  5.0  216.0   \n",
       "3  0.38735   0.0  25.65   0.0  0.5810  5.613  95.6  1.7572  2.0  188.0   \n",
       "4  0.06724   0.0   3.24   0.0  0.4600  6.333  17.2  5.2146  4.0  430.0   \n",
       "\n",
       "   PTRATIO       B  LSTAT     CRIM^2  CRIM ZN  CRIM INDUS  CRIM CHAS  \\\n",
       "0     17.8  394.12   4.82   0.008286   0.0000    0.223934    0.00000   \n",
       "1     14.7   88.01  15.02  12.496296   0.0000   69.215496    3.53501   \n",
       "2     14.9  387.31   3.76   0.001280   0.7156    0.119147    0.00000   \n",
       "3     19.1  359.29  27.26   0.150040   0.0000    9.935528    0.00000   \n",
       "4     16.9  375.21   7.34   0.004521   0.0000    0.217858    0.00000   \n",
       "\n",
       "   CRIM NOX    CRIM RM    CRIM AGE  CRIM DIS  CRIM RAD    CRIM TAX  \\\n",
       "0  0.044423   0.651320    8.392966  0.245836   0.27309    17.56879   \n",
       "1  3.078994  21.747382  291.991826  6.170360  17.67505  1424.60903   \n",
       "2  0.015847   0.279800    2.307810  0.167976   0.17890     7.72848   \n",
       "3  0.225050   2.174196   37.030660  0.680651   0.77470    72.82180   \n",
       "4  0.030930   0.425831    1.156528  0.350630   0.26896    28.91320   \n",
       "\n",
       "   CRIM PTRATIO      CRIM B  CRIM LSTAT   ZN^2  ZN INDUS  ZN CHAS  ZN NOX  \\\n",
       "0      1.620334   35.876744    0.438765    0.0       0.0      0.0   0.000   \n",
       "1     51.964647  311.116230   53.095850    0.0       0.0      0.0   0.000   \n",
       "2      0.533122   13.857952    0.134533  400.0      66.6      0.0   8.858   \n",
       "3      7.398385  139.170982   10.559161    0.0       0.0      0.0   0.000   \n",
       "4      1.136356   25.229120    0.493542    0.0       0.0      0.0   0.000   \n",
       "\n",
       "   ZN RM  ZN AGE  ZN DIS  ZN RAD  ZN TAX  ZN PTRATIO    ZN B  ZN LSTAT  \\\n",
       "0    0.0     0.0   0.000     0.0     0.0         0.0     0.0       0.0   \n",
       "1    0.0     0.0   0.000     0.0     0.0         0.0     0.0       0.0   \n",
       "2  156.4  1290.0  93.894   100.0  4320.0       298.0  7746.2      75.2   \n",
       "3    0.0     0.0   0.000     0.0     0.0         0.0     0.0       0.0   \n",
       "4    0.0     0.0   0.000     0.0     0.0         0.0     0.0       0.0   \n",
       "\n",
       "    INDUS^2  INDUS CHAS  INDUS NOX   INDUS RM  INDUS AGE  INDUS DIS  \\\n",
       "0    6.0516        0.00   1.200480   17.60130    226.812   6.643476   \n",
       "1  383.3764       19.58  17.054180  120.45616   1617.308  34.176890   \n",
       "2   11.0889        0.00   1.474857   26.04060    214.785  15.633351   \n",
       "3  657.9225        0.00  14.902650  143.97345   2452.140  45.072180   \n",
       "4   10.4976        0.00   1.490400   20.51892     55.728  16.895304   \n",
       "\n",
       "   INDUS RAD  INDUS TAX  INDUS PTRATIO    INDUS B  INDUS LSTAT  CHAS^2  \\\n",
       "0       7.38     474.78         43.788   969.5352      11.8572     0.0   \n",
       "1      97.90    7890.74        287.826  1723.2358     294.0916     1.0   \n",
       "2      16.65     719.28         49.617  1289.7423      12.5208     0.0   \n",
       "3      51.30    4822.20        489.915  9215.7885     699.2190     0.0   \n",
       "4      12.96    1393.20         54.756  1215.6804      23.7816     0.0   \n",
       "\n",
       "   CHAS NOX  CHAS RM  CHAS AGE  CHAS DIS  CHAS RAD  CHAS TAX  CHAS PTRATIO  \\\n",
       "0     0.000    0.000       0.0    0.0000       0.0       0.0           0.0   \n",
       "1     0.871    6.152      82.6    1.7455       5.0     403.0          14.7   \n",
       "2     0.000    0.000       0.0    0.0000       0.0       0.0           0.0   \n",
       "3     0.000    0.000       0.0    0.0000       0.0       0.0           0.0   \n",
       "4     0.000    0.000       0.0    0.0000       0.0       0.0           0.0   \n",
       "\n",
       "   CHAS B  CHAS LSTAT     NOX^2    NOX RM   NOX AGE   NOX DIS  NOX RAD  \\\n",
       "0    0.00        0.00  0.238144  3.491640  44.99360  1.317893   1.4640   \n",
       "1   88.01       15.02  0.758641  5.358392  71.94460  1.520331   4.3550   \n",
       "2    0.00        0.00  0.196160  3.463478  28.56705  2.079283   2.2145   \n",
       "3    0.00        0.00  0.337561  3.261153  55.54360  1.020933   1.1620   \n",
       "4    0.00        0.00  0.211600  2.913180   7.91200  2.398716   1.8400   \n",
       "\n",
       "    NOX TAX  NOX PTRATIO       NOX B  NOX LSTAT       RM^2    RM AGE  \\\n",
       "0   94.1840      8.68640  192.330560   2.352160  51.194025  659.6910   \n",
       "1  351.0130     12.80370   76.656710  13.082420  37.847104  508.1552   \n",
       "2   95.6664      6.59921  171.539599   1.665304  61.152400  504.3900   \n",
       "3  109.2280     11.09710  208.747490  15.838060  31.505769  536.6028   \n",
       "4  197.8000      7.77400  172.596600   3.376400  40.106889  108.9276   \n",
       "\n",
       "      RM DIS  RM RAD    RM TAX  RM PTRATIO        RM B   RM LSTAT    AGE^2  \\\n",
       "0  19.322793  21.465  1380.915    127.3590  2819.92860   34.48710  8500.84   \n",
       "1  10.738316  30.760  2479.256     90.4344   541.43752   92.40304  6822.76   \n",
       "2  36.712554  39.100  1689.120    116.5180  3028.76420   29.40320  4160.25   \n",
       "3   9.863164  11.226  1055.244    107.2083  2016.69477  153.01038  9139.36   \n",
       "4  33.024062  25.332  2723.190    107.0277  2376.20493   46.48422   295.84   \n",
       "\n",
       "     AGE DIS  AGE RAD  AGE TAX  AGE PTRATIO      AGE B  AGE LSTAT      DIS^2  \\\n",
       "0  248.99532    276.6  17794.6      1641.16  36337.864    444.404   7.293240   \n",
       "1  144.17830    413.0  33287.8      1214.22   7269.626   1240.652   3.046770   \n",
       "2  302.80815    322.5  13932.0       961.05  24981.495    242.520  22.040208   \n",
       "3  167.98832    191.2  17972.8      1825.96  34348.124   2606.056   3.087752   \n",
       "4   89.69112     68.8   7396.0       290.68   6453.612    126.248  27.192053   \n",
       "\n",
       "   DIS RAD    DIS TAX  DIS PTRATIO        DIS B  DIS LSTAT  RAD^2  RAD TAX  \\\n",
       "0   8.1018   521.2158     48.07068  1064.360472  13.016892    9.0    579.0   \n",
       "1   8.7275   703.4365     25.65885   153.621455  26.217410   25.0   2015.0   \n",
       "2  23.4735  1014.0552     69.95103  1818.304257  17.652072   25.0   1080.0   \n",
       "3   3.5144   330.3536     33.56252   631.344388  47.901272    4.0    376.0   \n",
       "4  20.8584  2242.2780     88.12674  1956.570066  38.275164   16.0   1720.0   \n",
       "\n",
       "   RAD PTRATIO    RAD B  RAD LSTAT     TAX^2  TAX PTRATIO      TAX B  \\\n",
       "0         53.4  1182.36      14.46   37249.0       3435.4   76065.16   \n",
       "1         73.5   440.05      75.10  162409.0       5924.1   35468.03   \n",
       "2         74.5  1936.55      18.80   46656.0       3218.4   83658.96   \n",
       "3         38.2   718.58      54.52   35344.0       3590.8   67546.52   \n",
       "4         67.6  1500.84      29.36  184900.0       7267.0  161340.30   \n",
       "\n",
       "   TAX LSTAT  PTRATIO^2  PTRATIO B  PTRATIO LSTAT          B^2    B LSTAT  \\\n",
       "0     930.26     316.84   7015.336         85.796  155330.5744  1899.6584   \n",
       "1    6053.06     216.09   1293.747        220.794    7745.7601  1321.9102   \n",
       "2     812.16     222.01   5770.919         56.024  150009.0361  1456.2856   \n",
       "3    5124.88     364.81   6862.439        520.666  129089.3041  9794.2454   \n",
       "4    3156.20     285.61   6341.049        124.046  140782.5441  2754.0414   \n",
       "\n",
       "    LSTAT^2  \n",
       "0   23.2324  \n",
       "1  225.6004  \n",
       "2   14.1376  \n",
       "3  743.1076  \n",
       "4   53.8756  "
      ]
     },
     "execution_count": 105,
     "metadata": {},
     "output_type": "execute_result"
    }
   ],
   "source": [
    "# 데이터프레임으로 제작 후 데이터 확인\n",
    "pd.DataFrame(poly_X_train, columns=poly.get_feature_names_out()).head()"
   ]
  },
  {
   "cell_type": "code",
   "execution_count": 106,
   "metadata": {
    "ExecuteTime": {
     "end_time": "2022-10-31T18:53:20.269166Z",
     "start_time": "2022-10-31T18:53:20.262421Z"
    }
   },
   "outputs": [],
   "source": [
    "# test 데이터 동일한 모델로 적용\n",
    "poly_X_test = poly.fit_transform(X_test)"
   ]
  },
  {
   "cell_type": "code",
   "execution_count": 109,
   "metadata": {
    "ExecuteTime": {
     "end_time": "2022-10-31T18:53:25.013749Z",
     "start_time": "2022-10-31T18:53:25.002542Z"
    }
   },
   "outputs": [],
   "source": [
    "# 모델 정의\n",
    "poly_ls = Lasso(alpha = 1)"
   ]
  },
  {
   "cell_type": "code",
   "execution_count": 114,
   "metadata": {
    "ExecuteTime": {
     "end_time": "2022-10-31T18:53:31.884351Z",
     "start_time": "2022-10-31T18:53:31.818861Z"
    }
   },
   "outputs": [
    {
     "name": "stderr",
     "output_type": "stream",
     "text": [
      "C:\\Users\\user\\anaconda3\\lib\\site-packages\\sklearn\\linear_model\\_coordinate_descent.py:647: ConvergenceWarning: Objective did not converge. You might want to increase the number of iterations, check the scale of the features or consider increasing regularisation. Duality gap: 2.113e+03, tolerance: 3.361e+00\n",
      "  model = cd_fast.enet_coordinate_descent(\n"
     ]
    },
    {
     "data": {
      "text/plain": [
       "Lasso(alpha=1)"
      ]
     },
     "execution_count": 114,
     "metadata": {},
     "output_type": "execute_result"
    }
   ],
   "source": [
    "# 모델 학습\n",
    "poly_ls.fit(poly_X_train, y_train)\n",
    "# warning message -> Lasso의 꼭지점에서는 미분값이 나오지 않아서 나오는 자연스러운 메세지. "
   ]
  },
  {
   "cell_type": "code",
   "execution_count": 111,
   "metadata": {
    "ExecuteTime": {
     "end_time": "2022-10-31T18:53:54.453409Z",
     "start_time": "2022-10-31T18:53:54.421866Z"
    }
   },
   "outputs": [],
   "source": [
    "# 모델 예측\n",
    "poly_pred = poly_ls.predict(poly_X_test)"
   ]
  },
  {
   "cell_type": "code",
   "execution_count": 112,
   "metadata": {
    "ExecuteTime": {
     "end_time": "2022-10-31T18:54:02.184092Z",
     "start_time": "2022-10-31T18:54:02.171641Z"
    }
   },
   "outputs": [],
   "source": [
    "# 모델 평가 => poly 변환 후 설명력이 높아졌다? 이건 비선형으로 풀었어야 했던 것\n",
    "poly_r2_score = r2_score(y_test, poly_pred)\n",
    "poly_rmse = mean_squared_error(y_test, poly_pred, squared=False)\n",
    "poly_mae = mean_absolute_error(y_test, poly_pred)"
   ]
  },
  {
   "cell_type": "code",
   "execution_count": 113,
   "metadata": {},
   "outputs": [
    {
     "name": "stdout",
     "output_type": "stream",
     "text": [
      "poly R2 score : 0.7997588192632035\n",
      "poly RMSE : 3.7446385578530488\n",
      "poly MAE : 2.5169605856132122\n"
     ]
    }
   ],
   "source": [
    "print(f'poly R2 score : {poly_r2_score}')\n",
    "print(f'poly RMSE : {poly_rmse}')\n",
    "print(f'poly MAE : {poly_mae}')"
   ]
  },
  {
   "cell_type": "code",
   "execution_count": 121,
   "metadata": {},
   "outputs": [
    {
     "name": "stdout",
     "output_type": "stream",
     "text": [
      "alpha = 1\n",
      "poly R2 score : 0.7997588192632035\n",
      "poly RMSE : 3.7446385578530488\n",
      "poly MAE : 2.5169605856132122\n",
      "\n",
      "alpha = 2\n",
      "poly R2 score : 0.7762174255554414\n",
      "poly RMSE : 3.958643010926263\n",
      "poly MAE : 2.6638921965020033\n",
      "\n",
      "alpha = 3\n",
      "poly R2 score : 0.7751402759860253\n",
      "poly RMSE : 3.968158791629942\n",
      "poly MAE : 2.622440898419534\n",
      "\n",
      "alpha = 4\n",
      "poly R2 score : 0.7726007422809659\n",
      "poly RMSE : 3.990503788642369\n",
      "poly MAE : 2.61377291553673\n",
      "\n"
     ]
    },
    {
     "name": "stderr",
     "output_type": "stream",
     "text": [
      "C:\\Users\\user\\anaconda3\\lib\\site-packages\\sklearn\\linear_model\\_coordinate_descent.py:647: ConvergenceWarning: Objective did not converge. You might want to increase the number of iterations, check the scale of the features or consider increasing regularisation. Duality gap: 2.113e+03, tolerance: 3.361e+00\n",
      "  model = cd_fast.enet_coordinate_descent(\n",
      "C:\\Users\\user\\anaconda3\\lib\\site-packages\\sklearn\\linear_model\\_coordinate_descent.py:647: ConvergenceWarning: Objective did not converge. You might want to increase the number of iterations, check the scale of the features or consider increasing regularisation. Duality gap: 2.267e+03, tolerance: 3.361e+00\n",
      "  model = cd_fast.enet_coordinate_descent(\n",
      "C:\\Users\\user\\anaconda3\\lib\\site-packages\\sklearn\\linear_model\\_coordinate_descent.py:647: ConvergenceWarning: Objective did not converge. You might want to increase the number of iterations, check the scale of the features or consider increasing regularisation. Duality gap: 2.345e+03, tolerance: 3.361e+00\n",
      "  model = cd_fast.enet_coordinate_descent(\n",
      "C:\\Users\\user\\anaconda3\\lib\\site-packages\\sklearn\\linear_model\\_coordinate_descent.py:647: ConvergenceWarning: Objective did not converge. You might want to increase the number of iterations, check the scale of the features or consider increasing regularisation. Duality gap: 2.391e+03, tolerance: 3.361e+00\n",
      "  model = cd_fast.enet_coordinate_descent(\n"
     ]
    }
   ],
   "source": [
    "for i in range(1,5):\n",
    "    poly_ls = Lasso(alpha = i)\n",
    "    poly_ls.fit(poly_X_train, y_train)\n",
    "    poly_pred = poly_ls.predict(poly_X_test)\n",
    "    \n",
    "    poly_r2_score = r2_score(y_test, poly_pred)\n",
    "    poly_rmse = mean_squared_error(y_test, poly_pred, squared=False)\n",
    "    poly_mae = mean_absolute_error(y_test, poly_pred)\n",
    "    \n",
    "    print(f'alpha = {i}')\n",
    "    print(f'poly R2 score : {poly_r2_score}')\n",
    "    print(f'poly RMSE : {poly_rmse}')\n",
    "    print(f'poly MAE : {poly_mae}\\n')\n",
    "    \n",
    "    i+=1"
   ]
  },
  {
   "cell_type": "code",
   "execution_count": 123,
   "metadata": {
    "ExecuteTime": {
     "end_time": "2022-10-31T18:53:38.015881Z",
     "start_time": "2022-10-31T18:53:38.004493Z"
    },
    "scrolled": true
   },
   "outputs": [
    {
     "data": {
      "text/plain": [
       "(array([ 0.00000000e+00, -0.00000000e+00,  0.00000000e+00, -0.00000000e+00,\n",
       "        -0.00000000e+00,  0.00000000e+00,  0.00000000e+00, -0.00000000e+00,\n",
       "         0.00000000e+00,  0.00000000e+00, -0.00000000e+00,  0.00000000e+00,\n",
       "        -0.00000000e+00, -0.00000000e+00,  0.00000000e+00,  0.00000000e+00,\n",
       "         0.00000000e+00,  0.00000000e+00, -0.00000000e+00, -2.80079564e-04,\n",
       "        -0.00000000e+00, -0.00000000e+00, -3.94304860e-04,  0.00000000e+00,\n",
       "         4.37757192e-04,  0.00000000e+00,  6.05747518e-04, -4.25594189e-04,\n",
       "         0.00000000e+00,  0.00000000e+00,  8.60813355e-03,  5.42123901e-04,\n",
       "         0.00000000e+00, -3.47788258e-03,  4.08689390e-04,  7.22286185e-03,\n",
       "        -8.43491978e-04, -4.06503102e-03,  2.92368126e-05,  0.00000000e+00,\n",
       "        -0.00000000e+00,  0.00000000e+00,  6.75500671e-03, -0.00000000e+00,\n",
       "         0.00000000e+00, -1.46530644e-04, -1.01691311e-03, -6.67458127e-04,\n",
       "        -1.83568777e-02, -0.00000000e+00, -0.00000000e+00, -0.00000000e+00,\n",
       "        -0.00000000e+00, -0.00000000e+00,  0.00000000e+00,  3.36966207e-03,\n",
       "         0.00000000e+00, -0.00000000e+00, -0.00000000e+00, -0.00000000e+00,\n",
       "        -0.00000000e+00, -0.00000000e+00, -0.00000000e+00, -0.00000000e+00,\n",
       "        -1.21173513e-02, -0.00000000e+00, -0.00000000e+00, -0.00000000e+00,\n",
       "         0.00000000e+00,  0.00000000e+00,  0.00000000e+00, -0.00000000e+00,\n",
       "        -1.34259810e-02,  0.00000000e+00,  2.71773092e-02, -0.00000000e+00,\n",
       "         4.96752709e-05,  0.00000000e+00, -3.75942753e-03,  2.28837011e-04,\n",
       "        -1.19053679e-03, -2.28278785e-04, -4.64694035e-03,  0.00000000e+00,\n",
       "         0.00000000e+00, -2.50528329e-03,  0.00000000e+00, -5.03862528e-04,\n",
       "        -0.00000000e+00, -2.04219932e-02,  5.65507786e-04,  0.00000000e+00,\n",
       "         1.49236930e-03,  0.00000000e+00,  3.56928950e-05,  4.82248454e-03,\n",
       "        -6.12994655e-05, -1.98186941e-03, -0.00000000e+00, -5.87726928e-03,\n",
       "        -0.00000000e+00,  3.73948731e-06, -5.17576776e-04,  3.70951718e-02]),\n",
       " 14.983325909614031)"
      ]
     },
     "execution_count": 123,
     "metadata": {},
     "output_type": "execute_result"
    }
   ],
   "source": [
    "# 모델 계수 확인\n",
    "poly_ls.coef_, poly_ls.intercept_"
   ]
  },
  {
   "cell_type": "code",
   "execution_count": 134,
   "metadata": {
    "ExecuteTime": {
     "end_time": "2022-10-31T18:53:48.356797Z",
     "start_time": "2022-10-31T18:53:48.038277Z"
    }
   },
   "outputs": [
    {
     "data": {
      "image/png": "[encoded data removed]",
      "text/plain": [
       "<Figure size 1000x2000 with 1 Axes>"
      ]
     },
     "metadata": {},
     "output_type": "display_data"
    }
   ],
   "source": [
    "# 계수 플로팅\n",
    "plt.figure(figsize=(10,20))\n",
    "plt.barh(poly.get_feature_names_out(), poly_ls.coef_, )\n",
    "plt.title(\"poly ls coef\")\n",
    "\n",
    "plt.show()"
   ]
  },
  {
   "cell_type": "code",
   "execution_count": null,
   "metadata": {},
   "outputs": [],
   "source": []
  }
 ],
 "metadata": {
  "kernelspec": {
   "display_name": "Python 3 (ipykernel)",
   "language": "python",
   "name": "python3"
  },
  "language_info": {
   "codemirror_mode": {
    "name": "ipython",
    "version": 3
   },
   "file_extension": ".py",
   "mimetype": "text/x-python",
   "name": "python",
   "nbconvert_exporter": "python",
   "pygments_lexer": "ipython3",
   "version": "3.9.13"
  },
  "toc": {
   "base_numbering": 1,
   "nav_menu": {},
   "number_sections": true,
   "sideBar": true,
   "skip_h1_title": true,
   "title_cell": "Table of Contents",
   "title_sidebar": "Contents",
   "toc_cell": false,
   "toc_position": {},
   "toc_section_display": true,
   "toc_window_display": false
  },
  "varInspector": {
   "cols": {
    "lenName": 16,
    "lenType": 16,
    "lenVar": 40
   },
   "kernels_config": {
    "python": {
     "delete_cmd_postfix": "",
     "delete_cmd_prefix": "del ",
     "library": "var_list.py",
     "varRefreshCmd": "print(var_dic_list())"
    },
    "r": {
     "delete_cmd_postfix": ") ",
     "delete_cmd_prefix": "rm(",
     "library": "var_list.r",
     "varRefreshCmd": "cat(var_dic_list()) "
    }
   },
   "types_to_exclude": [
    "module",
    "function",
    "builtin_function_or_method",
    "instance",
    "_Feature"
   ],
   "window_display": false
  }
 },
 "nbformat": 4,
 "nbformat_minor": 2
}
