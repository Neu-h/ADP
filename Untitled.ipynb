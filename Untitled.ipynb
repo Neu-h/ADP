{
 "cells": [
  {
   "cell_type": "code",
   "execution_count": 1,
   "id": "736e374c",
   "metadata": {},
   "outputs": [],
   "source": [
    "# 분석에 필요한 모듈을 import 합니다.\n",
    "\n",
    "# 모듈 import\n",
    "import pandas as pd\n",
    "import numpy as np\n",
    "import matplotlib.pyplot as plt\n",
    "\n",
    "import warnings\n",
    "warnings.filterwarnings(action='ignore')\n",
    "pd.options.display.max_columns=600\n",
    "pd.options.display.max_info_columns=600\n",
    "\n",
    "# CODE HERE\n",
    "import seaborn as sns\n",
    "pd.options.display.max_columns=600\n",
    "pd.options.display.max_info_columns=600"
   ]
  },
  {
   "cell_type": "code",
   "execution_count": 2,
   "id": "e45ddf99",
   "metadata": {},
   "outputs": [],
   "source": [
    "df = pd.read_csv('./data/semiconductor.csv')"
   ]
  },
  {
   "cell_type": "code",
   "execution_count": null,
   "id": "0e86da6f",
   "metadata": {},
   "outputs": [],
   "source": [
    "df.drop('datetime', axis=1, inplace=True)"
   ]
  },
  {
   "cell_type": "code",
   "execution_count": null,
   "id": "d4541181",
   "metadata": {},
   "outputs": [],
   "source": []
  },
  {
   "cell_type": "code",
   "execution_count": null,
   "id": "d650f648",
   "metadata": {},
   "outputs": [],
   "source": []
  },
  {
   "cell_type": "code",
   "execution_count": null,
   "id": "ea73e30d",
   "metadata": {},
   "outputs": [],
   "source": []
  },
  {
   "cell_type": "code",
   "execution_count": null,
   "id": "d21a2607",
   "metadata": {},
   "outputs": [],
   "source": []
  },
  {
   "cell_type": "code",
   "execution_count": null,
   "id": "a41ea54f",
   "metadata": {},
   "outputs": [],
   "source": []
  },
  {
   "cell_type": "code",
   "execution_count": null,
   "id": "6984a24f",
   "metadata": {},
   "outputs": [],
   "source": []
  }
 ],
 "metadata": {
  "kernelspec": {
   "display_name": "Python 3 (ipykernel)",
   "language": "python",
   "name": "python3"
  },
  "language_info": {
   "codemirror_mode": {
    "name": "ipython",
    "version": 3
   },
   "file_extension": ".py",
   "mimetype": "text/x-python",
   "name": "python",
   "nbconvert_exporter": "python",
   "pygments_lexer": "ipython3",
   "version": "3.9.13"
  }
 },
 "nbformat": 4,
 "nbformat_minor": 5
}
