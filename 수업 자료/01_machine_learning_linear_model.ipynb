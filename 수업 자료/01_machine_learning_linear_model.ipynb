{
 "cells": [
  {
   "cell_type": "markdown",
   "metadata": {},
   "source": [
    "# Linear Regression(선형회귀모델)"
   ]
  },
  {
   "cell_type": "markdown",
   "metadata": {},
   "source": [
    "## Linear Regression 모델\n",
    "> **`Linear Regression`** 은 **예측**을 위한 **지도학습** 머신러닝 모델   \n",
    "종속변수가 존재해야하며 종속변수의 데이터가 **연속형**일 경우 사용  \n",
    "ex) 주가, 매출, 키, 몸무게, 대출금액 예측문제  \n",
    "사용해야하는 설명변수의 갯수에 따라 설명변수 하나를 사용하는 **단순회귀모델**과 설명변수 여러개를 사용하는 **다중회귀모델**로 구분  \n",
    "설명변수에 패널티를 추가한 **`Lasso`**, **`Ridge`** 모델까지 확장이 가능하다.  \n",
    ">> `y = f(x)` 의 기본적인 머신러닝 함수에서  \n",
    "`y` : 종속변수(예측하고자 하는 값, 타겟, 연속형 변수)  \n",
    "`f( )` : Linear model, 예측문제를 풀어내는 함수 혹은 모델  \n",
    "`x` : 설명변수(종속변수에 영향을 주는 데이터, feature, 연속형 혹은 이산형 변수) 로 설명이 가능하다."
   ]
  },
  {
   "cell_type": "markdown",
   "metadata": {},
   "source": [
    "## Regression(회귀) 이란?\n",
    "일반적으로 선형회귀방정식이라 부름. 종속변수와 독립변수 사이의 관계를 분석할 경우 많이 사용합니다.\n",
    "\n",
    "> - 통계학 - 한 개의 독립변수와 종속변수 간 관계를 잘 설명하는 직선(회귀직선)을 추정한다. 데이터 분할 X  \n",
    "> - 머신러닝 - 모델자체에는 크게 관심을 두지 않고 예측을 위해 사용한다. 데이터 분할 O"
   ]
  },
  {
   "cell_type": "markdown",
   "metadata": {},
   "source": [
    "## 단순선형회귀모델(Simple Linear Regression)\n",
    "한 개의 독립 변수와 종속 변수 간 관계를 잘 설명하는 직선을 단순회귀모델이라고 한다.  \n",
    "\n",
    "단순회귀모델의 구조는 아래와 같습니다.  \n",
    "\n",
    "# $$ y_i = \\beta_0 + \\beta_1 x_i + \\varepsilon_i  $$  \n",
    "# $$ y_i = \\hat{y}+ \\varepsilon_i  $$  \n",
    "\n",
    "> $\\beta_0$ : 절편  \n",
    "$\\beta_1$ : 기울기  \n",
    "$x_i$ : $i$ 번째 샘플의 독립변수 값  \n",
    "$y_i$ : $i$ 번째 샘플의 종속변수 값  \n",
    "$\\hat{y}_i$ : $i$ 번째 샘플의 종속변수 예측 값 ($\\hat{y}_i = \\beta_0 + \\beta_1 x_i$)  \n",
    "$\\varepsilon_i$ : $i$ 번째 샘플의 예측 오차 ($y_i - \\hat{y}_i$)"
   ]
  },
  {
   "cell_type": "code",
   "execution_count": 1,
   "metadata": {
    "ExecuteTime": {
     "end_time": "2023-03-06T05:28:03.661974Z",
     "start_time": "2023-03-06T05:28:02.591156Z"
    }
   },
   "outputs": [],
   "source": [
    "# 필요 모듈 import\n",
    "import numpy as np\n",
    "import pandas as pd\n",
    "import matplotlib.pyplot as plt\n",
    "import seaborn as sns\n",
    "from sklearn.model_selection import train_test_split"
   ]
  },
  {
   "cell_type": "code",
   "execution_count": 8,
   "metadata": {
    "ExecuteTime": {
     "end_time": "2023-03-06T05:31:57.786136Z",
     "start_time": "2023-03-06T05:31:57.700219Z"
    }
   },
   "outputs": [
    {
     "data": {
      "text/plain": [
       "[<matplotlib.lines.Line2D at 0x177b8ac40>]"
      ]
     },
     "execution_count": 8,
     "metadata": {},
     "output_type": "execute_result"
    },
    {
     "data": {
      "image/png": "[encoded data removed]",
      "text/plain": [
       "<Figure size 800x400 with 1 Axes>"
      ]
     },
     "metadata": {},
     "output_type": "display_data"
    }
   ],
   "source": [
    "# 단순선형회귀모델의 여러가지 가정에 따른 모델링 시각화\n",
    "plt.figure(figsize=(8, 4))\n",
    "x = np.array([1, 2, 3, 3.5, 4, 5, 6])\n",
    "y = np.array([2, 3, 6, 7, 9, 10, 11])\n",
    "plt.scatter(x, y, s=20, c='black') # matplotlib 산점도 그래프\n",
    "\n",
    "plt.plot(x, 2 * x, 'r') # 선그래프, X, y값을 순서대로 전달\n",
    "# plt.plot(x, 3 * x - 3, 'g') # 선그래프\n",
    "# plt.plot(x, 3 * x - 4, 'b') # 선그래프\n",
    "plt.plot(x, 2 * x - 1, 'y') # 선그래프, X, y값을 순서대로 전달\n",
    "plt.plot(x, 2 * x + 1, 'm') # 선그래프, X, y값을 순서대로 전달"
   ]
  },
  {
   "cell_type": "markdown",
   "metadata": {},
   "source": [
    "위의 샘플예제에서 $f(x) = 2x$ 가 가장 데이터를 잘 설명하는 직선이 된다.  "
   ]
  },
  {
   "cell_type": "markdown",
   "metadata": {},
   "source": [
    "### 모델 학습(traing, fitting)\n",
    "회귀모델의 학습은 회귀모델에 포함된 계수인 $\\beta_0$ 와 $\\beta_1$을 추정한다.  \n",
    "최소자승법(least square method): 회귀모델은 오차의 제곱합을 최소화하는 방향으로 계수를 추정.  \n",
    "\n",
    "#### 비용 함수 (cost function)\n",
    "$$ Cost = {1\\over2n} \\sum_i^n{(y_i - \\hat y_i)^2}$$"
   ]
  },
  {
   "cell_type": "code",
   "execution_count": 9,
   "metadata": {
    "ExecuteTime": {
     "end_time": "2023-03-06T05:37:28.138980Z",
     "start_time": "2023-03-06T05:37:28.131731Z"
    }
   },
   "outputs": [],
   "source": [
    "# 가정에 따른 함수 h 정의\n",
    "def h1(x):\n",
    "    return 2 * x\n",
    "\n",
    "def h2(x):\n",
    "    return 2 * x + 1\n",
    "\n",
    "def h3(x):\n",
    "    return 2 * x - 1\n",
    "\n",
    "def h4(x):\n",
    "    return 3 * x - 3\n",
    "\n",
    "def h5(x):\n",
    "    return 3 * x - 4"
   ]
  },
  {
   "cell_type": "code",
   "execution_count": 10,
   "metadata": {
    "ExecuteTime": {
     "end_time": "2023-03-06T05:39:57.677093Z",
     "start_time": "2023-03-06T05:39:57.669356Z"
    }
   },
   "outputs": [],
   "source": [
    "# 비용함수 j\n",
    "def j(x, h, y):\n",
    "    return sum((y - h(x)) ** 2) / (2 * len(x))"
   ]
  },
  {
   "cell_type": "code",
   "execution_count": 13,
   "metadata": {
    "ExecuteTime": {
     "end_time": "2023-03-06T05:40:47.558499Z",
     "start_time": "2023-03-06T05:40:47.551032Z"
    }
   },
   "outputs": [
    {
     "name": "stdout",
     "output_type": "stream",
     "text": [
      "0.21428571428571427\n",
      "0.8571428571428571\n",
      "0.5714285714285714\n",
      "1.7321428571428572\n",
      "1.5892857142857142\n"
     ]
    }
   ],
   "source": [
    "# 비용함수 결과출력\n",
    "print(j(x, h1, y))\n",
    "print(j(x, h2, y))\n",
    "print(j(x, h3, y))\n",
    "print(j(x, h4, y))\n",
    "print(j(x, h5, y))"
   ]
  },
  {
   "cell_type": "markdown",
   "metadata": {},
   "source": [
    "  "
   ]
  },
  {
   "cell_type": "markdown",
   "metadata": {},
   "source": [
    "단순선형회귀모델의 비용함수는 각 가정에 대한 비용함수의 결과의 집합이고 이를 2차원 평면상에 그려보면 2차 함수임을 확인 가능합니다.  \n",
    "<img src=\"https://drive.google.com/uc?id=1SN5yLjAp3gGUkGQ4G_lwve6OEaBslrss\">"
   ]
  },
  {
   "cell_type": "markdown",
   "metadata": {},
   "source": [
    "#### 비용함수의 최소화, 경사하강법 (gradient decent)\n",
    "위에서 정의 된 비용함수 $ Cost = {1\\over2n} \\sum_i^n{(y_i - \\hat y_i)^2}$ 의 최소값을 찾기 위해서는 미분이 필요하다.\n",
    "\n",
    "<img src=\"https://drive.google.com/uc?id=1vpAbQJAhkYKUG6sNmb3CgvtBdY4vyten\">\n",
    "비용함수의 미분값에 따라 추정하고자 하는 파라메터(X)를 미분값과 반대방향으로 움직이면서 비용함수의 최소값에 다다르게 함.  \n",
    "<img src=\"https://drive.google.com/uc?id=1ImhFj4qtiYazwUb7YLjAqo38g2HHjyLO\">"
   ]
  },
  {
   "cell_type": "markdown",
   "metadata": {},
   "source": [
    "#### 비용함수의 최소화, 정규방정식\n",
    "비용함수의 미분을 통한 정규방정식을 행렬연산을 통하여 구할 수도 있습니다. 참고자료 확인\n",
    "<img src=\"https://drive.google.com/uc?id=1srzfiaG35Io9Yvv2rqcNHiAWxqCYGRx7\">\n",
    "<img src=\"https://drive.google.com/uc?id=1Lm92qmnxcgoUc3r324COsYFdbTHNGwd4\">"
   ]
  },
  {
   "cell_type": "markdown",
   "metadata": {},
   "source": [
    "## 선형회귀모델의 평가\n",
    "선형회귀모델의 평가는 모델의 해석력, 그리고 모델의 예측력을 위한 평가방법으로 나눌 수 있습니다.  \n",
    "\n",
    "> **RMSE** : 평균제곱오차의 제곱근  \n",
    "예측모델에서 가장 많이 쓰이는 지표, 예측이 대략 평균적으로 RMSE만큼 오차가 난다고 해석합니다.\n",
    "  \n",
    "$$\\sqrt{{1\\over n}\\sum_i^n{(y_i - \\hat y_i)^2}}$$\n",
    "\n",
    "> **MAE** : 평균절대 오차  \n",
    "예측모델에서 종종 쓰이는 지표, 실제 예측값에 절대값을 씌워 예측결과 오차를 그대로 해석.  \n",
    "  \n",
    "$${1\\over n}\\sum_i^n{\\left\\vert(y_i - \\hat y_i)\\right\\vert}$$\n",
    "\n",
    "> **R2 score** : 결정계수 혹은 설명계수. 독립변수가 얼마나 종속변수를 잘 설명할 수 있는지 나타냄.  \n",
    "0과 1사이 범위에 있으며, 1에 가까울 수록 모델이 종속변수를 잘 설명한다고 해석한다.  \n",
    "일반적으로는 R2 score가 0.6 이상이여야 사용가능한 모델이라고 해석한다.\n",
    "\n",
    "<img src=\"https://drive.google.com/uc?id=1Ly4JaSDoulmSAiS_RG1EdX8nmFI26Wyy\">\n",
    "\n",
    "$$SST = SSR + SSE$$  \n",
    "$$R^2 = 1 - {SSE \\over SST}$$  \n",
    "$$={SSR \\over SST}$$  \n",
    "$$={선형모형오차 \\over 전체오차}$$"
   ]
  },
  {
   "cell_type": "markdown",
   "metadata": {},
   "source": [
    "## 다중선형회귀모델 (Multiple Linear Regression)\n",
    "독립 변수가 둘 이상인 가장 일반적인 형태의 선형회귀모델\n",
    "  \n",
    "다중선형회귀모델의 구조는 아래와 같습니다.  \n",
    "\n",
    "# $$ y_i = \\beta_0 + \\beta_1 x_{i,1} + \\beta_2 x_{i,2} + \\cdots + \\beta_p x_{i,p} + \\varepsilon_i  $$  \n",
    "\n",
    "> $\\beta_0$ : 절편  \n",
    "$\\beta_p$ : $p$번째 독립변수의 계수  \n",
    "$x_{i,p}$ : $i$ 번째 샘플의 $p$번째 독립변수 값  \n",
    "$y_i$ : $i$ 번째 샘플의 종속변수 값  \n",
    "$\\hat{y}_i$ : $i$ 번째 샘플의 종속변수 예측 값 ($\\hat{y}_i = \\beta_0 + \\beta_1 x_{i,1} + \\beta_2 x_{i,2} + \\cdots + \\beta_p x_{i,p}$)  \n",
    "$\\varepsilon_i$ : $i$ 번째 샘플의 예측 오차 ($y_i - \\hat{y}_i$)\n",
    "\n",
    "행렬과 벡터를 이용한 표현으로 아래와 같이 표현이 가능합니다.\n",
    "\n",
    "# $$ y = X\\beta + \\varepsilon $$\n",
    "\n",
    "<img src=\"https://drive.google.com/uc?id=1QF--aVlo89zNeH4O--Lp71DIFFSTXJf6\">"
   ]
  },
  {
   "cell_type": "markdown",
   "metadata": {},
   "source": [
    "### 모델학습 및 비용함수\n",
    "기본선형회귀모델과 마찬가지로 최소자승법을 사용합니다.\n",
    "\n",
    "#### 비용함수\n",
    "$$\\varepsilon = y - \\hat{y}$$  \n",
    "$$\\hat{y} = X\\beta$$  \n",
    "$$J = \\varepsilon^T\\varepsilon = (y - \\hat{y})^T(y - \\hat{y})$$  \n",
    "$$ =(y^T - \\beta^TX^T)(y - X\\beta) $$  \n",
    "$$ =y^Ty - y^TX\\beta - \\beta^TX^Ty - \\beta^TX^TX\\beta$$\n",
    "\n",
    "$$ {\\partial J \\over \\partial \\beta} = 0 \\Rightarrow \\beta = (X^TX)^{-1}X^Ty$$\n",
    "(행렬-벡터 미분 생략)"
   ]
  },
  {
   "cell_type": "markdown",
   "metadata": {},
   "source": [
    "### 다중 선형 회귀 모델 실습"
   ]
  },
  {
   "cell_type": "code",
   "execution_count": 14,
   "metadata": {
    "ExecuteTime": {
     "end_time": "2023-03-06T06:23:45.016303Z",
     "start_time": "2023-03-06T06:23:44.990469Z"
    }
   },
   "outputs": [
    {
     "data": {
      "text/html": [
       "<div>\n",
       "<style scoped>\n",
       "    .dataframe tbody tr th:only-of-type {\n",
       "        vertical-align: middle;\n",
       "    }\n",
       "\n",
       "    .dataframe tbody tr th {\n",
       "        vertical-align: top;\n",
       "    }\n",
       "\n",
       "    .dataframe thead th {\n",
       "        text-align: right;\n",
       "    }\n",
       "</style>\n",
       "<table border=\"1\" class=\"dataframe\">\n",
       "  <thead>\n",
       "    <tr style=\"text-align: right;\">\n",
       "      <th></th>\n",
       "      <th>CRIM</th>\n",
       "      <th>ZN</th>\n",
       "      <th>INDUS</th>\n",
       "      <th>CHAS</th>\n",
       "      <th>NOX</th>\n",
       "      <th>RM</th>\n",
       "      <th>AGE</th>\n",
       "      <th>DIS</th>\n",
       "      <th>RAD</th>\n",
       "      <th>TAX</th>\n",
       "      <th>PTRATIO</th>\n",
       "      <th>B</th>\n",
       "      <th>LSTAT</th>\n",
       "      <th>y</th>\n",
       "    </tr>\n",
       "  </thead>\n",
       "  <tbody>\n",
       "    <tr>\n",
       "      <th>0</th>\n",
       "      <td>0.00632</td>\n",
       "      <td>18.0</td>\n",
       "      <td>2.31</td>\n",
       "      <td>0.0</td>\n",
       "      <td>0.538</td>\n",
       "      <td>6.575</td>\n",
       "      <td>65.2</td>\n",
       "      <td>4.0900</td>\n",
       "      <td>1.0</td>\n",
       "      <td>296.0</td>\n",
       "      <td>15.3</td>\n",
       "      <td>396.90</td>\n",
       "      <td>4.98</td>\n",
       "      <td>24.0</td>\n",
       "    </tr>\n",
       "    <tr>\n",
       "      <th>1</th>\n",
       "      <td>0.02731</td>\n",
       "      <td>0.0</td>\n",
       "      <td>7.07</td>\n",
       "      <td>0.0</td>\n",
       "      <td>0.469</td>\n",
       "      <td>6.421</td>\n",
       "      <td>78.9</td>\n",
       "      <td>4.9671</td>\n",
       "      <td>2.0</td>\n",
       "      <td>242.0</td>\n",
       "      <td>17.8</td>\n",
       "      <td>396.90</td>\n",
       "      <td>9.14</td>\n",
       "      <td>21.6</td>\n",
       "    </tr>\n",
       "    <tr>\n",
       "      <th>2</th>\n",
       "      <td>0.02729</td>\n",
       "      <td>0.0</td>\n",
       "      <td>7.07</td>\n",
       "      <td>0.0</td>\n",
       "      <td>0.469</td>\n",
       "      <td>7.185</td>\n",
       "      <td>61.1</td>\n",
       "      <td>4.9671</td>\n",
       "      <td>2.0</td>\n",
       "      <td>242.0</td>\n",
       "      <td>17.8</td>\n",
       "      <td>392.83</td>\n",
       "      <td>4.03</td>\n",
       "      <td>34.7</td>\n",
       "    </tr>\n",
       "    <tr>\n",
       "      <th>3</th>\n",
       "      <td>0.03237</td>\n",
       "      <td>0.0</td>\n",
       "      <td>2.18</td>\n",
       "      <td>0.0</td>\n",
       "      <td>0.458</td>\n",
       "      <td>6.998</td>\n",
       "      <td>45.8</td>\n",
       "      <td>6.0622</td>\n",
       "      <td>3.0</td>\n",
       "      <td>222.0</td>\n",
       "      <td>18.7</td>\n",
       "      <td>394.63</td>\n",
       "      <td>2.94</td>\n",
       "      <td>33.4</td>\n",
       "    </tr>\n",
       "    <tr>\n",
       "      <th>4</th>\n",
       "      <td>0.06905</td>\n",
       "      <td>0.0</td>\n",
       "      <td>2.18</td>\n",
       "      <td>0.0</td>\n",
       "      <td>0.458</td>\n",
       "      <td>7.147</td>\n",
       "      <td>54.2</td>\n",
       "      <td>6.0622</td>\n",
       "      <td>3.0</td>\n",
       "      <td>222.0</td>\n",
       "      <td>18.7</td>\n",
       "      <td>396.90</td>\n",
       "      <td>5.33</td>\n",
       "      <td>36.2</td>\n",
       "    </tr>\n",
       "  </tbody>\n",
       "</table>\n",
       "</div>"
      ],
      "text/plain": [
       "      CRIM    ZN  INDUS  CHAS    NOX     RM   AGE     DIS  RAD    TAX  \\\n",
       "0  0.00632  18.0   2.31   0.0  0.538  6.575  65.2  4.0900  1.0  296.0   \n",
       "1  0.02731   0.0   7.07   0.0  0.469  6.421  78.9  4.9671  2.0  242.0   \n",
       "2  0.02729   0.0   7.07   0.0  0.469  7.185  61.1  4.9671  2.0  242.0   \n",
       "3  0.03237   0.0   2.18   0.0  0.458  6.998  45.8  6.0622  3.0  222.0   \n",
       "4  0.06905   0.0   2.18   0.0  0.458  7.147  54.2  6.0622  3.0  222.0   \n",
       "\n",
       "   PTRATIO       B  LSTAT     y  \n",
       "0     15.3  396.90   4.98  24.0  \n",
       "1     17.8  396.90   9.14  21.6  \n",
       "2     17.8  392.83   4.03  34.7  \n",
       "3     18.7  394.63   2.94  33.4  \n",
       "4     18.7  396.90   5.33  36.2  "
      ]
     },
     "execution_count": 14,
     "metadata": {},
     "output_type": "execute_result"
    }
   ],
   "source": [
    "# boston 데이터 확인\n",
    "df = pd.read_csv('./data/boston.csv') # encoding='utf8'\n",
    "df.head()"
   ]
  },
  {
   "cell_type": "code",
   "execution_count": 15,
   "metadata": {
    "ExecuteTime": {
     "end_time": "2023-03-06T06:24:53.275581Z",
     "start_time": "2023-03-06T06:24:53.265364Z"
    }
   },
   "outputs": [],
   "source": [
    "# 타겟데이터 분할\n",
    "y = df['y']\n",
    "X = df.drop('y', axis=1)"
   ]
  },
  {
   "cell_type": "code",
   "execution_count": 44,
   "metadata": {
    "ExecuteTime": {
     "end_time": "2023-03-06T07:02:35.104616Z",
     "start_time": "2023-03-06T07:02:35.093920Z"
    }
   },
   "outputs": [],
   "source": [
    "# 훈련셋과 테스트셋 분리\n",
    "from sklearn.model_selection import train_test_split\n",
    "X_train, X_test, y_train, y_test = train_test_split(X, y, random_state=42)"
   ]
  },
  {
   "cell_type": "code",
   "execution_count": 45,
   "metadata": {
    "ExecuteTime": {
     "end_time": "2023-03-06T07:02:35.489957Z",
     "start_time": "2023-03-06T07:02:35.483247Z"
    }
   },
   "outputs": [],
   "source": [
    "# 모델 정의\n",
    "from sklearn.linear_model import LinearRegression\n",
    "lr = LinearRegression()"
   ]
  },
  {
   "cell_type": "code",
   "execution_count": 46,
   "metadata": {
    "ExecuteTime": {
     "end_time": "2023-03-06T07:02:35.818614Z",
     "start_time": "2023-03-06T07:02:35.801463Z"
    }
   },
   "outputs": [
    {
     "data": {
      "text/html": [
       "<style>#sk-container-id-3 {color: black;background-color: white;}#sk-container-id-3 pre{padding: 0;}#sk-container-id-3 div.sk-toggleable {background-color: white;}#sk-container-id-3 label.sk-toggleable__label {cursor: pointer;display: block;width: 100%;margin-bottom: 0;padding: 0.3em;box-sizing: border-box;text-align: center;}#sk-container-id-3 label.sk-toggleable__label-arrow:before {content: \"▸\";float: left;margin-right: 0.25em;color: #696969;}#sk-container-id-3 label.sk-toggleable__label-arrow:hover:before {color: black;}#sk-container-id-3 div.sk-estimator:hover label.sk-toggleable__label-arrow:before {color: black;}#sk-container-id-3 div.sk-toggleable__content {max-height: 0;max-width: 0;overflow: hidden;text-align: left;background-color: #f0f8ff;}#sk-container-id-3 div.sk-toggleable__content pre {margin: 0.2em;color: black;border-radius: 0.25em;background-color: #f0f8ff;}#sk-container-id-3 input.sk-toggleable__control:checked~div.sk-toggleable__content {max-height: 200px;max-width: 100%;overflow: auto;}#sk-container-id-3 input.sk-toggleable__control:checked~label.sk-toggleable__label-arrow:before {content: \"▾\";}#sk-container-id-3 div.sk-estimator input.sk-toggleable__control:checked~label.sk-toggleable__label {background-color: #d4ebff;}#sk-container-id-3 div.sk-label input.sk-toggleable__control:checked~label.sk-toggleable__label {background-color: #d4ebff;}#sk-container-id-3 input.sk-hidden--visually {border: 0;clip: rect(1px 1px 1px 1px);clip: rect(1px, 1px, 1px, 1px);height: 1px;margin: -1px;overflow: hidden;padding: 0;position: absolute;width: 1px;}#sk-container-id-3 div.sk-estimator {font-family: monospace;background-color: #f0f8ff;border: 1px dotted black;border-radius: 0.25em;box-sizing: border-box;margin-bottom: 0.5em;}#sk-container-id-3 div.sk-estimator:hover {background-color: #d4ebff;}#sk-container-id-3 div.sk-parallel-item::after {content: \"\";width: 100%;border-bottom: 1px solid gray;flex-grow: 1;}#sk-container-id-3 div.sk-label:hover label.sk-toggleable__label {background-color: #d4ebff;}#sk-container-id-3 div.sk-serial::before {content: \"\";position: absolute;border-left: 1px solid gray;box-sizing: border-box;top: 0;bottom: 0;left: 50%;z-index: 0;}#sk-container-id-3 div.sk-serial {display: flex;flex-direction: column;align-items: center;background-color: white;padding-right: 0.2em;padding-left: 0.2em;position: relative;}#sk-container-id-3 div.sk-item {position: relative;z-index: 1;}#sk-container-id-3 div.sk-parallel {display: flex;align-items: stretch;justify-content: center;background-color: white;position: relative;}#sk-container-id-3 div.sk-item::before, #sk-container-id-3 div.sk-parallel-item::before {content: \"\";position: absolute;border-left: 1px solid gray;box-sizing: border-box;top: 0;bottom: 0;left: 50%;z-index: -1;}#sk-container-id-3 div.sk-parallel-item {display: flex;flex-direction: column;z-index: 1;position: relative;background-color: white;}#sk-container-id-3 div.sk-parallel-item:first-child::after {align-self: flex-end;width: 50%;}#sk-container-id-3 div.sk-parallel-item:last-child::after {align-self: flex-start;width: 50%;}#sk-container-id-3 div.sk-parallel-item:only-child::after {width: 0;}#sk-container-id-3 div.sk-dashed-wrapped {border: 1px dashed gray;margin: 0 0.4em 0.5em 0.4em;box-sizing: border-box;padding-bottom: 0.4em;background-color: white;}#sk-container-id-3 div.sk-label label {font-family: monospace;font-weight: bold;display: inline-block;line-height: 1.2em;}#sk-container-id-3 div.sk-label-container {text-align: center;}#sk-container-id-3 div.sk-container {/* jupyter's `normalize.less` sets `[hidden] { display: none; }` but bootstrap.min.css set `[hidden] { display: none !important; }` so we also need the `!important` here to be able to override the default hidden behavior on the sphinx rendered scikit-learn.org. See: https://github.com/scikit-learn/scikit-learn/issues/21755 */display: inline-block !important;position: relative;}#sk-container-id-3 div.sk-text-repr-fallback {display: none;}</style><div id=\"sk-container-id-3\" class=\"sk-top-container\"><div class=\"sk-text-repr-fallback\"><pre>LinearRegression()</pre><b>In a Jupyter environment, please rerun this cell to show the HTML representation or trust the notebook. <br />On GitHub, the HTML representation is unable to render, please try loading this page with nbviewer.org.</b></div><div class=\"sk-container\" hidden><div class=\"sk-item\"><div class=\"sk-estimator sk-toggleable\"><input class=\"sk-toggleable__control sk-hidden--visually\" id=\"sk-estimator-id-3\" type=\"checkbox\" checked><label for=\"sk-estimator-id-3\" class=\"sk-toggleable__label sk-toggleable__label-arrow\">LinearRegression</label><div class=\"sk-toggleable__content\"><pre>LinearRegression()</pre></div></div></div></div></div>"
      ],
      "text/plain": [
       "LinearRegression()"
      ]
     },
     "execution_count": 46,
     "metadata": {},
     "output_type": "execute_result"
    }
   ],
   "source": [
    "# 모델 학습\n",
    "lr.fit(X_train, y_train)"
   ]
  },
  {
   "cell_type": "code",
   "execution_count": 47,
   "metadata": {
    "ExecuteTime": {
     "end_time": "2023-03-06T07:02:36.207286Z",
     "start_time": "2023-03-06T07:02:36.195446Z"
    }
   },
   "outputs": [],
   "source": [
    "# 모델 예측\n",
    "lr_pred = lr.predict(X_test)"
   ]
  },
  {
   "cell_type": "code",
   "execution_count": 48,
   "metadata": {
    "ExecuteTime": {
     "end_time": "2023-03-06T07:02:37.037939Z",
     "start_time": "2023-03-06T07:02:37.027540Z"
    }
   },
   "outputs": [
    {
     "name": "stdout",
     "output_type": "stream",
     "text": [
      "R2 score : 0.6844267283527123\n",
      "RMSE : 4.700924890603766\n",
      "MAE : 3.0609395954370378\n"
     ]
    }
   ],
   "source": [
    "# 모델 평가지표 출력\n",
    "from sklearn.metrics import r2_score, mean_squared_error, mean_absolute_error\n",
    "print(f'R2 score : {r2_score(y_test, lr_pred)}')\n",
    "print(f'RMSE : {mean_squared_error(y_test, lr_pred, squared=False)}')\n",
    "print(f'MAE : {mean_absolute_error(y_test, lr_pred)}')"
   ]
  },
  {
   "cell_type": "code",
   "execution_count": null,
   "metadata": {},
   "outputs": [],
   "source": [
    "'''\n",
    "R2 score : 0.6605015707888449\n",
    "RMSE : 5.78667234878059\n",
    "MAE : 3.9204326899191004\n",
    "'''"
   ]
  },
  {
   "cell_type": "code",
   "execution_count": null,
   "metadata": {},
   "outputs": [],
   "source": [
    "# r2 : 모델에 사용한 설명변수들이 y의 변동분을 약 66% 설명가능하다. (수치적으로는 사용가능한 모델)\n",
    "# RMSE : 모델 예측값이 평균적으로 5.7만 달러 오차를 보임\n",
    "# MAE : 모델 예측값이 평균적으로 3.9만 달러 오차를 보임"
   ]
  },
  {
   "cell_type": "code",
   "execution_count": 25,
   "metadata": {
    "ExecuteTime": {
     "end_time": "2023-03-06T06:36:48.396226Z",
     "start_time": "2023-03-06T06:36:48.388411Z"
    }
   },
   "outputs": [
    {
     "data": {
      "text/plain": [
       "(26.64612950540944,\n",
       " array([-1.06780117e-01,  3.90094314e-02, -3.58429883e-02,  3.67013815e+00,\n",
       "        -1.04865770e+01,  4.40334730e+00, -1.72705466e-02, -1.38346664e+00,\n",
       "         2.79213379e-01, -1.21921834e-02, -8.12099657e-01,  1.02494307e-02,\n",
       "        -4.51947208e-01]))"
      ]
     },
     "execution_count": 25,
     "metadata": {},
     "output_type": "execute_result"
    }
   ],
   "source": [
    "# 모델 계수 확인\n",
    "lr.intercept_, lr.coef_"
   ]
  },
  {
   "cell_type": "code",
   "execution_count": 29,
   "metadata": {
    "ExecuteTime": {
     "end_time": "2023-03-06T06:38:27.804951Z",
     "start_time": "2023-03-06T06:38:27.792656Z"
    }
   },
   "outputs": [
    {
     "data": {
      "text/plain": [
       "21.470505236814837"
      ]
     },
     "execution_count": 29,
     "metadata": {},
     "output_type": "execute_result"
    }
   ],
   "source": [
    "lr.intercept_ + X_test.iloc[0].values @ lr.coef_"
   ]
  },
  {
   "cell_type": "code",
   "execution_count": 37,
   "metadata": {
    "ExecuteTime": {
     "end_time": "2023-03-06T06:40:32.384729Z",
     "start_time": "2023-03-06T06:40:32.371138Z"
    }
   },
   "outputs": [
    {
     "name": "stderr",
     "output_type": "stream",
     "text": [
      "/Users/byun/miniforge3/envs/main/lib/python3.8/site-packages/sklearn/base.py:450: UserWarning: X does not have valid feature names, but LinearRegression was fitted with feature names\n",
      "  warnings.warn(\n"
     ]
    },
    {
     "data": {
      "text/plain": [
       "array([21.47050524])"
      ]
     },
     "execution_count": 37,
     "metadata": {},
     "output_type": "execute_result"
    }
   ],
   "source": [
    "lr.predict(X_test.iloc[0].values.reshape(1, -1))"
   ]
  },
  {
   "cell_type": "markdown",
   "metadata": {},
   "source": [
    "## 정규화 모델\n",
    "> 일반적으로 샘플 수가 변수 갯수보다 적거나 크게 많지 않다면 회귀모델은 **과적합(overfitting)** 되는 경향이 있습니다.  \n",
    "회귀모델은 종속변수와 큰 관계가 없는 변수를 없애 주지 못함(수작업 필요).   \n",
    "이를 해결하기 위하여 설명 변수가 너무 많으면 정규화(규제)를 통해 이를 해결합니다.  \n",
    "최소자승법은 $\\beta_i = 0$을 만들어주지 못함.  \n",
    "\n",
    "### 과적합(overfitting)  \n",
    "> 학습 데이터로 학습한 모델의 테스트 데이터 예측 성능이 떨어지는 경우  \n",
    "모델이 일반화를 잘 못 시키는 상태. 실제 데이터 예측을 잘 못한다고 해석이 가능합니다.\n",
    "\n",
    "<img src=\"https://drive.google.com/uc?id=1szCkyN_9u5Dkn-b5Q5YbitKbOtzqkkrB\">"
   ]
  },
  {
   "cell_type": "markdown",
   "metadata": {},
   "source": [
    "### Lasso 모델\n",
    "기존 회귀모델의 비용함수에 설명변수의 베타 절대값의 합 $\\lambda\\sum_{j=1}^p\\left\\vert\\beta_j\\right\\vert$를 패널티 식으로 추가.\n",
    "$$J = \\sum_{i=1}^n{(y_i - \\hat y_i)^2} + \\lambda\\sum_{j=1}^p\\left\\vert\\beta_j\\right\\vert$$  \n",
    "\n",
    "> $n$ : 샘플갯수  \n",
    "> $p$ : 설명변수갯수  \n",
    "\n",
    "모델이 최적화 과정을 거치면서 비용함수의 최소값이 패널티 영역과 만나는 지점에서 정규화 모델의 최적이 이루어집니다.  \n",
    "회귀모델의 오차와 베타 절대값합에 해당하는 값을 동시에 최소화 시키는 방법으로 학습을 진행합니다.  \n",
    "불필요하게 설명변수의 갯수가 많을 경우 **회귀계수의 크기를 0으로 만들면서** 최적을 찾아갑니다.  \n",
    "많은 변수에 큰 패널티를 주며 독립변수의 갯수가 ridge 모델보다 상대적으로 많은 경우 Lasso 모델을 사용합니다.\n",
    "<img src=\"https://drive.google.com/uc?id=1dfgw998nZMEx2IYMBrF8h9Oov1I0KKpv\">\n",
    "\n",
    "### Ridge 모델\n",
    "기존 회귀모델의 비용함수에 설명변수의 베타의 제곱 합을 패널티로 $\\lambda\\sum_{j=1}^p\\beta_j^2$를 패널티 식으로 추가\n",
    "$$ J = \\sum_{i=1}^n{(y_i - \\hat y_i)^2} + \\lambda\\sum_{j=1}^p\\beta_j^2$$  \n",
    "\n",
    "> $n$ : 샘플갯수  \n",
    "> $p$ : 설명변수갯수  \n",
    "\n",
    "회귀모델의 오차와 베타 제곱합에 해당하는 값을 동시에 최소화 시키면서 학습을 진행합니다.  \n",
    "불필요하게 과대계상 된 변수의 **회귀계수의 크기를 감소**시키는 방법으로 학습을 진행합니다.    \n",
    "많은 변수에 패널티를 주며 독립변수의 갯수가 Lasso 모델보다 상대적으로 작은 경우 Ridge 모델을 사용합니다.\n",
    "<img src=\"https://drive.google.com/uc?id=1Auobpo3aWiHGLqmyqjksxOD69XRDRdFy\">"
   ]
  },
  {
   "cell_type": "markdown",
   "metadata": {},
   "source": [
    "### 정규화 모델 실습"
   ]
  },
  {
   "cell_type": "code",
   "execution_count": 49,
   "metadata": {
    "ExecuteTime": {
     "end_time": "2023-03-06T07:18:42.561086Z",
     "start_time": "2023-03-06T07:18:42.553564Z"
    }
   },
   "outputs": [],
   "source": [
    "# 모델 import\n",
    "from sklearn.linear_model import Ridge, Lasso"
   ]
  },
  {
   "cell_type": "markdown",
   "metadata": {},
   "source": [
    "#### Ridge model"
   ]
  },
  {
   "cell_type": "code",
   "execution_count": 55,
   "metadata": {
    "ExecuteTime": {
     "end_time": "2023-03-06T07:27:36.510672Z",
     "start_time": "2023-03-06T07:27:36.500982Z"
    }
   },
   "outputs": [],
   "source": [
    "# 모델 정의\n",
    "# 규제화모델의 경우 파라메터로 규제화강도에 해당하는 alpha 값을 같이 전달함. \n",
    "rg = Ridge(alpha=10)"
   ]
  },
  {
   "cell_type": "code",
   "execution_count": 56,
   "metadata": {
    "ExecuteTime": {
     "end_time": "2023-03-06T07:27:36.843361Z",
     "start_time": "2023-03-06T07:27:36.830386Z"
    }
   },
   "outputs": [
    {
     "data": {
      "text/html": [
       "<style>#sk-container-id-5 {color: black;background-color: white;}#sk-container-id-5 pre{padding: 0;}#sk-container-id-5 div.sk-toggleable {background-color: white;}#sk-container-id-5 label.sk-toggleable__label {cursor: pointer;display: block;width: 100%;margin-bottom: 0;padding: 0.3em;box-sizing: border-box;text-align: center;}#sk-container-id-5 label.sk-toggleable__label-arrow:before {content: \"▸\";float: left;margin-right: 0.25em;color: #696969;}#sk-container-id-5 label.sk-toggleable__label-arrow:hover:before {color: black;}#sk-container-id-5 div.sk-estimator:hover label.sk-toggleable__label-arrow:before {color: black;}#sk-container-id-5 div.sk-toggleable__content {max-height: 0;max-width: 0;overflow: hidden;text-align: left;background-color: #f0f8ff;}#sk-container-id-5 div.sk-toggleable__content pre {margin: 0.2em;color: black;border-radius: 0.25em;background-color: #f0f8ff;}#sk-container-id-5 input.sk-toggleable__control:checked~div.sk-toggleable__content {max-height: 200px;max-width: 100%;overflow: auto;}#sk-container-id-5 input.sk-toggleable__control:checked~label.sk-toggleable__label-arrow:before {content: \"▾\";}#sk-container-id-5 div.sk-estimator input.sk-toggleable__control:checked~label.sk-toggleable__label {background-color: #d4ebff;}#sk-container-id-5 div.sk-label input.sk-toggleable__control:checked~label.sk-toggleable__label {background-color: #d4ebff;}#sk-container-id-5 input.sk-hidden--visually {border: 0;clip: rect(1px 1px 1px 1px);clip: rect(1px, 1px, 1px, 1px);height: 1px;margin: -1px;overflow: hidden;padding: 0;position: absolute;width: 1px;}#sk-container-id-5 div.sk-estimator {font-family: monospace;background-color: #f0f8ff;border: 1px dotted black;border-radius: 0.25em;box-sizing: border-box;margin-bottom: 0.5em;}#sk-container-id-5 div.sk-estimator:hover {background-color: #d4ebff;}#sk-container-id-5 div.sk-parallel-item::after {content: \"\";width: 100%;border-bottom: 1px solid gray;flex-grow: 1;}#sk-container-id-5 div.sk-label:hover label.sk-toggleable__label {background-color: #d4ebff;}#sk-container-id-5 div.sk-serial::before {content: \"\";position: absolute;border-left: 1px solid gray;box-sizing: border-box;top: 0;bottom: 0;left: 50%;z-index: 0;}#sk-container-id-5 div.sk-serial {display: flex;flex-direction: column;align-items: center;background-color: white;padding-right: 0.2em;padding-left: 0.2em;position: relative;}#sk-container-id-5 div.sk-item {position: relative;z-index: 1;}#sk-container-id-5 div.sk-parallel {display: flex;align-items: stretch;justify-content: center;background-color: white;position: relative;}#sk-container-id-5 div.sk-item::before, #sk-container-id-5 div.sk-parallel-item::before {content: \"\";position: absolute;border-left: 1px solid gray;box-sizing: border-box;top: 0;bottom: 0;left: 50%;z-index: -1;}#sk-container-id-5 div.sk-parallel-item {display: flex;flex-direction: column;z-index: 1;position: relative;background-color: white;}#sk-container-id-5 div.sk-parallel-item:first-child::after {align-self: flex-end;width: 50%;}#sk-container-id-5 div.sk-parallel-item:last-child::after {align-self: flex-start;width: 50%;}#sk-container-id-5 div.sk-parallel-item:only-child::after {width: 0;}#sk-container-id-5 div.sk-dashed-wrapped {border: 1px dashed gray;margin: 0 0.4em 0.5em 0.4em;box-sizing: border-box;padding-bottom: 0.4em;background-color: white;}#sk-container-id-5 div.sk-label label {font-family: monospace;font-weight: bold;display: inline-block;line-height: 1.2em;}#sk-container-id-5 div.sk-label-container {text-align: center;}#sk-container-id-5 div.sk-container {/* jupyter's `normalize.less` sets `[hidden] { display: none; }` but bootstrap.min.css set `[hidden] { display: none !important; }` so we also need the `!important` here to be able to override the default hidden behavior on the sphinx rendered scikit-learn.org. See: https://github.com/scikit-learn/scikit-learn/issues/21755 */display: inline-block !important;position: relative;}#sk-container-id-5 div.sk-text-repr-fallback {display: none;}</style><div id=\"sk-container-id-5\" class=\"sk-top-container\"><div class=\"sk-text-repr-fallback\"><pre>Ridge(alpha=10)</pre><b>In a Jupyter environment, please rerun this cell to show the HTML representation or trust the notebook. <br />On GitHub, the HTML representation is unable to render, please try loading this page with nbviewer.org.</b></div><div class=\"sk-container\" hidden><div class=\"sk-item\"><div class=\"sk-estimator sk-toggleable\"><input class=\"sk-toggleable__control sk-hidden--visually\" id=\"sk-estimator-id-5\" type=\"checkbox\" checked><label for=\"sk-estimator-id-5\" class=\"sk-toggleable__label sk-toggleable__label-arrow\">Ridge</label><div class=\"sk-toggleable__content\"><pre>Ridge(alpha=10)</pre></div></div></div></div></div>"
      ],
      "text/plain": [
       "Ridge(alpha=10)"
      ]
     },
     "execution_count": 56,
     "metadata": {},
     "output_type": "execute_result"
    }
   ],
   "source": [
    "# 모델 학습\n",
    "rg.fit(X_train, y_train)"
   ]
  },
  {
   "cell_type": "code",
   "execution_count": 57,
   "metadata": {
    "ExecuteTime": {
     "end_time": "2023-03-06T07:27:37.520251Z",
     "start_time": "2023-03-06T07:27:37.510515Z"
    }
   },
   "outputs": [],
   "source": [
    "# 모델 예측\n",
    "rg_pred = rg.predict(X_test)"
   ]
  },
  {
   "cell_type": "code",
   "execution_count": 58,
   "metadata": {
    "ExecuteTime": {
     "end_time": "2023-03-06T07:27:51.800838Z",
     "start_time": "2023-03-06T07:27:51.790214Z"
    }
   },
   "outputs": [
    {
     "name": "stdout",
     "output_type": "stream",
     "text": [
      "R2 score : 0.6724237562438148\n",
      "RMSE : 4.789491484411076\n",
      "MAE : 3.094339596535893\n"
     ]
    }
   ],
   "source": [
    "# 모델 평가\n",
    "print(f'R2 score : {r2_score(y_test, rg_pred)}')\n",
    "print(f'RMSE : {mean_squared_error(y_test, rg_pred, squared=False)}')\n",
    "print(f'MAE : {mean_absolute_error(y_test, rg_pred)}')"
   ]
  },
  {
   "cell_type": "code",
   "execution_count": null,
   "metadata": {},
   "outputs": [],
   "source": [
    "'''\n",
    "rg-10\n",
    "R2 score : 0.6724237562438148\n",
    "RMSE : 4.789491484411076\n",
    "MAE : 3.094339596535893\n",
    "\n",
    "rg-1\n",
    "R2 score : 0.6789748327846079\n",
    "RMSE : 4.741357980709099\n",
    "MAE : 3.0503751260061756\n",
    "\n",
    "\n",
    "R2 score : 0.6844267283527123\n",
    "RMSE : 4.700924890603766\n",
    "MAE : 3.0609395954370378\n",
    "'''"
   ]
  },
  {
   "cell_type": "code",
   "execution_count": 59,
   "metadata": {
    "ExecuteTime": {
     "end_time": "2023-03-06T07:29:26.853350Z",
     "start_time": "2023-03-06T07:29:26.842863Z"
    }
   },
   "outputs": [
    {
     "data": {
      "text/plain": [
       "(22.65220058517978,\n",
       " array([-0.12137453,  0.03421897, -0.01307037,  1.8210257 , -1.68747299,\n",
       "         4.09010212, -0.01841796, -1.18806788,  0.24351944, -0.01208251,\n",
       "        -0.76717881,  0.01369631, -0.5734354 ]))"
      ]
     },
     "execution_count": 59,
     "metadata": {},
     "output_type": "execute_result"
    }
   ],
   "source": [
    "# 모델 계수 확인\n",
    "rg.intercept_, rg.coef_"
   ]
  },
  {
   "cell_type": "code",
   "execution_count": 64,
   "metadata": {
    "ExecuteTime": {
     "end_time": "2023-03-06T07:31:31.816866Z",
     "start_time": "2023-03-06T07:31:31.695029Z"
    }
   },
   "outputs": [
    {
     "data": {
      "image/png": "[encoded data removed]",
      "text/plain": [
       "<Figure size 1200x400 with 2 Axes>"
      ]
     },
     "metadata": {},
     "output_type": "display_data"
    }
   ],
   "source": [
    "# 기존모델에서의 회귀계수 와 ridge모델 계수 플로팅\n",
    "lr.coef_, rg.coef_\n",
    "plt.figure(figsize=(12, 4))\n",
    "plt.subplot(1, 2, 1)\n",
    "plt.bar(X_train.columns, lr.coef_)\n",
    "\n",
    "plt.subplot(1, 2, 2)\n",
    "plt.bar(X_train.columns, rg.coef_)\n",
    "\n",
    "plt.show()"
   ]
  },
  {
   "cell_type": "markdown",
   "metadata": {},
   "source": [
    "#### Lasso model"
   ]
  },
  {
   "cell_type": "code",
   "execution_count": 65,
   "metadata": {
    "ExecuteTime": {
     "end_time": "2023-03-06T07:38:02.038408Z",
     "start_time": "2023-03-06T07:38:02.028392Z"
    }
   },
   "outputs": [],
   "source": [
    "# 모델 정의\n",
    "lasso = Lasso(alpha=1)"
   ]
  },
  {
   "cell_type": "code",
   "execution_count": 66,
   "metadata": {
    "ExecuteTime": {
     "end_time": "2023-03-06T07:38:11.976489Z",
     "start_time": "2023-03-06T07:38:11.957900Z"
    }
   },
   "outputs": [
    {
     "data": {
      "text/html": [
       "<style>#sk-container-id-6 {color: black;background-color: white;}#sk-container-id-6 pre{padding: 0;}#sk-container-id-6 div.sk-toggleable {background-color: white;}#sk-container-id-6 label.sk-toggleable__label {cursor: pointer;display: block;width: 100%;margin-bottom: 0;padding: 0.3em;box-sizing: border-box;text-align: center;}#sk-container-id-6 label.sk-toggleable__label-arrow:before {content: \"▸\";float: left;margin-right: 0.25em;color: #696969;}#sk-container-id-6 label.sk-toggleable__label-arrow:hover:before {color: black;}#sk-container-id-6 div.sk-estimator:hover label.sk-toggleable__label-arrow:before {color: black;}#sk-container-id-6 div.sk-toggleable__content {max-height: 0;max-width: 0;overflow: hidden;text-align: left;background-color: #f0f8ff;}#sk-container-id-6 div.sk-toggleable__content pre {margin: 0.2em;color: black;border-radius: 0.25em;background-color: #f0f8ff;}#sk-container-id-6 input.sk-toggleable__control:checked~div.sk-toggleable__content {max-height: 200px;max-width: 100%;overflow: auto;}#sk-container-id-6 input.sk-toggleable__control:checked~label.sk-toggleable__label-arrow:before {content: \"▾\";}#sk-container-id-6 div.sk-estimator input.sk-toggleable__control:checked~label.sk-toggleable__label {background-color: #d4ebff;}#sk-container-id-6 div.sk-label input.sk-toggleable__control:checked~label.sk-toggleable__label {background-color: #d4ebff;}#sk-container-id-6 input.sk-hidden--visually {border: 0;clip: rect(1px 1px 1px 1px);clip: rect(1px, 1px, 1px, 1px);height: 1px;margin: -1px;overflow: hidden;padding: 0;position: absolute;width: 1px;}#sk-container-id-6 div.sk-estimator {font-family: monospace;background-color: #f0f8ff;border: 1px dotted black;border-radius: 0.25em;box-sizing: border-box;margin-bottom: 0.5em;}#sk-container-id-6 div.sk-estimator:hover {background-color: #d4ebff;}#sk-container-id-6 div.sk-parallel-item::after {content: \"\";width: 100%;border-bottom: 1px solid gray;flex-grow: 1;}#sk-container-id-6 div.sk-label:hover label.sk-toggleable__label {background-color: #d4ebff;}#sk-container-id-6 div.sk-serial::before {content: \"\";position: absolute;border-left: 1px solid gray;box-sizing: border-box;top: 0;bottom: 0;left: 50%;z-index: 0;}#sk-container-id-6 div.sk-serial {display: flex;flex-direction: column;align-items: center;background-color: white;padding-right: 0.2em;padding-left: 0.2em;position: relative;}#sk-container-id-6 div.sk-item {position: relative;z-index: 1;}#sk-container-id-6 div.sk-parallel {display: flex;align-items: stretch;justify-content: center;background-color: white;position: relative;}#sk-container-id-6 div.sk-item::before, #sk-container-id-6 div.sk-parallel-item::before {content: \"\";position: absolute;border-left: 1px solid gray;box-sizing: border-box;top: 0;bottom: 0;left: 50%;z-index: -1;}#sk-container-id-6 div.sk-parallel-item {display: flex;flex-direction: column;z-index: 1;position: relative;background-color: white;}#sk-container-id-6 div.sk-parallel-item:first-child::after {align-self: flex-end;width: 50%;}#sk-container-id-6 div.sk-parallel-item:last-child::after {align-self: flex-start;width: 50%;}#sk-container-id-6 div.sk-parallel-item:only-child::after {width: 0;}#sk-container-id-6 div.sk-dashed-wrapped {border: 1px dashed gray;margin: 0 0.4em 0.5em 0.4em;box-sizing: border-box;padding-bottom: 0.4em;background-color: white;}#sk-container-id-6 div.sk-label label {font-family: monospace;font-weight: bold;display: inline-block;line-height: 1.2em;}#sk-container-id-6 div.sk-label-container {text-align: center;}#sk-container-id-6 div.sk-container {/* jupyter's `normalize.less` sets `[hidden] { display: none; }` but bootstrap.min.css set `[hidden] { display: none !important; }` so we also need the `!important` here to be able to override the default hidden behavior on the sphinx rendered scikit-learn.org. See: https://github.com/scikit-learn/scikit-learn/issues/21755 */display: inline-block !important;position: relative;}#sk-container-id-6 div.sk-text-repr-fallback {display: none;}</style><div id=\"sk-container-id-6\" class=\"sk-top-container\"><div class=\"sk-text-repr-fallback\"><pre>Lasso(alpha=1)</pre><b>In a Jupyter environment, please rerun this cell to show the HTML representation or trust the notebook. <br />On GitHub, the HTML representation is unable to render, please try loading this page with nbviewer.org.</b></div><div class=\"sk-container\" hidden><div class=\"sk-item\"><div class=\"sk-estimator sk-toggleable\"><input class=\"sk-toggleable__control sk-hidden--visually\" id=\"sk-estimator-id-6\" type=\"checkbox\" checked><label for=\"sk-estimator-id-6\" class=\"sk-toggleable__label sk-toggleable__label-arrow\">Lasso</label><div class=\"sk-toggleable__content\"><pre>Lasso(alpha=1)</pre></div></div></div></div></div>"
      ],
      "text/plain": [
       "Lasso(alpha=1)"
      ]
     },
     "execution_count": 66,
     "metadata": {},
     "output_type": "execute_result"
    }
   ],
   "source": [
    "# 모델 학습\n",
    "lasso.fit(X_train, y_train)"
   ]
  },
  {
   "cell_type": "code",
   "execution_count": 68,
   "metadata": {
    "ExecuteTime": {
     "end_time": "2023-03-06T07:38:33.861532Z",
     "start_time": "2023-03-06T07:38:33.849465Z"
    }
   },
   "outputs": [],
   "source": [
    "# 모델 예측\n",
    "lasso_pred = lasso.predict(X_test)"
   ]
  },
  {
   "cell_type": "code",
   "execution_count": 69,
   "metadata": {
    "ExecuteTime": {
     "end_time": "2023-03-06T07:38:50.098000Z",
     "start_time": "2023-03-06T07:38:50.088597Z"
    },
    "scrolled": true
   },
   "outputs": [
    {
     "name": "stdout",
     "output_type": "stream",
     "text": [
      "R2 score : 0.6516957380017045\n",
      "RMSE : 4.938699483705721\n",
      "MAE : 3.424610243097109\n"
     ]
    }
   ],
   "source": [
    "# 모델 평가\n",
    "print(f'R2 score : {r2_score(y_test, lasso_pred)}')\n",
    "print(f'RMSE : {mean_squared_error(y_test, lasso_pred, squared=False)}')\n",
    "print(f'MAE : {mean_absolute_error(y_test, lasso_pred)}')"
   ]
  },
  {
   "cell_type": "code",
   "execution_count": null,
   "metadata": {},
   "outputs": [],
   "source": [
    "'''\n",
    "rg-10\n",
    "R2 score : 0.6724237562438148\n",
    "RMSE : 4.789491484411076\n",
    "MAE : 3.094339596535893\n",
    "\n",
    "rg-1\n",
    "R2 score : 0.6789748327846079\n",
    "RMSE : 4.741357980709099\n",
    "MAE : 3.0503751260061756\n",
    "\n",
    "\n",
    "R2 score : 0.6844267283527123\n",
    "RMSE : 4.700924890603766\n",
    "MAE : 3.0609395954370378\n",
    "'''"
   ]
  },
  {
   "cell_type": "code",
   "execution_count": 70,
   "metadata": {
    "ExecuteTime": {
     "end_time": "2023-03-06T07:39:57.998092Z",
     "start_time": "2023-03-06T07:39:57.987241Z"
    }
   },
   "outputs": [
    {
     "data": {
      "text/plain": [
       "array([-0.0838981 ,  0.02646051, -0.        ,  0.        , -0.        ,\n",
       "        1.54544951,  0.01345772, -0.58282853,  0.20738089, -0.01121302,\n",
       "       -0.70500625,  0.01198848, -0.75783702])"
      ]
     },
     "execution_count": 70,
     "metadata": {},
     "output_type": "execute_result"
    }
   ],
   "source": [
    "# 모델 계수 확인\n",
    "lasso.coef_"
   ]
  },
  {
   "cell_type": "code",
   "execution_count": 71,
   "metadata": {
    "ExecuteTime": {
     "end_time": "2023-03-06T07:40:26.731933Z",
     "start_time": "2023-03-06T07:40:26.606914Z"
    }
   },
   "outputs": [
    {
     "data": {
      "image/png": "[encoded data removed]",
      "text/plain": [
       "<Figure size 1200x400 with 2 Axes>"
      ]
     },
     "metadata": {},
     "output_type": "display_data"
    }
   ],
   "source": [
    "# 계수 플로팅\n",
    "plt.figure(figsize=(12, 4))\n",
    "plt.subplot(1, 2, 1)\n",
    "plt.bar(X_train.columns, lr.coef_)\n",
    "\n",
    "plt.subplot(1, 2, 2)\n",
    "plt.bar(X_train.columns, lasso.coef_)\n",
    "\n",
    "plt.show()"
   ]
  },
  {
   "cell_type": "markdown",
   "metadata": {},
   "source": [
    "## 다항회귀\n",
    "> 선형회귀의 경우 설명변수와 종속변수의 관계를 선형관계로 해석하지만 현실 문제는 선형으로 해결이 불가능한 경우가 많습니다.  \n",
    "선형모델의 구조적 한계를 보완하고자 **변수 간 영향력에 해당하는 새로운 변수를 생성**하여 방정식을 비선형으로 만들고 선형모델을 적용시킬 수 있습니다.  \n",
    "2차원 예시 $x_1, x_2, x_3$를 $x_1^2, x_2^2, x_3^2, x_1x_2, x_1x_3, x_2x_3$으로 변환하여 변수를 확장.  \n",
    "보통 2차원 또는 3차원까지 적용하며, 변수가 많아지므로 Ridge, Lasso 모델을 적용한다."
   ]
  },
  {
   "cell_type": "markdown",
   "metadata": {},
   "source": [
    "### 다항회귀 실습"
   ]
  },
  {
   "cell_type": "code",
   "execution_count": 72,
   "metadata": {
    "ExecuteTime": {
     "end_time": "2023-03-06T08:01:33.761364Z",
     "start_time": "2023-03-06T08:01:33.753874Z"
    }
   },
   "outputs": [],
   "source": [
    "# 필요모델 import\n",
    "from sklearn.preprocessing import PolynomialFeatures"
   ]
  },
  {
   "cell_type": "code",
   "execution_count": 73,
   "metadata": {
    "ExecuteTime": {
     "end_time": "2023-03-06T08:03:13.470791Z",
     "start_time": "2023-03-06T08:03:13.459452Z"
    }
   },
   "outputs": [
    {
     "data": {
      "text/plain": [
       "'\\n파라메터\\ndegree=2 : 차수설정\\ninclude_bias=False : 상수항 제거(필수) b0는 곱의 조합에서 제외함.\\n'"
      ]
     },
     "execution_count": 73,
     "metadata": {},
     "output_type": "execute_result"
    }
   ],
   "source": [
    "# 다항변수 제작함수 인스턴스화\n",
    "poly = PolynomialFeatures(degree=2, include_bias=False)\n",
    "'''\n",
    "파라메터\n",
    "degree=2 : 차수설정\n",
    "include_bias=False : 상수항 제거(필수) b0는 곱의 조합에서 제외함.\n",
    "'''"
   ]
  },
  {
   "cell_type": "code",
   "execution_count": 75,
   "metadata": {
    "ExecuteTime": {
     "end_time": "2023-03-06T08:04:52.088874Z",
     "start_time": "2023-03-06T08:04:52.078188Z"
    }
   },
   "outputs": [],
   "source": [
    "# 변수 변환\n",
    "# X_train에 해당하는 변수를 학습과 동시에 적용\n",
    "# 전처리 객체가 학습(변수 몇개인건지, 변수 명은 뭔지)\n",
    "poly_X_train = poly.fit_transform(X_train)"
   ]
  },
  {
   "cell_type": "code",
   "execution_count": 76,
   "metadata": {
    "ExecuteTime": {
     "end_time": "2023-03-06T08:05:11.366357Z",
     "start_time": "2023-03-06T08:05:11.355553Z"
    }
   },
   "outputs": [
    {
     "data": {
      "text/plain": [
       "((379, 13), (379, 104))"
      ]
     },
     "execution_count": 76,
     "metadata": {},
     "output_type": "execute_result"
    }
   ],
   "source": [
    "# shape 확인\n",
    "X_train.shape, poly_X_train.shape"
   ]
  },
  {
   "cell_type": "code",
   "execution_count": 77,
   "metadata": {
    "ExecuteTime": {
     "end_time": "2023-03-06T08:05:53.373470Z",
     "start_time": "2023-03-06T08:05:53.358530Z"
    }
   },
   "outputs": [
    {
     "data": {
      "text/plain": [
       "array(['CRIM', 'ZN', 'INDUS', 'CHAS', 'NOX', 'RM', 'AGE', 'DIS', 'RAD',\n",
       "       'TAX', 'PTRATIO', 'B', 'LSTAT', 'CRIM^2', 'CRIM ZN', 'CRIM INDUS',\n",
       "       'CRIM CHAS', 'CRIM NOX', 'CRIM RM', 'CRIM AGE', 'CRIM DIS',\n",
       "       'CRIM RAD', 'CRIM TAX', 'CRIM PTRATIO', 'CRIM B', 'CRIM LSTAT',\n",
       "       'ZN^2', 'ZN INDUS', 'ZN CHAS', 'ZN NOX', 'ZN RM', 'ZN AGE',\n",
       "       'ZN DIS', 'ZN RAD', 'ZN TAX', 'ZN PTRATIO', 'ZN B', 'ZN LSTAT',\n",
       "       'INDUS^2', 'INDUS CHAS', 'INDUS NOX', 'INDUS RM', 'INDUS AGE',\n",
       "       'INDUS DIS', 'INDUS RAD', 'INDUS TAX', 'INDUS PTRATIO', 'INDUS B',\n",
       "       'INDUS LSTAT', 'CHAS^2', 'CHAS NOX', 'CHAS RM', 'CHAS AGE',\n",
       "       'CHAS DIS', 'CHAS RAD', 'CHAS TAX', 'CHAS PTRATIO', 'CHAS B',\n",
       "       'CHAS LSTAT', 'NOX^2', 'NOX RM', 'NOX AGE', 'NOX DIS', 'NOX RAD',\n",
       "       'NOX TAX', 'NOX PTRATIO', 'NOX B', 'NOX LSTAT', 'RM^2', 'RM AGE',\n",
       "       'RM DIS', 'RM RAD', 'RM TAX', 'RM PTRATIO', 'RM B', 'RM LSTAT',\n",
       "       'AGE^2', 'AGE DIS', 'AGE RAD', 'AGE TAX', 'AGE PTRATIO', 'AGE B',\n",
       "       'AGE LSTAT', 'DIS^2', 'DIS RAD', 'DIS TAX', 'DIS PTRATIO', 'DIS B',\n",
       "       'DIS LSTAT', 'RAD^2', 'RAD TAX', 'RAD PTRATIO', 'RAD B',\n",
       "       'RAD LSTAT', 'TAX^2', 'TAX PTRATIO', 'TAX B', 'TAX LSTAT',\n",
       "       'PTRATIO^2', 'PTRATIO B', 'PTRATIO LSTAT', 'B^2', 'B LSTAT',\n",
       "       'LSTAT^2'], dtype=object)"
      ]
     },
     "execution_count": 77,
     "metadata": {},
     "output_type": "execute_result"
    }
   ],
   "source": [
    "# 변환식 반환\n",
    "poly.get_feature_names_out()"
   ]
  },
  {
   "cell_type": "code",
   "execution_count": 80,
   "metadata": {
    "ExecuteTime": {
     "end_time": "2023-03-06T08:07:41.661932Z",
     "start_time": "2023-03-06T08:07:41.652831Z"
    }
   },
   "outputs": [],
   "source": [
    "# 데이터프레임에서 확인 가능한 최대 변수 갯수 설정\n",
    "pd.options.display.max_columns = 150"
   ]
  },
  {
   "cell_type": "code",
   "execution_count": 81,
   "metadata": {
    "ExecuteTime": {
     "end_time": "2023-03-06T08:07:43.983785Z",
     "start_time": "2023-03-06T08:07:43.912559Z"
    }
   },
   "outputs": [
    {
     "data": {
      "text/html": [
       "<div>\n",
       "<style scoped>\n",
       "    .dataframe tbody tr th:only-of-type {\n",
       "        vertical-align: middle;\n",
       "    }\n",
       "\n",
       "    .dataframe tbody tr th {\n",
       "        vertical-align: top;\n",
       "    }\n",
       "\n",
       "    .dataframe thead th {\n",
       "        text-align: right;\n",
       "    }\n",
       "</style>\n",
       "<table border=\"1\" class=\"dataframe\">\n",
       "  <thead>\n",
       "    <tr style=\"text-align: right;\">\n",
       "      <th></th>\n",
       "      <th>CRIM</th>\n",
       "      <th>ZN</th>\n",
       "      <th>INDUS</th>\n",
       "      <th>CHAS</th>\n",
       "      <th>NOX</th>\n",
       "      <th>RM</th>\n",
       "      <th>AGE</th>\n",
       "      <th>DIS</th>\n",
       "      <th>RAD</th>\n",
       "      <th>TAX</th>\n",
       "      <th>PTRATIO</th>\n",
       "      <th>B</th>\n",
       "      <th>LSTAT</th>\n",
       "      <th>CRIM^2</th>\n",
       "      <th>CRIM ZN</th>\n",
       "      <th>CRIM INDUS</th>\n",
       "      <th>CRIM CHAS</th>\n",
       "      <th>CRIM NOX</th>\n",
       "      <th>CRIM RM</th>\n",
       "      <th>CRIM AGE</th>\n",
       "      <th>CRIM DIS</th>\n",
       "      <th>CRIM RAD</th>\n",
       "      <th>CRIM TAX</th>\n",
       "      <th>CRIM PTRATIO</th>\n",
       "      <th>CRIM B</th>\n",
       "      <th>CRIM LSTAT</th>\n",
       "      <th>ZN^2</th>\n",
       "      <th>ZN INDUS</th>\n",
       "      <th>ZN CHAS</th>\n",
       "      <th>ZN NOX</th>\n",
       "      <th>ZN RM</th>\n",
       "      <th>ZN AGE</th>\n",
       "      <th>ZN DIS</th>\n",
       "      <th>ZN RAD</th>\n",
       "      <th>ZN TAX</th>\n",
       "      <th>ZN PTRATIO</th>\n",
       "      <th>ZN B</th>\n",
       "      <th>ZN LSTAT</th>\n",
       "      <th>INDUS^2</th>\n",
       "      <th>INDUS CHAS</th>\n",
       "      <th>INDUS NOX</th>\n",
       "      <th>INDUS RM</th>\n",
       "      <th>INDUS AGE</th>\n",
       "      <th>INDUS DIS</th>\n",
       "      <th>INDUS RAD</th>\n",
       "      <th>INDUS TAX</th>\n",
       "      <th>INDUS PTRATIO</th>\n",
       "      <th>INDUS B</th>\n",
       "      <th>INDUS LSTAT</th>\n",
       "      <th>CHAS^2</th>\n",
       "      <th>CHAS NOX</th>\n",
       "      <th>CHAS RM</th>\n",
       "      <th>CHAS AGE</th>\n",
       "      <th>CHAS DIS</th>\n",
       "      <th>CHAS RAD</th>\n",
       "      <th>CHAS TAX</th>\n",
       "      <th>CHAS PTRATIO</th>\n",
       "      <th>CHAS B</th>\n",
       "      <th>CHAS LSTAT</th>\n",
       "      <th>NOX^2</th>\n",
       "      <th>NOX RM</th>\n",
       "      <th>NOX AGE</th>\n",
       "      <th>NOX DIS</th>\n",
       "      <th>NOX RAD</th>\n",
       "      <th>NOX TAX</th>\n",
       "      <th>NOX PTRATIO</th>\n",
       "      <th>NOX B</th>\n",
       "      <th>NOX LSTAT</th>\n",
       "      <th>RM^2</th>\n",
       "      <th>RM AGE</th>\n",
       "      <th>RM DIS</th>\n",
       "      <th>RM RAD</th>\n",
       "      <th>RM TAX</th>\n",
       "      <th>RM PTRATIO</th>\n",
       "      <th>RM B</th>\n",
       "      <th>RM LSTAT</th>\n",
       "      <th>AGE^2</th>\n",
       "      <th>AGE DIS</th>\n",
       "      <th>AGE RAD</th>\n",
       "      <th>AGE TAX</th>\n",
       "      <th>AGE PTRATIO</th>\n",
       "      <th>AGE B</th>\n",
       "      <th>AGE LSTAT</th>\n",
       "      <th>DIS^2</th>\n",
       "      <th>DIS RAD</th>\n",
       "      <th>DIS TAX</th>\n",
       "      <th>DIS PTRATIO</th>\n",
       "      <th>DIS B</th>\n",
       "      <th>DIS LSTAT</th>\n",
       "      <th>RAD^2</th>\n",
       "      <th>RAD TAX</th>\n",
       "      <th>RAD PTRATIO</th>\n",
       "      <th>RAD B</th>\n",
       "      <th>RAD LSTAT</th>\n",
       "      <th>TAX^2</th>\n",
       "      <th>TAX PTRATIO</th>\n",
       "      <th>TAX B</th>\n",
       "      <th>TAX LSTAT</th>\n",
       "      <th>PTRATIO^2</th>\n",
       "      <th>PTRATIO B</th>\n",
       "      <th>PTRATIO LSTAT</th>\n",
       "      <th>B^2</th>\n",
       "      <th>B LSTAT</th>\n",
       "      <th>LSTAT^2</th>\n",
       "    </tr>\n",
       "  </thead>\n",
       "  <tbody>\n",
       "    <tr>\n",
       "      <th>0</th>\n",
       "      <td>0.09103</td>\n",
       "      <td>0.0</td>\n",
       "      <td>2.46</td>\n",
       "      <td>0.0</td>\n",
       "      <td>0.4880</td>\n",
       "      <td>7.155</td>\n",
       "      <td>92.2</td>\n",
       "      <td>2.7006</td>\n",
       "      <td>3.0</td>\n",
       "      <td>193.0</td>\n",
       "      <td>17.8</td>\n",
       "      <td>394.12</td>\n",
       "      <td>4.82</td>\n",
       "      <td>0.008286</td>\n",
       "      <td>0.0000</td>\n",
       "      <td>0.223934</td>\n",
       "      <td>0.00000</td>\n",
       "      <td>0.044423</td>\n",
       "      <td>0.651320</td>\n",
       "      <td>8.392966</td>\n",
       "      <td>0.245836</td>\n",
       "      <td>0.27309</td>\n",
       "      <td>17.56879</td>\n",
       "      <td>1.620334</td>\n",
       "      <td>35.876744</td>\n",
       "      <td>0.438765</td>\n",
       "      <td>0.0</td>\n",
       "      <td>0.0</td>\n",
       "      <td>0.0</td>\n",
       "      <td>0.000</td>\n",
       "      <td>0.00</td>\n",
       "      <td>0.0</td>\n",
       "      <td>0.000</td>\n",
       "      <td>0.0</td>\n",
       "      <td>0.0</td>\n",
       "      <td>0.0</td>\n",
       "      <td>0.0</td>\n",
       "      <td>0.0</td>\n",
       "      <td>6.0516</td>\n",
       "      <td>0.00</td>\n",
       "      <td>1.200480</td>\n",
       "      <td>17.60130</td>\n",
       "      <td>226.812</td>\n",
       "      <td>6.643476</td>\n",
       "      <td>7.38</td>\n",
       "      <td>474.78</td>\n",
       "      <td>43.788</td>\n",
       "      <td>969.5352</td>\n",
       "      <td>11.8572</td>\n",
       "      <td>0.0</td>\n",
       "      <td>0.000</td>\n",
       "      <td>0.000</td>\n",
       "      <td>0.0</td>\n",
       "      <td>0.0000</td>\n",
       "      <td>0.0</td>\n",
       "      <td>0.0</td>\n",
       "      <td>0.0</td>\n",
       "      <td>0.00</td>\n",
       "      <td>0.00</td>\n",
       "      <td>0.238144</td>\n",
       "      <td>3.491640</td>\n",
       "      <td>44.99360</td>\n",
       "      <td>1.317893</td>\n",
       "      <td>1.4640</td>\n",
       "      <td>94.1840</td>\n",
       "      <td>8.68640</td>\n",
       "      <td>192.330560</td>\n",
       "      <td>2.352160</td>\n",
       "      <td>51.194025</td>\n",
       "      <td>659.6910</td>\n",
       "      <td>19.322793</td>\n",
       "      <td>21.465</td>\n",
       "      <td>1380.915</td>\n",
       "      <td>127.3590</td>\n",
       "      <td>2819.92860</td>\n",
       "      <td>34.48710</td>\n",
       "      <td>8500.84</td>\n",
       "      <td>248.99532</td>\n",
       "      <td>276.6</td>\n",
       "      <td>17794.6</td>\n",
       "      <td>1641.16</td>\n",
       "      <td>36337.864</td>\n",
       "      <td>444.404</td>\n",
       "      <td>7.293240</td>\n",
       "      <td>8.1018</td>\n",
       "      <td>521.2158</td>\n",
       "      <td>48.07068</td>\n",
       "      <td>1064.360472</td>\n",
       "      <td>13.016892</td>\n",
       "      <td>9.0</td>\n",
       "      <td>579.0</td>\n",
       "      <td>53.4</td>\n",
       "      <td>1182.36</td>\n",
       "      <td>14.46</td>\n",
       "      <td>37249.0</td>\n",
       "      <td>3435.4</td>\n",
       "      <td>76065.16</td>\n",
       "      <td>930.26</td>\n",
       "      <td>316.84</td>\n",
       "      <td>7015.336</td>\n",
       "      <td>85.796</td>\n",
       "      <td>155330.5744</td>\n",
       "      <td>1899.6584</td>\n",
       "      <td>23.2324</td>\n",
       "    </tr>\n",
       "    <tr>\n",
       "      <th>1</th>\n",
       "      <td>3.53501</td>\n",
       "      <td>0.0</td>\n",
       "      <td>19.58</td>\n",
       "      <td>1.0</td>\n",
       "      <td>0.8710</td>\n",
       "      <td>6.152</td>\n",
       "      <td>82.6</td>\n",
       "      <td>1.7455</td>\n",
       "      <td>5.0</td>\n",
       "      <td>403.0</td>\n",
       "      <td>14.7</td>\n",
       "      <td>88.01</td>\n",
       "      <td>15.02</td>\n",
       "      <td>12.496296</td>\n",
       "      <td>0.0000</td>\n",
       "      <td>69.215496</td>\n",
       "      <td>3.53501</td>\n",
       "      <td>3.078994</td>\n",
       "      <td>21.747382</td>\n",
       "      <td>291.991826</td>\n",
       "      <td>6.170360</td>\n",
       "      <td>17.67505</td>\n",
       "      <td>1424.60903</td>\n",
       "      <td>51.964647</td>\n",
       "      <td>311.116230</td>\n",
       "      <td>53.095850</td>\n",
       "      <td>0.0</td>\n",
       "      <td>0.0</td>\n",
       "      <td>0.0</td>\n",
       "      <td>0.000</td>\n",
       "      <td>0.00</td>\n",
       "      <td>0.0</td>\n",
       "      <td>0.000</td>\n",
       "      <td>0.0</td>\n",
       "      <td>0.0</td>\n",
       "      <td>0.0</td>\n",
       "      <td>0.0</td>\n",
       "      <td>0.0</td>\n",
       "      <td>383.3764</td>\n",
       "      <td>19.58</td>\n",
       "      <td>17.054180</td>\n",
       "      <td>120.45616</td>\n",
       "      <td>1617.308</td>\n",
       "      <td>34.176890</td>\n",
       "      <td>97.90</td>\n",
       "      <td>7890.74</td>\n",
       "      <td>287.826</td>\n",
       "      <td>1723.2358</td>\n",
       "      <td>294.0916</td>\n",
       "      <td>1.0</td>\n",
       "      <td>0.871</td>\n",
       "      <td>6.152</td>\n",
       "      <td>82.6</td>\n",
       "      <td>1.7455</td>\n",
       "      <td>5.0</td>\n",
       "      <td>403.0</td>\n",
       "      <td>14.7</td>\n",
       "      <td>88.01</td>\n",
       "      <td>15.02</td>\n",
       "      <td>0.758641</td>\n",
       "      <td>5.358392</td>\n",
       "      <td>71.94460</td>\n",
       "      <td>1.520331</td>\n",
       "      <td>4.3550</td>\n",
       "      <td>351.0130</td>\n",
       "      <td>12.80370</td>\n",
       "      <td>76.656710</td>\n",
       "      <td>13.082420</td>\n",
       "      <td>37.847104</td>\n",
       "      <td>508.1552</td>\n",
       "      <td>10.738316</td>\n",
       "      <td>30.760</td>\n",
       "      <td>2479.256</td>\n",
       "      <td>90.4344</td>\n",
       "      <td>541.43752</td>\n",
       "      <td>92.40304</td>\n",
       "      <td>6822.76</td>\n",
       "      <td>144.17830</td>\n",
       "      <td>413.0</td>\n",
       "      <td>33287.8</td>\n",
       "      <td>1214.22</td>\n",
       "      <td>7269.626</td>\n",
       "      <td>1240.652</td>\n",
       "      <td>3.046770</td>\n",
       "      <td>8.7275</td>\n",
       "      <td>703.4365</td>\n",
       "      <td>25.65885</td>\n",
       "      <td>153.621455</td>\n",
       "      <td>26.217410</td>\n",
       "      <td>25.0</td>\n",
       "      <td>2015.0</td>\n",
       "      <td>73.5</td>\n",
       "      <td>440.05</td>\n",
       "      <td>75.10</td>\n",
       "      <td>162409.0</td>\n",
       "      <td>5924.1</td>\n",
       "      <td>35468.03</td>\n",
       "      <td>6053.06</td>\n",
       "      <td>216.09</td>\n",
       "      <td>1293.747</td>\n",
       "      <td>220.794</td>\n",
       "      <td>7745.7601</td>\n",
       "      <td>1321.9102</td>\n",
       "      <td>225.6004</td>\n",
       "    </tr>\n",
       "    <tr>\n",
       "      <th>2</th>\n",
       "      <td>0.03578</td>\n",
       "      <td>20.0</td>\n",
       "      <td>3.33</td>\n",
       "      <td>0.0</td>\n",
       "      <td>0.4429</td>\n",
       "      <td>7.820</td>\n",
       "      <td>64.5</td>\n",
       "      <td>4.6947</td>\n",
       "      <td>5.0</td>\n",
       "      <td>216.0</td>\n",
       "      <td>14.9</td>\n",
       "      <td>387.31</td>\n",
       "      <td>3.76</td>\n",
       "      <td>0.001280</td>\n",
       "      <td>0.7156</td>\n",
       "      <td>0.119147</td>\n",
       "      <td>0.00000</td>\n",
       "      <td>0.015847</td>\n",
       "      <td>0.279800</td>\n",
       "      <td>2.307810</td>\n",
       "      <td>0.167976</td>\n",
       "      <td>0.17890</td>\n",
       "      <td>7.72848</td>\n",
       "      <td>0.533122</td>\n",
       "      <td>13.857952</td>\n",
       "      <td>0.134533</td>\n",
       "      <td>400.0</td>\n",
       "      <td>66.6</td>\n",
       "      <td>0.0</td>\n",
       "      <td>8.858</td>\n",
       "      <td>156.40</td>\n",
       "      <td>1290.0</td>\n",
       "      <td>93.894</td>\n",
       "      <td>100.0</td>\n",
       "      <td>4320.0</td>\n",
       "      <td>298.0</td>\n",
       "      <td>7746.2</td>\n",
       "      <td>75.2</td>\n",
       "      <td>11.0889</td>\n",
       "      <td>0.00</td>\n",
       "      <td>1.474857</td>\n",
       "      <td>26.04060</td>\n",
       "      <td>214.785</td>\n",
       "      <td>15.633351</td>\n",
       "      <td>16.65</td>\n",
       "      <td>719.28</td>\n",
       "      <td>49.617</td>\n",
       "      <td>1289.7423</td>\n",
       "      <td>12.5208</td>\n",
       "      <td>0.0</td>\n",
       "      <td>0.000</td>\n",
       "      <td>0.000</td>\n",
       "      <td>0.0</td>\n",
       "      <td>0.0000</td>\n",
       "      <td>0.0</td>\n",
       "      <td>0.0</td>\n",
       "      <td>0.0</td>\n",
       "      <td>0.00</td>\n",
       "      <td>0.00</td>\n",
       "      <td>0.196160</td>\n",
       "      <td>3.463478</td>\n",
       "      <td>28.56705</td>\n",
       "      <td>2.079283</td>\n",
       "      <td>2.2145</td>\n",
       "      <td>95.6664</td>\n",
       "      <td>6.59921</td>\n",
       "      <td>171.539599</td>\n",
       "      <td>1.665304</td>\n",
       "      <td>61.152400</td>\n",
       "      <td>504.3900</td>\n",
       "      <td>36.712554</td>\n",
       "      <td>39.100</td>\n",
       "      <td>1689.120</td>\n",
       "      <td>116.5180</td>\n",
       "      <td>3028.76420</td>\n",
       "      <td>29.40320</td>\n",
       "      <td>4160.25</td>\n",
       "      <td>302.80815</td>\n",
       "      <td>322.5</td>\n",
       "      <td>13932.0</td>\n",
       "      <td>961.05</td>\n",
       "      <td>24981.495</td>\n",
       "      <td>242.520</td>\n",
       "      <td>22.040208</td>\n",
       "      <td>23.4735</td>\n",
       "      <td>1014.0552</td>\n",
       "      <td>69.95103</td>\n",
       "      <td>1818.304257</td>\n",
       "      <td>17.652072</td>\n",
       "      <td>25.0</td>\n",
       "      <td>1080.0</td>\n",
       "      <td>74.5</td>\n",
       "      <td>1936.55</td>\n",
       "      <td>18.80</td>\n",
       "      <td>46656.0</td>\n",
       "      <td>3218.4</td>\n",
       "      <td>83658.96</td>\n",
       "      <td>812.16</td>\n",
       "      <td>222.01</td>\n",
       "      <td>5770.919</td>\n",
       "      <td>56.024</td>\n",
       "      <td>150009.0361</td>\n",
       "      <td>1456.2856</td>\n",
       "      <td>14.1376</td>\n",
       "    </tr>\n",
       "    <tr>\n",
       "      <th>3</th>\n",
       "      <td>0.38735</td>\n",
       "      <td>0.0</td>\n",
       "      <td>25.65</td>\n",
       "      <td>0.0</td>\n",
       "      <td>0.5810</td>\n",
       "      <td>5.613</td>\n",
       "      <td>95.6</td>\n",
       "      <td>1.7572</td>\n",
       "      <td>2.0</td>\n",
       "      <td>188.0</td>\n",
       "      <td>19.1</td>\n",
       "      <td>359.29</td>\n",
       "      <td>27.26</td>\n",
       "      <td>0.150040</td>\n",
       "      <td>0.0000</td>\n",
       "      <td>9.935528</td>\n",
       "      <td>0.00000</td>\n",
       "      <td>0.225050</td>\n",
       "      <td>2.174196</td>\n",
       "      <td>37.030660</td>\n",
       "      <td>0.680651</td>\n",
       "      <td>0.77470</td>\n",
       "      <td>72.82180</td>\n",
       "      <td>7.398385</td>\n",
       "      <td>139.170982</td>\n",
       "      <td>10.559161</td>\n",
       "      <td>0.0</td>\n",
       "      <td>0.0</td>\n",
       "      <td>0.0</td>\n",
       "      <td>0.000</td>\n",
       "      <td>0.00</td>\n",
       "      <td>0.0</td>\n",
       "      <td>0.000</td>\n",
       "      <td>0.0</td>\n",
       "      <td>0.0</td>\n",
       "      <td>0.0</td>\n",
       "      <td>0.0</td>\n",
       "      <td>0.0</td>\n",
       "      <td>657.9225</td>\n",
       "      <td>0.00</td>\n",
       "      <td>14.902650</td>\n",
       "      <td>143.97345</td>\n",
       "      <td>2452.140</td>\n",
       "      <td>45.072180</td>\n",
       "      <td>51.30</td>\n",
       "      <td>4822.20</td>\n",
       "      <td>489.915</td>\n",
       "      <td>9215.7885</td>\n",
       "      <td>699.2190</td>\n",
       "      <td>0.0</td>\n",
       "      <td>0.000</td>\n",
       "      <td>0.000</td>\n",
       "      <td>0.0</td>\n",
       "      <td>0.0000</td>\n",
       "      <td>0.0</td>\n",
       "      <td>0.0</td>\n",
       "      <td>0.0</td>\n",
       "      <td>0.00</td>\n",
       "      <td>0.00</td>\n",
       "      <td>0.337561</td>\n",
       "      <td>3.261153</td>\n",
       "      <td>55.54360</td>\n",
       "      <td>1.020933</td>\n",
       "      <td>1.1620</td>\n",
       "      <td>109.2280</td>\n",
       "      <td>11.09710</td>\n",
       "      <td>208.747490</td>\n",
       "      <td>15.838060</td>\n",
       "      <td>31.505769</td>\n",
       "      <td>536.6028</td>\n",
       "      <td>9.863164</td>\n",
       "      <td>11.226</td>\n",
       "      <td>1055.244</td>\n",
       "      <td>107.2083</td>\n",
       "      <td>2016.69477</td>\n",
       "      <td>153.01038</td>\n",
       "      <td>9139.36</td>\n",
       "      <td>167.98832</td>\n",
       "      <td>191.2</td>\n",
       "      <td>17972.8</td>\n",
       "      <td>1825.96</td>\n",
       "      <td>34348.124</td>\n",
       "      <td>2606.056</td>\n",
       "      <td>3.087752</td>\n",
       "      <td>3.5144</td>\n",
       "      <td>330.3536</td>\n",
       "      <td>33.56252</td>\n",
       "      <td>631.344388</td>\n",
       "      <td>47.901272</td>\n",
       "      <td>4.0</td>\n",
       "      <td>376.0</td>\n",
       "      <td>38.2</td>\n",
       "      <td>718.58</td>\n",
       "      <td>54.52</td>\n",
       "      <td>35344.0</td>\n",
       "      <td>3590.8</td>\n",
       "      <td>67546.52</td>\n",
       "      <td>5124.88</td>\n",
       "      <td>364.81</td>\n",
       "      <td>6862.439</td>\n",
       "      <td>520.666</td>\n",
       "      <td>129089.3041</td>\n",
       "      <td>9794.2454</td>\n",
       "      <td>743.1076</td>\n",
       "    </tr>\n",
       "    <tr>\n",
       "      <th>4</th>\n",
       "      <td>0.06724</td>\n",
       "      <td>0.0</td>\n",
       "      <td>3.24</td>\n",
       "      <td>0.0</td>\n",
       "      <td>0.4600</td>\n",
       "      <td>6.333</td>\n",
       "      <td>17.2</td>\n",
       "      <td>5.2146</td>\n",
       "      <td>4.0</td>\n",
       "      <td>430.0</td>\n",
       "      <td>16.9</td>\n",
       "      <td>375.21</td>\n",
       "      <td>7.34</td>\n",
       "      <td>0.004521</td>\n",
       "      <td>0.0000</td>\n",
       "      <td>0.217858</td>\n",
       "      <td>0.00000</td>\n",
       "      <td>0.030930</td>\n",
       "      <td>0.425831</td>\n",
       "      <td>1.156528</td>\n",
       "      <td>0.350630</td>\n",
       "      <td>0.26896</td>\n",
       "      <td>28.91320</td>\n",
       "      <td>1.136356</td>\n",
       "      <td>25.229120</td>\n",
       "      <td>0.493542</td>\n",
       "      <td>0.0</td>\n",
       "      <td>0.0</td>\n",
       "      <td>0.0</td>\n",
       "      <td>0.000</td>\n",
       "      <td>0.00</td>\n",
       "      <td>0.0</td>\n",
       "      <td>0.000</td>\n",
       "      <td>0.0</td>\n",
       "      <td>0.0</td>\n",
       "      <td>0.0</td>\n",
       "      <td>0.0</td>\n",
       "      <td>0.0</td>\n",
       "      <td>10.4976</td>\n",
       "      <td>0.00</td>\n",
       "      <td>1.490400</td>\n",
       "      <td>20.51892</td>\n",
       "      <td>55.728</td>\n",
       "      <td>16.895304</td>\n",
       "      <td>12.96</td>\n",
       "      <td>1393.20</td>\n",
       "      <td>54.756</td>\n",
       "      <td>1215.6804</td>\n",
       "      <td>23.7816</td>\n",
       "      <td>0.0</td>\n",
       "      <td>0.000</td>\n",
       "      <td>0.000</td>\n",
       "      <td>0.0</td>\n",
       "      <td>0.0000</td>\n",
       "      <td>0.0</td>\n",
       "      <td>0.0</td>\n",
       "      <td>0.0</td>\n",
       "      <td>0.00</td>\n",
       "      <td>0.00</td>\n",
       "      <td>0.211600</td>\n",
       "      <td>2.913180</td>\n",
       "      <td>7.91200</td>\n",
       "      <td>2.398716</td>\n",
       "      <td>1.8400</td>\n",
       "      <td>197.8000</td>\n",
       "      <td>7.77400</td>\n",
       "      <td>172.596600</td>\n",
       "      <td>3.376400</td>\n",
       "      <td>40.106889</td>\n",
       "      <td>108.9276</td>\n",
       "      <td>33.024062</td>\n",
       "      <td>25.332</td>\n",
       "      <td>2723.190</td>\n",
       "      <td>107.0277</td>\n",
       "      <td>2376.20493</td>\n",
       "      <td>46.48422</td>\n",
       "      <td>295.84</td>\n",
       "      <td>89.69112</td>\n",
       "      <td>68.8</td>\n",
       "      <td>7396.0</td>\n",
       "      <td>290.68</td>\n",
       "      <td>6453.612</td>\n",
       "      <td>126.248</td>\n",
       "      <td>27.192053</td>\n",
       "      <td>20.8584</td>\n",
       "      <td>2242.2780</td>\n",
       "      <td>88.12674</td>\n",
       "      <td>1956.570066</td>\n",
       "      <td>38.275164</td>\n",
       "      <td>16.0</td>\n",
       "      <td>1720.0</td>\n",
       "      <td>67.6</td>\n",
       "      <td>1500.84</td>\n",
       "      <td>29.36</td>\n",
       "      <td>184900.0</td>\n",
       "      <td>7267.0</td>\n",
       "      <td>161340.30</td>\n",
       "      <td>3156.20</td>\n",
       "      <td>285.61</td>\n",
       "      <td>6341.049</td>\n",
       "      <td>124.046</td>\n",
       "      <td>140782.5441</td>\n",
       "      <td>2754.0414</td>\n",
       "      <td>53.8756</td>\n",
       "    </tr>\n",
       "    <tr>\n",
       "      <th>...</th>\n",
       "      <td>...</td>\n",
       "      <td>...</td>\n",
       "      <td>...</td>\n",
       "      <td>...</td>\n",
       "      <td>...</td>\n",
       "      <td>...</td>\n",
       "      <td>...</td>\n",
       "      <td>...</td>\n",
       "      <td>...</td>\n",
       "      <td>...</td>\n",
       "      <td>...</td>\n",
       "      <td>...</td>\n",
       "      <td>...</td>\n",
       "      <td>...</td>\n",
       "      <td>...</td>\n",
       "      <td>...</td>\n",
       "      <td>...</td>\n",
       "      <td>...</td>\n",
       "      <td>...</td>\n",
       "      <td>...</td>\n",
       "      <td>...</td>\n",
       "      <td>...</td>\n",
       "      <td>...</td>\n",
       "      <td>...</td>\n",
       "      <td>...</td>\n",
       "      <td>...</td>\n",
       "      <td>...</td>\n",
       "      <td>...</td>\n",
       "      <td>...</td>\n",
       "      <td>...</td>\n",
       "      <td>...</td>\n",
       "      <td>...</td>\n",
       "      <td>...</td>\n",
       "      <td>...</td>\n",
       "      <td>...</td>\n",
       "      <td>...</td>\n",
       "      <td>...</td>\n",
       "      <td>...</td>\n",
       "      <td>...</td>\n",
       "      <td>...</td>\n",
       "      <td>...</td>\n",
       "      <td>...</td>\n",
       "      <td>...</td>\n",
       "      <td>...</td>\n",
       "      <td>...</td>\n",
       "      <td>...</td>\n",
       "      <td>...</td>\n",
       "      <td>...</td>\n",
       "      <td>...</td>\n",
       "      <td>...</td>\n",
       "      <td>...</td>\n",
       "      <td>...</td>\n",
       "      <td>...</td>\n",
       "      <td>...</td>\n",
       "      <td>...</td>\n",
       "      <td>...</td>\n",
       "      <td>...</td>\n",
       "      <td>...</td>\n",
       "      <td>...</td>\n",
       "      <td>...</td>\n",
       "      <td>...</td>\n",
       "      <td>...</td>\n",
       "      <td>...</td>\n",
       "      <td>...</td>\n",
       "      <td>...</td>\n",
       "      <td>...</td>\n",
       "      <td>...</td>\n",
       "      <td>...</td>\n",
       "      <td>...</td>\n",
       "      <td>...</td>\n",
       "      <td>...</td>\n",
       "      <td>...</td>\n",
       "      <td>...</td>\n",
       "      <td>...</td>\n",
       "      <td>...</td>\n",
       "      <td>...</td>\n",
       "      <td>...</td>\n",
       "      <td>...</td>\n",
       "      <td>...</td>\n",
       "      <td>...</td>\n",
       "      <td>...</td>\n",
       "      <td>...</td>\n",
       "      <td>...</td>\n",
       "      <td>...</td>\n",
       "      <td>...</td>\n",
       "      <td>...</td>\n",
       "      <td>...</td>\n",
       "      <td>...</td>\n",
       "      <td>...</td>\n",
       "      <td>...</td>\n",
       "      <td>...</td>\n",
       "      <td>...</td>\n",
       "      <td>...</td>\n",
       "      <td>...</td>\n",
       "      <td>...</td>\n",
       "      <td>...</td>\n",
       "      <td>...</td>\n",
       "      <td>...</td>\n",
       "      <td>...</td>\n",
       "      <td>...</td>\n",
       "      <td>...</td>\n",
       "      <td>...</td>\n",
       "      <td>...</td>\n",
       "      <td>...</td>\n",
       "    </tr>\n",
       "    <tr>\n",
       "      <th>374</th>\n",
       "      <td>0.17120</td>\n",
       "      <td>0.0</td>\n",
       "      <td>8.56</td>\n",
       "      <td>0.0</td>\n",
       "      <td>0.5200</td>\n",
       "      <td>5.836</td>\n",
       "      <td>91.9</td>\n",
       "      <td>2.2110</td>\n",
       "      <td>5.0</td>\n",
       "      <td>384.0</td>\n",
       "      <td>20.9</td>\n",
       "      <td>395.67</td>\n",
       "      <td>18.66</td>\n",
       "      <td>0.029309</td>\n",
       "      <td>0.0000</td>\n",
       "      <td>1.465472</td>\n",
       "      <td>0.00000</td>\n",
       "      <td>0.089024</td>\n",
       "      <td>0.999123</td>\n",
       "      <td>15.733280</td>\n",
       "      <td>0.378523</td>\n",
       "      <td>0.85600</td>\n",
       "      <td>65.74080</td>\n",
       "      <td>3.578080</td>\n",
       "      <td>67.738704</td>\n",
       "      <td>3.194592</td>\n",
       "      <td>0.0</td>\n",
       "      <td>0.0</td>\n",
       "      <td>0.0</td>\n",
       "      <td>0.000</td>\n",
       "      <td>0.00</td>\n",
       "      <td>0.0</td>\n",
       "      <td>0.000</td>\n",
       "      <td>0.0</td>\n",
       "      <td>0.0</td>\n",
       "      <td>0.0</td>\n",
       "      <td>0.0</td>\n",
       "      <td>0.0</td>\n",
       "      <td>73.2736</td>\n",
       "      <td>0.00</td>\n",
       "      <td>4.451200</td>\n",
       "      <td>49.95616</td>\n",
       "      <td>786.664</td>\n",
       "      <td>18.926160</td>\n",
       "      <td>42.80</td>\n",
       "      <td>3287.04</td>\n",
       "      <td>178.904</td>\n",
       "      <td>3386.9352</td>\n",
       "      <td>159.7296</td>\n",
       "      <td>0.0</td>\n",
       "      <td>0.000</td>\n",
       "      <td>0.000</td>\n",
       "      <td>0.0</td>\n",
       "      <td>0.0000</td>\n",
       "      <td>0.0</td>\n",
       "      <td>0.0</td>\n",
       "      <td>0.0</td>\n",
       "      <td>0.00</td>\n",
       "      <td>0.00</td>\n",
       "      <td>0.270400</td>\n",
       "      <td>3.034720</td>\n",
       "      <td>47.78800</td>\n",
       "      <td>1.149720</td>\n",
       "      <td>2.6000</td>\n",
       "      <td>199.6800</td>\n",
       "      <td>10.86800</td>\n",
       "      <td>205.748400</td>\n",
       "      <td>9.703200</td>\n",
       "      <td>34.058896</td>\n",
       "      <td>536.3284</td>\n",
       "      <td>12.903396</td>\n",
       "      <td>29.180</td>\n",
       "      <td>2241.024</td>\n",
       "      <td>121.9724</td>\n",
       "      <td>2309.13012</td>\n",
       "      <td>108.89976</td>\n",
       "      <td>8445.61</td>\n",
       "      <td>203.19090</td>\n",
       "      <td>459.5</td>\n",
       "      <td>35289.6</td>\n",
       "      <td>1920.71</td>\n",
       "      <td>36362.073</td>\n",
       "      <td>1714.854</td>\n",
       "      <td>4.888521</td>\n",
       "      <td>11.0550</td>\n",
       "      <td>849.0240</td>\n",
       "      <td>46.20990</td>\n",
       "      <td>874.826370</td>\n",
       "      <td>41.257260</td>\n",
       "      <td>25.0</td>\n",
       "      <td>1920.0</td>\n",
       "      <td>104.5</td>\n",
       "      <td>1978.35</td>\n",
       "      <td>93.30</td>\n",
       "      <td>147456.0</td>\n",
       "      <td>8025.6</td>\n",
       "      <td>151937.28</td>\n",
       "      <td>7165.44</td>\n",
       "      <td>436.81</td>\n",
       "      <td>8269.503</td>\n",
       "      <td>389.994</td>\n",
       "      <td>156554.7489</td>\n",
       "      <td>7383.2022</td>\n",
       "      <td>348.1956</td>\n",
       "    </tr>\n",
       "    <tr>\n",
       "      <th>375</th>\n",
       "      <td>0.29916</td>\n",
       "      <td>20.0</td>\n",
       "      <td>6.96</td>\n",
       "      <td>0.0</td>\n",
       "      <td>0.4640</td>\n",
       "      <td>5.856</td>\n",
       "      <td>42.1</td>\n",
       "      <td>4.4290</td>\n",
       "      <td>3.0</td>\n",
       "      <td>223.0</td>\n",
       "      <td>18.6</td>\n",
       "      <td>388.65</td>\n",
       "      <td>13.00</td>\n",
       "      <td>0.089497</td>\n",
       "      <td>5.9832</td>\n",
       "      <td>2.082154</td>\n",
       "      <td>0.00000</td>\n",
       "      <td>0.138810</td>\n",
       "      <td>1.751881</td>\n",
       "      <td>12.594636</td>\n",
       "      <td>1.324980</td>\n",
       "      <td>0.89748</td>\n",
       "      <td>66.71268</td>\n",
       "      <td>5.564376</td>\n",
       "      <td>116.268534</td>\n",
       "      <td>3.889080</td>\n",
       "      <td>400.0</td>\n",
       "      <td>139.2</td>\n",
       "      <td>0.0</td>\n",
       "      <td>9.280</td>\n",
       "      <td>117.12</td>\n",
       "      <td>842.0</td>\n",
       "      <td>88.580</td>\n",
       "      <td>60.0</td>\n",
       "      <td>4460.0</td>\n",
       "      <td>372.0</td>\n",
       "      <td>7773.0</td>\n",
       "      <td>260.0</td>\n",
       "      <td>48.4416</td>\n",
       "      <td>0.00</td>\n",
       "      <td>3.229440</td>\n",
       "      <td>40.75776</td>\n",
       "      <td>293.016</td>\n",
       "      <td>30.825840</td>\n",
       "      <td>20.88</td>\n",
       "      <td>1552.08</td>\n",
       "      <td>129.456</td>\n",
       "      <td>2705.0040</td>\n",
       "      <td>90.4800</td>\n",
       "      <td>0.0</td>\n",
       "      <td>0.000</td>\n",
       "      <td>0.000</td>\n",
       "      <td>0.0</td>\n",
       "      <td>0.0000</td>\n",
       "      <td>0.0</td>\n",
       "      <td>0.0</td>\n",
       "      <td>0.0</td>\n",
       "      <td>0.00</td>\n",
       "      <td>0.00</td>\n",
       "      <td>0.215296</td>\n",
       "      <td>2.717184</td>\n",
       "      <td>19.53440</td>\n",
       "      <td>2.055056</td>\n",
       "      <td>1.3920</td>\n",
       "      <td>103.4720</td>\n",
       "      <td>8.63040</td>\n",
       "      <td>180.333600</td>\n",
       "      <td>6.032000</td>\n",
       "      <td>34.292736</td>\n",
       "      <td>246.5376</td>\n",
       "      <td>25.936224</td>\n",
       "      <td>17.568</td>\n",
       "      <td>1305.888</td>\n",
       "      <td>108.9216</td>\n",
       "      <td>2275.93440</td>\n",
       "      <td>76.12800</td>\n",
       "      <td>1772.41</td>\n",
       "      <td>186.46090</td>\n",
       "      <td>126.3</td>\n",
       "      <td>9388.3</td>\n",
       "      <td>783.06</td>\n",
       "      <td>16362.165</td>\n",
       "      <td>547.300</td>\n",
       "      <td>19.616041</td>\n",
       "      <td>13.2870</td>\n",
       "      <td>987.6670</td>\n",
       "      <td>82.37940</td>\n",
       "      <td>1721.330850</td>\n",
       "      <td>57.577000</td>\n",
       "      <td>9.0</td>\n",
       "      <td>669.0</td>\n",
       "      <td>55.8</td>\n",
       "      <td>1165.95</td>\n",
       "      <td>39.00</td>\n",
       "      <td>49729.0</td>\n",
       "      <td>4147.8</td>\n",
       "      <td>86668.95</td>\n",
       "      <td>2899.00</td>\n",
       "      <td>345.96</td>\n",
       "      <td>7228.890</td>\n",
       "      <td>241.800</td>\n",
       "      <td>151048.8225</td>\n",
       "      <td>5052.4500</td>\n",
       "      <td>169.0000</td>\n",
       "    </tr>\n",
       "    <tr>\n",
       "      <th>376</th>\n",
       "      <td>0.01501</td>\n",
       "      <td>80.0</td>\n",
       "      <td>2.01</td>\n",
       "      <td>0.0</td>\n",
       "      <td>0.4350</td>\n",
       "      <td>6.635</td>\n",
       "      <td>29.7</td>\n",
       "      <td>8.3440</td>\n",
       "      <td>4.0</td>\n",
       "      <td>280.0</td>\n",
       "      <td>17.0</td>\n",
       "      <td>390.94</td>\n",
       "      <td>5.99</td>\n",
       "      <td>0.000225</td>\n",
       "      <td>1.2008</td>\n",
       "      <td>0.030170</td>\n",
       "      <td>0.00000</td>\n",
       "      <td>0.006529</td>\n",
       "      <td>0.099591</td>\n",
       "      <td>0.445797</td>\n",
       "      <td>0.125243</td>\n",
       "      <td>0.06004</td>\n",
       "      <td>4.20280</td>\n",
       "      <td>0.255170</td>\n",
       "      <td>5.868009</td>\n",
       "      <td>0.089910</td>\n",
       "      <td>6400.0</td>\n",
       "      <td>160.8</td>\n",
       "      <td>0.0</td>\n",
       "      <td>34.800</td>\n",
       "      <td>530.80</td>\n",
       "      <td>2376.0</td>\n",
       "      <td>667.520</td>\n",
       "      <td>320.0</td>\n",
       "      <td>22400.0</td>\n",
       "      <td>1360.0</td>\n",
       "      <td>31275.2</td>\n",
       "      <td>479.2</td>\n",
       "      <td>4.0401</td>\n",
       "      <td>0.00</td>\n",
       "      <td>0.874350</td>\n",
       "      <td>13.33635</td>\n",
       "      <td>59.697</td>\n",
       "      <td>16.771440</td>\n",
       "      <td>8.04</td>\n",
       "      <td>562.80</td>\n",
       "      <td>34.170</td>\n",
       "      <td>785.7894</td>\n",
       "      <td>12.0399</td>\n",
       "      <td>0.0</td>\n",
       "      <td>0.000</td>\n",
       "      <td>0.000</td>\n",
       "      <td>0.0</td>\n",
       "      <td>0.0000</td>\n",
       "      <td>0.0</td>\n",
       "      <td>0.0</td>\n",
       "      <td>0.0</td>\n",
       "      <td>0.00</td>\n",
       "      <td>0.00</td>\n",
       "      <td>0.189225</td>\n",
       "      <td>2.886225</td>\n",
       "      <td>12.91950</td>\n",
       "      <td>3.629640</td>\n",
       "      <td>1.7400</td>\n",
       "      <td>121.8000</td>\n",
       "      <td>7.39500</td>\n",
       "      <td>170.058900</td>\n",
       "      <td>2.605650</td>\n",
       "      <td>44.023225</td>\n",
       "      <td>197.0595</td>\n",
       "      <td>55.362440</td>\n",
       "      <td>26.540</td>\n",
       "      <td>1857.800</td>\n",
       "      <td>112.7950</td>\n",
       "      <td>2593.88690</td>\n",
       "      <td>39.74365</td>\n",
       "      <td>882.09</td>\n",
       "      <td>247.81680</td>\n",
       "      <td>118.8</td>\n",
       "      <td>8316.0</td>\n",
       "      <td>504.90</td>\n",
       "      <td>11610.918</td>\n",
       "      <td>177.903</td>\n",
       "      <td>69.622336</td>\n",
       "      <td>33.3760</td>\n",
       "      <td>2336.3200</td>\n",
       "      <td>141.84800</td>\n",
       "      <td>3262.003360</td>\n",
       "      <td>49.980560</td>\n",
       "      <td>16.0</td>\n",
       "      <td>1120.0</td>\n",
       "      <td>68.0</td>\n",
       "      <td>1563.76</td>\n",
       "      <td>23.96</td>\n",
       "      <td>78400.0</td>\n",
       "      <td>4760.0</td>\n",
       "      <td>109463.20</td>\n",
       "      <td>1677.20</td>\n",
       "      <td>289.00</td>\n",
       "      <td>6645.980</td>\n",
       "      <td>101.830</td>\n",
       "      <td>152834.0836</td>\n",
       "      <td>2341.7306</td>\n",
       "      <td>35.8801</td>\n",
       "    </tr>\n",
       "    <tr>\n",
       "      <th>377</th>\n",
       "      <td>11.16040</td>\n",
       "      <td>0.0</td>\n",
       "      <td>18.10</td>\n",
       "      <td>0.0</td>\n",
       "      <td>0.7400</td>\n",
       "      <td>6.629</td>\n",
       "      <td>94.6</td>\n",
       "      <td>2.1247</td>\n",
       "      <td>24.0</td>\n",
       "      <td>666.0</td>\n",
       "      <td>20.2</td>\n",
       "      <td>109.85</td>\n",
       "      <td>23.27</td>\n",
       "      <td>124.554528</td>\n",
       "      <td>0.0000</td>\n",
       "      <td>202.003240</td>\n",
       "      <td>0.00000</td>\n",
       "      <td>8.258696</td>\n",
       "      <td>73.982292</td>\n",
       "      <td>1055.773840</td>\n",
       "      <td>23.712502</td>\n",
       "      <td>267.84960</td>\n",
       "      <td>7432.82640</td>\n",
       "      <td>225.440080</td>\n",
       "      <td>1225.969940</td>\n",
       "      <td>259.702508</td>\n",
       "      <td>0.0</td>\n",
       "      <td>0.0</td>\n",
       "      <td>0.0</td>\n",
       "      <td>0.000</td>\n",
       "      <td>0.00</td>\n",
       "      <td>0.0</td>\n",
       "      <td>0.000</td>\n",
       "      <td>0.0</td>\n",
       "      <td>0.0</td>\n",
       "      <td>0.0</td>\n",
       "      <td>0.0</td>\n",
       "      <td>0.0</td>\n",
       "      <td>327.6100</td>\n",
       "      <td>0.00</td>\n",
       "      <td>13.394000</td>\n",
       "      <td>119.98490</td>\n",
       "      <td>1712.260</td>\n",
       "      <td>38.457070</td>\n",
       "      <td>434.40</td>\n",
       "      <td>12054.60</td>\n",
       "      <td>365.620</td>\n",
       "      <td>1988.2850</td>\n",
       "      <td>421.1870</td>\n",
       "      <td>0.0</td>\n",
       "      <td>0.000</td>\n",
       "      <td>0.000</td>\n",
       "      <td>0.0</td>\n",
       "      <td>0.0000</td>\n",
       "      <td>0.0</td>\n",
       "      <td>0.0</td>\n",
       "      <td>0.0</td>\n",
       "      <td>0.00</td>\n",
       "      <td>0.00</td>\n",
       "      <td>0.547600</td>\n",
       "      <td>4.905460</td>\n",
       "      <td>70.00400</td>\n",
       "      <td>1.572278</td>\n",
       "      <td>17.7600</td>\n",
       "      <td>492.8400</td>\n",
       "      <td>14.94800</td>\n",
       "      <td>81.289000</td>\n",
       "      <td>17.219800</td>\n",
       "      <td>43.943641</td>\n",
       "      <td>627.1034</td>\n",
       "      <td>14.084636</td>\n",
       "      <td>159.096</td>\n",
       "      <td>4414.914</td>\n",
       "      <td>133.9058</td>\n",
       "      <td>728.19565</td>\n",
       "      <td>154.25683</td>\n",
       "      <td>8949.16</td>\n",
       "      <td>200.99662</td>\n",
       "      <td>2270.4</td>\n",
       "      <td>63003.6</td>\n",
       "      <td>1910.92</td>\n",
       "      <td>10391.810</td>\n",
       "      <td>2201.342</td>\n",
       "      <td>4.514350</td>\n",
       "      <td>50.9928</td>\n",
       "      <td>1415.0502</td>\n",
       "      <td>42.91894</td>\n",
       "      <td>233.398295</td>\n",
       "      <td>49.441769</td>\n",
       "      <td>576.0</td>\n",
       "      <td>15984.0</td>\n",
       "      <td>484.8</td>\n",
       "      <td>2636.40</td>\n",
       "      <td>558.48</td>\n",
       "      <td>443556.0</td>\n",
       "      <td>13453.2</td>\n",
       "      <td>73160.10</td>\n",
       "      <td>15497.82</td>\n",
       "      <td>408.04</td>\n",
       "      <td>2218.970</td>\n",
       "      <td>470.054</td>\n",
       "      <td>12067.0225</td>\n",
       "      <td>2556.2095</td>\n",
       "      <td>541.4929</td>\n",
       "    </tr>\n",
       "    <tr>\n",
       "      <th>378</th>\n",
       "      <td>0.22876</td>\n",
       "      <td>0.0</td>\n",
       "      <td>8.56</td>\n",
       "      <td>0.0</td>\n",
       "      <td>0.5200</td>\n",
       "      <td>6.405</td>\n",
       "      <td>85.4</td>\n",
       "      <td>2.7147</td>\n",
       "      <td>5.0</td>\n",
       "      <td>384.0</td>\n",
       "      <td>20.9</td>\n",
       "      <td>70.80</td>\n",
       "      <td>10.63</td>\n",
       "      <td>0.052331</td>\n",
       "      <td>0.0000</td>\n",
       "      <td>1.958186</td>\n",
       "      <td>0.00000</td>\n",
       "      <td>0.118955</td>\n",
       "      <td>1.465208</td>\n",
       "      <td>19.536104</td>\n",
       "      <td>0.621015</td>\n",
       "      <td>1.14380</td>\n",
       "      <td>87.84384</td>\n",
       "      <td>4.781084</td>\n",
       "      <td>16.196208</td>\n",
       "      <td>2.431719</td>\n",
       "      <td>0.0</td>\n",
       "      <td>0.0</td>\n",
       "      <td>0.0</td>\n",
       "      <td>0.000</td>\n",
       "      <td>0.00</td>\n",
       "      <td>0.0</td>\n",
       "      <td>0.000</td>\n",
       "      <td>0.0</td>\n",
       "      <td>0.0</td>\n",
       "      <td>0.0</td>\n",
       "      <td>0.0</td>\n",
       "      <td>0.0</td>\n",
       "      <td>73.2736</td>\n",
       "      <td>0.00</td>\n",
       "      <td>4.451200</td>\n",
       "      <td>54.82680</td>\n",
       "      <td>731.024</td>\n",
       "      <td>23.237832</td>\n",
       "      <td>42.80</td>\n",
       "      <td>3287.04</td>\n",
       "      <td>178.904</td>\n",
       "      <td>606.0480</td>\n",
       "      <td>90.9928</td>\n",
       "      <td>0.0</td>\n",
       "      <td>0.000</td>\n",
       "      <td>0.000</td>\n",
       "      <td>0.0</td>\n",
       "      <td>0.0000</td>\n",
       "      <td>0.0</td>\n",
       "      <td>0.0</td>\n",
       "      <td>0.0</td>\n",
       "      <td>0.00</td>\n",
       "      <td>0.00</td>\n",
       "      <td>0.270400</td>\n",
       "      <td>3.330600</td>\n",
       "      <td>44.40800</td>\n",
       "      <td>1.411644</td>\n",
       "      <td>2.6000</td>\n",
       "      <td>199.6800</td>\n",
       "      <td>10.86800</td>\n",
       "      <td>36.816000</td>\n",
       "      <td>5.527600</td>\n",
       "      <td>41.024025</td>\n",
       "      <td>546.9870</td>\n",
       "      <td>17.387654</td>\n",
       "      <td>32.025</td>\n",
       "      <td>2459.520</td>\n",
       "      <td>133.8645</td>\n",
       "      <td>453.47400</td>\n",
       "      <td>68.08515</td>\n",
       "      <td>7293.16</td>\n",
       "      <td>231.83538</td>\n",
       "      <td>427.0</td>\n",
       "      <td>32793.6</td>\n",
       "      <td>1784.86</td>\n",
       "      <td>6046.320</td>\n",
       "      <td>907.802</td>\n",
       "      <td>7.369596</td>\n",
       "      <td>13.5735</td>\n",
       "      <td>1042.4448</td>\n",
       "      <td>56.73723</td>\n",
       "      <td>192.200760</td>\n",
       "      <td>28.857261</td>\n",
       "      <td>25.0</td>\n",
       "      <td>1920.0</td>\n",
       "      <td>104.5</td>\n",
       "      <td>354.00</td>\n",
       "      <td>53.15</td>\n",
       "      <td>147456.0</td>\n",
       "      <td>8025.6</td>\n",
       "      <td>27187.20</td>\n",
       "      <td>4081.92</td>\n",
       "      <td>436.81</td>\n",
       "      <td>1479.720</td>\n",
       "      <td>222.167</td>\n",
       "      <td>5012.6400</td>\n",
       "      <td>752.6040</td>\n",
       "      <td>112.9969</td>\n",
       "    </tr>\n",
       "  </tbody>\n",
       "</table>\n",
       "<p>379 rows × 104 columns</p>\n",
       "</div>"
      ],
      "text/plain": [
       "         CRIM    ZN  INDUS  CHAS     NOX     RM   AGE     DIS   RAD    TAX  \\\n",
       "0     0.09103   0.0   2.46   0.0  0.4880  7.155  92.2  2.7006   3.0  193.0   \n",
       "1     3.53501   0.0  19.58   1.0  0.8710  6.152  82.6  1.7455   5.0  403.0   \n",
       "2     0.03578  20.0   3.33   0.0  0.4429  7.820  64.5  4.6947   5.0  216.0   \n",
       "3     0.38735   0.0  25.65   0.0  0.5810  5.613  95.6  1.7572   2.0  188.0   \n",
       "4     0.06724   0.0   3.24   0.0  0.4600  6.333  17.2  5.2146   4.0  430.0   \n",
       "..        ...   ...    ...   ...     ...    ...   ...     ...   ...    ...   \n",
       "374   0.17120   0.0   8.56   0.0  0.5200  5.836  91.9  2.2110   5.0  384.0   \n",
       "375   0.29916  20.0   6.96   0.0  0.4640  5.856  42.1  4.4290   3.0  223.0   \n",
       "376   0.01501  80.0   2.01   0.0  0.4350  6.635  29.7  8.3440   4.0  280.0   \n",
       "377  11.16040   0.0  18.10   0.0  0.7400  6.629  94.6  2.1247  24.0  666.0   \n",
       "378   0.22876   0.0   8.56   0.0  0.5200  6.405  85.4  2.7147   5.0  384.0   \n",
       "\n",
       "     PTRATIO       B  LSTAT      CRIM^2  CRIM ZN  CRIM INDUS  CRIM CHAS  \\\n",
       "0       17.8  394.12   4.82    0.008286   0.0000    0.223934    0.00000   \n",
       "1       14.7   88.01  15.02   12.496296   0.0000   69.215496    3.53501   \n",
       "2       14.9  387.31   3.76    0.001280   0.7156    0.119147    0.00000   \n",
       "3       19.1  359.29  27.26    0.150040   0.0000    9.935528    0.00000   \n",
       "4       16.9  375.21   7.34    0.004521   0.0000    0.217858    0.00000   \n",
       "..       ...     ...    ...         ...      ...         ...        ...   \n",
       "374     20.9  395.67  18.66    0.029309   0.0000    1.465472    0.00000   \n",
       "375     18.6  388.65  13.00    0.089497   5.9832    2.082154    0.00000   \n",
       "376     17.0  390.94   5.99    0.000225   1.2008    0.030170    0.00000   \n",
       "377     20.2  109.85  23.27  124.554528   0.0000  202.003240    0.00000   \n",
       "378     20.9   70.80  10.63    0.052331   0.0000    1.958186    0.00000   \n",
       "\n",
       "     CRIM NOX    CRIM RM     CRIM AGE   CRIM DIS   CRIM RAD    CRIM TAX  \\\n",
       "0    0.044423   0.651320     8.392966   0.245836    0.27309    17.56879   \n",
       "1    3.078994  21.747382   291.991826   6.170360   17.67505  1424.60903   \n",
       "2    0.015847   0.279800     2.307810   0.167976    0.17890     7.72848   \n",
       "3    0.225050   2.174196    37.030660   0.680651    0.77470    72.82180   \n",
       "4    0.030930   0.425831     1.156528   0.350630    0.26896    28.91320   \n",
       "..        ...        ...          ...        ...        ...         ...   \n",
       "374  0.089024   0.999123    15.733280   0.378523    0.85600    65.74080   \n",
       "375  0.138810   1.751881    12.594636   1.324980    0.89748    66.71268   \n",
       "376  0.006529   0.099591     0.445797   0.125243    0.06004     4.20280   \n",
       "377  8.258696  73.982292  1055.773840  23.712502  267.84960  7432.82640   \n",
       "378  0.118955   1.465208    19.536104   0.621015    1.14380    87.84384   \n",
       "\n",
       "     CRIM PTRATIO       CRIM B  CRIM LSTAT    ZN^2  ZN INDUS  ZN CHAS  ZN NOX  \\\n",
       "0        1.620334    35.876744    0.438765     0.0       0.0      0.0   0.000   \n",
       "1       51.964647   311.116230   53.095850     0.0       0.0      0.0   0.000   \n",
       "2        0.533122    13.857952    0.134533   400.0      66.6      0.0   8.858   \n",
       "3        7.398385   139.170982   10.559161     0.0       0.0      0.0   0.000   \n",
       "4        1.136356    25.229120    0.493542     0.0       0.0      0.0   0.000   \n",
       "..            ...          ...         ...     ...       ...      ...     ...   \n",
       "374      3.578080    67.738704    3.194592     0.0       0.0      0.0   0.000   \n",
       "375      5.564376   116.268534    3.889080   400.0     139.2      0.0   9.280   \n",
       "376      0.255170     5.868009    0.089910  6400.0     160.8      0.0  34.800   \n",
       "377    225.440080  1225.969940  259.702508     0.0       0.0      0.0   0.000   \n",
       "378      4.781084    16.196208    2.431719     0.0       0.0      0.0   0.000   \n",
       "\n",
       "      ZN RM  ZN AGE   ZN DIS  ZN RAD   ZN TAX  ZN PTRATIO     ZN B  ZN LSTAT  \\\n",
       "0      0.00     0.0    0.000     0.0      0.0         0.0      0.0       0.0   \n",
       "1      0.00     0.0    0.000     0.0      0.0         0.0      0.0       0.0   \n",
       "2    156.40  1290.0   93.894   100.0   4320.0       298.0   7746.2      75.2   \n",
       "3      0.00     0.0    0.000     0.0      0.0         0.0      0.0       0.0   \n",
       "4      0.00     0.0    0.000     0.0      0.0         0.0      0.0       0.0   \n",
       "..      ...     ...      ...     ...      ...         ...      ...       ...   \n",
       "374    0.00     0.0    0.000     0.0      0.0         0.0      0.0       0.0   \n",
       "375  117.12   842.0   88.580    60.0   4460.0       372.0   7773.0     260.0   \n",
       "376  530.80  2376.0  667.520   320.0  22400.0      1360.0  31275.2     479.2   \n",
       "377    0.00     0.0    0.000     0.0      0.0         0.0      0.0       0.0   \n",
       "378    0.00     0.0    0.000     0.0      0.0         0.0      0.0       0.0   \n",
       "\n",
       "      INDUS^2  INDUS CHAS  INDUS NOX   INDUS RM  INDUS AGE  INDUS DIS  \\\n",
       "0      6.0516        0.00   1.200480   17.60130    226.812   6.643476   \n",
       "1    383.3764       19.58  17.054180  120.45616   1617.308  34.176890   \n",
       "2     11.0889        0.00   1.474857   26.04060    214.785  15.633351   \n",
       "3    657.9225        0.00  14.902650  143.97345   2452.140  45.072180   \n",
       "4     10.4976        0.00   1.490400   20.51892     55.728  16.895304   \n",
       "..        ...         ...        ...        ...        ...        ...   \n",
       "374   73.2736        0.00   4.451200   49.95616    786.664  18.926160   \n",
       "375   48.4416        0.00   3.229440   40.75776    293.016  30.825840   \n",
       "376    4.0401        0.00   0.874350   13.33635     59.697  16.771440   \n",
       "377  327.6100        0.00  13.394000  119.98490   1712.260  38.457070   \n",
       "378   73.2736        0.00   4.451200   54.82680    731.024  23.237832   \n",
       "\n",
       "     INDUS RAD  INDUS TAX  INDUS PTRATIO    INDUS B  INDUS LSTAT  CHAS^2  \\\n",
       "0         7.38     474.78         43.788   969.5352      11.8572     0.0   \n",
       "1        97.90    7890.74        287.826  1723.2358     294.0916     1.0   \n",
       "2        16.65     719.28         49.617  1289.7423      12.5208     0.0   \n",
       "3        51.30    4822.20        489.915  9215.7885     699.2190     0.0   \n",
       "4        12.96    1393.20         54.756  1215.6804      23.7816     0.0   \n",
       "..         ...        ...            ...        ...          ...     ...   \n",
       "374      42.80    3287.04        178.904  3386.9352     159.7296     0.0   \n",
       "375      20.88    1552.08        129.456  2705.0040      90.4800     0.0   \n",
       "376       8.04     562.80         34.170   785.7894      12.0399     0.0   \n",
       "377     434.40   12054.60        365.620  1988.2850     421.1870     0.0   \n",
       "378      42.80    3287.04        178.904   606.0480      90.9928     0.0   \n",
       "\n",
       "     CHAS NOX  CHAS RM  CHAS AGE  CHAS DIS  CHAS RAD  CHAS TAX  CHAS PTRATIO  \\\n",
       "0       0.000    0.000       0.0    0.0000       0.0       0.0           0.0   \n",
       "1       0.871    6.152      82.6    1.7455       5.0     403.0          14.7   \n",
       "2       0.000    0.000       0.0    0.0000       0.0       0.0           0.0   \n",
       "3       0.000    0.000       0.0    0.0000       0.0       0.0           0.0   \n",
       "4       0.000    0.000       0.0    0.0000       0.0       0.0           0.0   \n",
       "..        ...      ...       ...       ...       ...       ...           ...   \n",
       "374     0.000    0.000       0.0    0.0000       0.0       0.0           0.0   \n",
       "375     0.000    0.000       0.0    0.0000       0.0       0.0           0.0   \n",
       "376     0.000    0.000       0.0    0.0000       0.0       0.0           0.0   \n",
       "377     0.000    0.000       0.0    0.0000       0.0       0.0           0.0   \n",
       "378     0.000    0.000       0.0    0.0000       0.0       0.0           0.0   \n",
       "\n",
       "     CHAS B  CHAS LSTAT     NOX^2    NOX RM   NOX AGE   NOX DIS  NOX RAD  \\\n",
       "0      0.00        0.00  0.238144  3.491640  44.99360  1.317893   1.4640   \n",
       "1     88.01       15.02  0.758641  5.358392  71.94460  1.520331   4.3550   \n",
       "2      0.00        0.00  0.196160  3.463478  28.56705  2.079283   2.2145   \n",
       "3      0.00        0.00  0.337561  3.261153  55.54360  1.020933   1.1620   \n",
       "4      0.00        0.00  0.211600  2.913180   7.91200  2.398716   1.8400   \n",
       "..      ...         ...       ...       ...       ...       ...      ...   \n",
       "374    0.00        0.00  0.270400  3.034720  47.78800  1.149720   2.6000   \n",
       "375    0.00        0.00  0.215296  2.717184  19.53440  2.055056   1.3920   \n",
       "376    0.00        0.00  0.189225  2.886225  12.91950  3.629640   1.7400   \n",
       "377    0.00        0.00  0.547600  4.905460  70.00400  1.572278  17.7600   \n",
       "378    0.00        0.00  0.270400  3.330600  44.40800  1.411644   2.6000   \n",
       "\n",
       "      NOX TAX  NOX PTRATIO       NOX B  NOX LSTAT       RM^2    RM AGE  \\\n",
       "0     94.1840      8.68640  192.330560   2.352160  51.194025  659.6910   \n",
       "1    351.0130     12.80370   76.656710  13.082420  37.847104  508.1552   \n",
       "2     95.6664      6.59921  171.539599   1.665304  61.152400  504.3900   \n",
       "3    109.2280     11.09710  208.747490  15.838060  31.505769  536.6028   \n",
       "4    197.8000      7.77400  172.596600   3.376400  40.106889  108.9276   \n",
       "..        ...          ...         ...        ...        ...       ...   \n",
       "374  199.6800     10.86800  205.748400   9.703200  34.058896  536.3284   \n",
       "375  103.4720      8.63040  180.333600   6.032000  34.292736  246.5376   \n",
       "376  121.8000      7.39500  170.058900   2.605650  44.023225  197.0595   \n",
       "377  492.8400     14.94800   81.289000  17.219800  43.943641  627.1034   \n",
       "378  199.6800     10.86800   36.816000   5.527600  41.024025  546.9870   \n",
       "\n",
       "        RM DIS   RM RAD    RM TAX  RM PTRATIO        RM B   RM LSTAT    AGE^2  \\\n",
       "0    19.322793   21.465  1380.915    127.3590  2819.92860   34.48710  8500.84   \n",
       "1    10.738316   30.760  2479.256     90.4344   541.43752   92.40304  6822.76   \n",
       "2    36.712554   39.100  1689.120    116.5180  3028.76420   29.40320  4160.25   \n",
       "3     9.863164   11.226  1055.244    107.2083  2016.69477  153.01038  9139.36   \n",
       "4    33.024062   25.332  2723.190    107.0277  2376.20493   46.48422   295.84   \n",
       "..         ...      ...       ...         ...         ...        ...      ...   \n",
       "374  12.903396   29.180  2241.024    121.9724  2309.13012  108.89976  8445.61   \n",
       "375  25.936224   17.568  1305.888    108.9216  2275.93440   76.12800  1772.41   \n",
       "376  55.362440   26.540  1857.800    112.7950  2593.88690   39.74365   882.09   \n",
       "377  14.084636  159.096  4414.914    133.9058   728.19565  154.25683  8949.16   \n",
       "378  17.387654   32.025  2459.520    133.8645   453.47400   68.08515  7293.16   \n",
       "\n",
       "       AGE DIS  AGE RAD  AGE TAX  AGE PTRATIO      AGE B  AGE LSTAT  \\\n",
       "0    248.99532    276.6  17794.6      1641.16  36337.864    444.404   \n",
       "1    144.17830    413.0  33287.8      1214.22   7269.626   1240.652   \n",
       "2    302.80815    322.5  13932.0       961.05  24981.495    242.520   \n",
       "3    167.98832    191.2  17972.8      1825.96  34348.124   2606.056   \n",
       "4     89.69112     68.8   7396.0       290.68   6453.612    126.248   \n",
       "..         ...      ...      ...          ...        ...        ...   \n",
       "374  203.19090    459.5  35289.6      1920.71  36362.073   1714.854   \n",
       "375  186.46090    126.3   9388.3       783.06  16362.165    547.300   \n",
       "376  247.81680    118.8   8316.0       504.90  11610.918    177.903   \n",
       "377  200.99662   2270.4  63003.6      1910.92  10391.810   2201.342   \n",
       "378  231.83538    427.0  32793.6      1784.86   6046.320    907.802   \n",
       "\n",
       "         DIS^2  DIS RAD    DIS TAX  DIS PTRATIO        DIS B  DIS LSTAT  \\\n",
       "0     7.293240   8.1018   521.2158     48.07068  1064.360472  13.016892   \n",
       "1     3.046770   8.7275   703.4365     25.65885   153.621455  26.217410   \n",
       "2    22.040208  23.4735  1014.0552     69.95103  1818.304257  17.652072   \n",
       "3     3.087752   3.5144   330.3536     33.56252   631.344388  47.901272   \n",
       "4    27.192053  20.8584  2242.2780     88.12674  1956.570066  38.275164   \n",
       "..         ...      ...        ...          ...          ...        ...   \n",
       "374   4.888521  11.0550   849.0240     46.20990   874.826370  41.257260   \n",
       "375  19.616041  13.2870   987.6670     82.37940  1721.330850  57.577000   \n",
       "376  69.622336  33.3760  2336.3200    141.84800  3262.003360  49.980560   \n",
       "377   4.514350  50.9928  1415.0502     42.91894   233.398295  49.441769   \n",
       "378   7.369596  13.5735  1042.4448     56.73723   192.200760  28.857261   \n",
       "\n",
       "     RAD^2  RAD TAX  RAD PTRATIO    RAD B  RAD LSTAT     TAX^2  TAX PTRATIO  \\\n",
       "0      9.0    579.0         53.4  1182.36      14.46   37249.0       3435.4   \n",
       "1     25.0   2015.0         73.5   440.05      75.10  162409.0       5924.1   \n",
       "2     25.0   1080.0         74.5  1936.55      18.80   46656.0       3218.4   \n",
       "3      4.0    376.0         38.2   718.58      54.52   35344.0       3590.8   \n",
       "4     16.0   1720.0         67.6  1500.84      29.36  184900.0       7267.0   \n",
       "..     ...      ...          ...      ...        ...       ...          ...   \n",
       "374   25.0   1920.0        104.5  1978.35      93.30  147456.0       8025.6   \n",
       "375    9.0    669.0         55.8  1165.95      39.00   49729.0       4147.8   \n",
       "376   16.0   1120.0         68.0  1563.76      23.96   78400.0       4760.0   \n",
       "377  576.0  15984.0        484.8  2636.40     558.48  443556.0      13453.2   \n",
       "378   25.0   1920.0        104.5   354.00      53.15  147456.0       8025.6   \n",
       "\n",
       "         TAX B  TAX LSTAT  PTRATIO^2  PTRATIO B  PTRATIO LSTAT          B^2  \\\n",
       "0     76065.16     930.26     316.84   7015.336         85.796  155330.5744   \n",
       "1     35468.03    6053.06     216.09   1293.747        220.794    7745.7601   \n",
       "2     83658.96     812.16     222.01   5770.919         56.024  150009.0361   \n",
       "3     67546.52    5124.88     364.81   6862.439        520.666  129089.3041   \n",
       "4    161340.30    3156.20     285.61   6341.049        124.046  140782.5441   \n",
       "..         ...        ...        ...        ...            ...          ...   \n",
       "374  151937.28    7165.44     436.81   8269.503        389.994  156554.7489   \n",
       "375   86668.95    2899.00     345.96   7228.890        241.800  151048.8225   \n",
       "376  109463.20    1677.20     289.00   6645.980        101.830  152834.0836   \n",
       "377   73160.10   15497.82     408.04   2218.970        470.054   12067.0225   \n",
       "378   27187.20    4081.92     436.81   1479.720        222.167    5012.6400   \n",
       "\n",
       "       B LSTAT   LSTAT^2  \n",
       "0    1899.6584   23.2324  \n",
       "1    1321.9102  225.6004  \n",
       "2    1456.2856   14.1376  \n",
       "3    9794.2454  743.1076  \n",
       "4    2754.0414   53.8756  \n",
       "..         ...       ...  \n",
       "374  7383.2022  348.1956  \n",
       "375  5052.4500  169.0000  \n",
       "376  2341.7306   35.8801  \n",
       "377  2556.2095  541.4929  \n",
       "378   752.6040  112.9969  \n",
       "\n",
       "[379 rows x 104 columns]"
      ]
     },
     "execution_count": 81,
     "metadata": {},
     "output_type": "execute_result"
    }
   ],
   "source": [
    "# 데이터프레임으로 제작 후 데이터 확인\n",
    "pd.DataFrame(poly_X_train, columns=poly.get_feature_names_out())"
   ]
  },
  {
   "cell_type": "code",
   "execution_count": 83,
   "metadata": {
    "ExecuteTime": {
     "end_time": "2023-03-06T08:09:31.525842Z",
     "start_time": "2023-03-06T08:09:31.515449Z"
    }
   },
   "outputs": [],
   "source": [
    "# test 데이터 동일한 모델로 적용\n",
    "poly_X_test = poly.transform(X_test)"
   ]
  },
  {
   "cell_type": "code",
   "execution_count": 84,
   "metadata": {
    "ExecuteTime": {
     "end_time": "2023-03-06T08:16:38.191338Z",
     "start_time": "2023-03-06T08:16:38.184211Z"
    }
   },
   "outputs": [],
   "source": [
    "# 모델 정의\n",
    "poly_lasso = Lasso()"
   ]
  },
  {
   "cell_type": "code",
   "execution_count": 85,
   "metadata": {
    "ExecuteTime": {
     "end_time": "2023-03-06T08:17:11.483422Z",
     "start_time": "2023-03-06T08:17:11.430495Z"
    }
   },
   "outputs": [
    {
     "name": "stderr",
     "output_type": "stream",
     "text": [
      "/Users/byun/miniforge3/envs/main/lib/python3.8/site-packages/sklearn/linear_model/_coordinate_descent.py:648: ConvergenceWarning: Objective did not converge. You might want to increase the number of iterations, check the scale of the features or consider increasing regularisation. Duality gap: 2.113e+03, tolerance: 3.361e+00\n",
      "  model = cd_fast.enet_coordinate_descent(\n"
     ]
    },
    {
     "data": {
      "text/html": [
       "<style>#sk-container-id-7 {color: black;background-color: white;}#sk-container-id-7 pre{padding: 0;}#sk-container-id-7 div.sk-toggleable {background-color: white;}#sk-container-id-7 label.sk-toggleable__label {cursor: pointer;display: block;width: 100%;margin-bottom: 0;padding: 0.3em;box-sizing: border-box;text-align: center;}#sk-container-id-7 label.sk-toggleable__label-arrow:before {content: \"▸\";float: left;margin-right: 0.25em;color: #696969;}#sk-container-id-7 label.sk-toggleable__label-arrow:hover:before {color: black;}#sk-container-id-7 div.sk-estimator:hover label.sk-toggleable__label-arrow:before {color: black;}#sk-container-id-7 div.sk-toggleable__content {max-height: 0;max-width: 0;overflow: hidden;text-align: left;background-color: #f0f8ff;}#sk-container-id-7 div.sk-toggleable__content pre {margin: 0.2em;color: black;border-radius: 0.25em;background-color: #f0f8ff;}#sk-container-id-7 input.sk-toggleable__control:checked~div.sk-toggleable__content {max-height: 200px;max-width: 100%;overflow: auto;}#sk-container-id-7 input.sk-toggleable__control:checked~label.sk-toggleable__label-arrow:before {content: \"▾\";}#sk-container-id-7 div.sk-estimator input.sk-toggleable__control:checked~label.sk-toggleable__label {background-color: #d4ebff;}#sk-container-id-7 div.sk-label input.sk-toggleable__control:checked~label.sk-toggleable__label {background-color: #d4ebff;}#sk-container-id-7 input.sk-hidden--visually {border: 0;clip: rect(1px 1px 1px 1px);clip: rect(1px, 1px, 1px, 1px);height: 1px;margin: -1px;overflow: hidden;padding: 0;position: absolute;width: 1px;}#sk-container-id-7 div.sk-estimator {font-family: monospace;background-color: #f0f8ff;border: 1px dotted black;border-radius: 0.25em;box-sizing: border-box;margin-bottom: 0.5em;}#sk-container-id-7 div.sk-estimator:hover {background-color: #d4ebff;}#sk-container-id-7 div.sk-parallel-item::after {content: \"\";width: 100%;border-bottom: 1px solid gray;flex-grow: 1;}#sk-container-id-7 div.sk-label:hover label.sk-toggleable__label {background-color: #d4ebff;}#sk-container-id-7 div.sk-serial::before {content: \"\";position: absolute;border-left: 1px solid gray;box-sizing: border-box;top: 0;bottom: 0;left: 50%;z-index: 0;}#sk-container-id-7 div.sk-serial {display: flex;flex-direction: column;align-items: center;background-color: white;padding-right: 0.2em;padding-left: 0.2em;position: relative;}#sk-container-id-7 div.sk-item {position: relative;z-index: 1;}#sk-container-id-7 div.sk-parallel {display: flex;align-items: stretch;justify-content: center;background-color: white;position: relative;}#sk-container-id-7 div.sk-item::before, #sk-container-id-7 div.sk-parallel-item::before {content: \"\";position: absolute;border-left: 1px solid gray;box-sizing: border-box;top: 0;bottom: 0;left: 50%;z-index: -1;}#sk-container-id-7 div.sk-parallel-item {display: flex;flex-direction: column;z-index: 1;position: relative;background-color: white;}#sk-container-id-7 div.sk-parallel-item:first-child::after {align-self: flex-end;width: 50%;}#sk-container-id-7 div.sk-parallel-item:last-child::after {align-self: flex-start;width: 50%;}#sk-container-id-7 div.sk-parallel-item:only-child::after {width: 0;}#sk-container-id-7 div.sk-dashed-wrapped {border: 1px dashed gray;margin: 0 0.4em 0.5em 0.4em;box-sizing: border-box;padding-bottom: 0.4em;background-color: white;}#sk-container-id-7 div.sk-label label {font-family: monospace;font-weight: bold;display: inline-block;line-height: 1.2em;}#sk-container-id-7 div.sk-label-container {text-align: center;}#sk-container-id-7 div.sk-container {/* jupyter's `normalize.less` sets `[hidden] { display: none; }` but bootstrap.min.css set `[hidden] { display: none !important; }` so we also need the `!important` here to be able to override the default hidden behavior on the sphinx rendered scikit-learn.org. See: https://github.com/scikit-learn/scikit-learn/issues/21755 */display: inline-block !important;position: relative;}#sk-container-id-7 div.sk-text-repr-fallback {display: none;}</style><div id=\"sk-container-id-7\" class=\"sk-top-container\"><div class=\"sk-text-repr-fallback\"><pre>Lasso()</pre><b>In a Jupyter environment, please rerun this cell to show the HTML representation or trust the notebook. <br />On GitHub, the HTML representation is unable to render, please try loading this page with nbviewer.org.</b></div><div class=\"sk-container\" hidden><div class=\"sk-item\"><div class=\"sk-estimator sk-toggleable\"><input class=\"sk-toggleable__control sk-hidden--visually\" id=\"sk-estimator-id-7\" type=\"checkbox\" checked><label for=\"sk-estimator-id-7\" class=\"sk-toggleable__label sk-toggleable__label-arrow\">Lasso</label><div class=\"sk-toggleable__content\"><pre>Lasso()</pre></div></div></div></div></div>"
      ],
      "text/plain": [
       "Lasso()"
      ]
     },
     "execution_count": 85,
     "metadata": {},
     "output_type": "execute_result"
    }
   ],
   "source": [
    "# 모델 학습\n",
    "poly_lasso.fit(poly_X_train, y_train)"
   ]
  },
  {
   "cell_type": "code",
   "execution_count": 87,
   "metadata": {
    "ExecuteTime": {
     "end_time": "2023-03-06T08:18:50.672456Z",
     "start_time": "2023-03-06T08:18:50.631625Z"
    }
   },
   "outputs": [],
   "source": [
    "# 모델 예측\n",
    "poly_lasso_pred = poly_lasso.predict(poly_X_test)"
   ]
  },
  {
   "cell_type": "code",
   "execution_count": 88,
   "metadata": {
    "ExecuteTime": {
     "end_time": "2023-03-06T08:19:20.090752Z",
     "start_time": "2023-03-06T08:19:20.079857Z"
    }
   },
   "outputs": [
    {
     "name": "stdout",
     "output_type": "stream",
     "text": [
      "R2 score : 0.7997588192632024\n",
      "RMSE : 3.744638557853059\n",
      "MAE : 2.516960585613217\n"
     ]
    }
   ],
   "source": [
    "# 모델 평가\n",
    "print(f'R2 score : {r2_score(y_test, poly_lasso_pred)}')\n",
    "print(f'RMSE : {mean_squared_error(y_test, poly_lasso_pred, squared=False)}')\n",
    "print(f'MAE : {mean_absolute_error(y_test, poly_lasso_pred)}')"
   ]
  },
  {
   "cell_type": "code",
   "execution_count": null,
   "metadata": {},
   "outputs": [],
   "source": [
    "# 주의사항\n",
    "# y값에 영향을 주는 설명변수, 베타분석을 위해서는 사용이 조금 어렵습니다.\n",
    "# 다만 예측결과값이 가장 중요한 문제에서는 사용이 좋은 편입니다."
   ]
  },
  {
   "cell_type": "code",
   "execution_count": null,
   "metadata": {},
   "outputs": [],
   "source": [
    "'''\n",
    "rg-10\n",
    "R2 score : 0.6724237562438148\n",
    "RMSE : 4.789491484411076\n",
    "MAE : 3.094339596535893\n",
    "\n",
    "rg-1\n",
    "R2 score : 0.6789748327846079\n",
    "RMSE : 4.741357980709099\n",
    "MAE : 3.0503751260061756\n",
    "\n",
    "R2 score : 0.6844267283527123\n",
    "RMSE : 4.700924890603766\n",
    "MAE : 3.0609395954370378\n",
    "'''"
   ]
  },
  {
   "cell_type": "code",
   "execution_count": 89,
   "metadata": {
    "ExecuteTime": {
     "end_time": "2023-03-06T08:26:08.085148Z",
     "start_time": "2023-03-06T08:26:08.073149Z"
    },
    "scrolled": true
   },
   "outputs": [
    {
     "data": {
      "text/plain": [
       "array([ 0.00000000e+00, -0.00000000e+00,  0.00000000e+00, -0.00000000e+00,\n",
       "        0.00000000e+00,  0.00000000e+00,  0.00000000e+00, -0.00000000e+00,\n",
       "        0.00000000e+00,  1.85724975e-02, -0.00000000e+00,  0.00000000e+00,\n",
       "       -0.00000000e+00,  1.09650999e-03,  0.00000000e+00,  0.00000000e+00,\n",
       "        0.00000000e+00,  0.00000000e+00,  0.00000000e+00, -5.00922022e-03,\n",
       "       -0.00000000e+00, -1.45123361e-02,  6.16952538e-04,  0.00000000e+00,\n",
       "        2.87924346e-04,  4.45419582e-03,  2.51341144e-04,  0.00000000e+00,\n",
       "        0.00000000e+00,  0.00000000e+00,  3.08094641e-02,  7.98641460e-04,\n",
       "        0.00000000e+00, -8.76334490e-03,  5.13755593e-04,  4.58771356e-03,\n",
       "       -1.04208555e-03, -7.05058131e-03,  1.95980684e-02, -0.00000000e+00,\n",
       "       -0.00000000e+00,  0.00000000e+00,  4.53327230e-03, -0.00000000e+00,\n",
       "       -6.85141345e-02,  1.03255933e-03, -4.42510965e-02,  5.99690272e-04,\n",
       "       -2.74571828e-02, -0.00000000e+00, -0.00000000e+00, -0.00000000e+00,\n",
       "       -0.00000000e+00, -0.00000000e+00,  0.00000000e+00,  6.19842331e-03,\n",
       "        0.00000000e+00, -3.15408103e-03, -0.00000000e+00, -0.00000000e+00,\n",
       "        0.00000000e+00, -0.00000000e+00,  0.00000000e+00, -0.00000000e+00,\n",
       "       -1.92272378e-02, -0.00000000e+00, -8.17071687e-03,  0.00000000e+00,\n",
       "        2.24894561e-01,  1.40643942e-02,  0.00000000e+00, -1.25039306e-01,\n",
       "       -1.17113266e-02,  0.00000000e+00,  1.80336091e-02, -0.00000000e+00,\n",
       "       -4.59829123e-05,  9.41842497e-04, -1.66989514e-04,  2.34953554e-04,\n",
       "       -1.28820392e-03, -4.97214550e-04, -3.19934032e-03,  6.95853478e-02,\n",
       "       -0.00000000e+00, -1.37400973e-03,  0.00000000e+00, -3.82583857e-03,\n",
       "       -0.00000000e+00, -7.15812795e-03,  2.21175076e-03,  6.56950514e-02,\n",
       "        1.67344702e-04, -1.77701463e-02, -4.35826466e-05,  4.27600249e-03,\n",
       "       -3.92434801e-05, -1.27522349e-03, -3.28781608e-02, -1.88709688e-03,\n",
       "       -0.00000000e+00,  1.14547749e-05, -3.75120282e-04,  3.35644090e-02])"
      ]
     },
     "execution_count": 89,
     "metadata": {},
     "output_type": "execute_result"
    }
   ],
   "source": [
    "# 모델 계수 확인\n",
    "poly_lasso.coef_"
   ]
  },
  {
   "cell_type": "code",
   "execution_count": 90,
   "metadata": {
    "ExecuteTime": {
     "end_time": "2023-03-06T08:27:42.375446Z",
     "start_time": "2023-03-06T08:27:41.977478Z"
    }
   },
   "outputs": [
    {
     "data": {
      "image/png": "[encoded data removed]",
      "text/plain": [
       "<Figure size 1000x2000 with 1 Axes>"
      ]
     },
     "metadata": {},
     "output_type": "display_data"
    }
   ],
   "source": [
    "# 계수 플로팅\n",
    "plt.figure(figsize=(10, 20))\n",
    "plt.barh(poly.get_feature_names_out(), poly_lasso.coef_)\n",
    "plt.show()"
   ]
  }
 ],
 "metadata": {
  "kernelspec": {
   "display_name": "Python 3 (ipykernel)",
   "language": "python",
   "name": "python3"
  },
  "language_info": {
   "codemirror_mode": {
    "name": "ipython",
    "version": 3
   },
   "file_extension": ".py",
   "mimetype": "text/x-python",
   "name": "python",
   "nbconvert_exporter": "python",
   "pygments_lexer": "ipython3",
   "version": "3.8.12"
  },
  "toc": {
   "base_numbering": 1,
   "nav_menu": {},
   "number_sections": true,
   "sideBar": true,
   "skip_h1_title": true,
   "title_cell": "Table of Contents",
   "title_sidebar": "Contents",
   "toc_cell": false,
   "toc_position": {},
   "toc_section_display": true,
   "toc_window_display": false
  },
  "varInspector": {
   "cols": {
    "lenName": 16,
    "lenType": 16,
    "lenVar": 40
   },
   "kernels_config": {
    "python": {
     "delete_cmd_postfix": "",
     "delete_cmd_prefix": "del ",
     "library": "var_list.py",
     "varRefreshCmd": "print(var_dic_list())"
    },
    "r": {
     "delete_cmd_postfix": ") ",
     "delete_cmd_prefix": "rm(",
     "library": "var_list.r",
     "varRefreshCmd": "cat(var_dic_list()) "
    }
   },
   "types_to_exclude": [
    "module",
    "function",
    "builtin_function_or_method",
    "instance",
    "_Feature"
   ],
   "window_display": false
  }
 },
 "nbformat": 4,
 "nbformat_minor": 2
}
