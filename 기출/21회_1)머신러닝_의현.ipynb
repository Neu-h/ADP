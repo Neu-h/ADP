{
  "cells": [
    {
      "cell_type": "markdown",
      "metadata": {
        "id": "view-in-github",
        "colab_type": "text"
      },
      "source": [
        "<a href=\"https://colab.research.google.com/github/Neu-h/ADP/blob/main/%EF%BF%A621%ED%9A%8C%EA%B8%B0%EC%B6%9C(1)_%EC%9D%98%ED%98%84.ipynb\" target=\"_parent\"><img src=\"https://colab.research.google.com/assets/colab-badge.svg\" alt=\"Open In Colab\"/></a>"
      ]
    },
    {
      "cell_type": "markdown",
      "metadata": {
        "id": "0dvQ5oo-ZdU6"
      },
      "source": [
        "# 21회 기출문제 풀이 (1) \n",
        "\n",
        "## 머신 러닝 (50점)\n",
        "학생 성적에 관한 데이터세트 제공 394행짜리 소규모 데이터.\n",
        "\n",
        "1-1. 시각화 포함 탐색적 자료분석(EDA) <br>\n",
        "1-2. 결측치 식별하고 결측치를 예측하는 두 가지 방법 정도를 쓰고, 선택한 이유를 설명.<br>\n",
        "1-3. 범주형 변수 인코딩이 필요한 경우를 식별하고, 변환을 적용하시오. 선택한 이유를 설명.<br>\n"
      ]
    },
    {
      "cell_type": "markdown",
      "metadata": {
        "id": "b5wUuC8lZdVE"
      },
      "source": [
        "## 1-1. 시각화 포함 탐색적 자료분석(EDA)"
      ]
    },
    {
      "cell_type": "markdown",
      "metadata": {
        "id": "kKk0FVQMZdVI"
      },
      "source": [
        "1. 결측치 존재 여부 \n",
        "2. 데이터 타입 설명 \n",
        "3. 종속변수 분포 설명 \n",
        "4. 독립변수 상관관계 설명 \n",
        "5. 종속변수와 독립변수의 상관관계 설명 \n",
        "6. 유의할 점 (pandas_profiling의 warrning 값 설명) "
      ]
    },
    {
      "cell_type": "markdown",
      "metadata": {
        "id": "OHCbmeFFZdVJ"
      },
      "source": [
        "## 1-2. 결측치 식별하고 결측치를 예측하는 두 가지 방법 정도를 쓰고, 선택한 이유를 설명.\n",
        "\n",
        "## 1-3. 범주형 변수 인코딩이 필요한 경우를 식별하고, 변환을 적용하시오. 선택한 이유를 설명."
      ]
    }
  ],
  "metadata": {
    "kernelspec": {
      "display_name": "Python 3 (ipykernel)",
      "language": "python",
      "name": "python3"
    },
    "language_info": {
      "codemirror_mode": {
        "name": "ipython",
        "version": 3
      },
      "file_extension": ".py",
      "mimetype": "text/x-python",
      "name": "python",
      "nbconvert_exporter": "python",
      "pygments_lexer": "ipython3",
      "version": "3.7.10"
    },
    "toc": {
      "base_numbering": "17.1",
      "nav_menu": {},
      "number_sections": true,
      "sideBar": true,
      "skip_h1_title": false,
      "title_cell": "Table of Contents",
      "title_sidebar": "Contents",
      "toc_cell": false,
      "toc_position": {
        "height": "779px",
        "left": "120px",
        "top": "80px",
        "width": "165px"
      },
      "toc_section_display": true,
      "toc_window_display": false
    },
    "colab": {
      "provenance": [],
      "include_colab_link": true
    }
  },
  "nbformat": 4,
  "nbformat_minor": 0
}
